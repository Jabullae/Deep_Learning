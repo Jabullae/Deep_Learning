get_ipython().getoutput("pip install kaggle --upgrade")


! kaggle datasets download -d kneroma/tacotrashdataset


! unzip tacotrashdataset.zip


! jupyter notebook --NotebookApp.iopub_data_rate_limit=1.0e10


cd c:\dev\MLDL\미니프로젝트


import json
with open('C:/dev/MLDL/미니프로젝트/data/annotations.json', 'r') as f:
    json_data = json.loads(f.read())
print(json_data)


import pandas as pd

csv_file = pd.read_csv('C:/dev/MLDL/미니프로젝트/meta_df.csv')
csv_file


import matplotlib as mpl
import matplotlib.pyplot as plt


plt.hist(pd.DataFrame(csv_file['cat_id'].value_counts()))


csv_file[]
