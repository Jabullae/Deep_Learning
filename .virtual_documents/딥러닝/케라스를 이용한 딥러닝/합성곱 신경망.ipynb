from tensorflow import keras
from tensorflow.keras import layers

inputs = keras.Input(shape = (28, 28, 1))
x = layers.Conv2D(filters = 32, kernel_size = 3, activation = 'relu')(inputs)
x = layers.MaxPooling2D(pool_size = 2)(x)
x = layers.Conv2D(filters = 64, kernel_size = 3, activation = 'relu')(x)
x = layers.MaxPooling2D(pool_size = 2)(x)
x = layers.Conv2D(filters = 128, kernel_size = 3, activation = 'relu')(x)
x = layers.Flatten()(x)
outputs = layers.Dense(10, activation = 'softmax')(x)
model = keras.Model(inputs = inputs, outputs = outputs)


model.summary()


from tensorflow.keras.datasets import mnist

(train_images, train_labels), (test_images, test_labels) = mnist.load_data()
train_images = train_images.reshape((60000, 28, 28, 1))
train_images = train_images.astype('float32') / 255
test_images = test_images.reshape((10000, 28, 28, 1))
test_images = test_images.astype('float32') / 255
model.compile(optimizer='rmsprop',
             loss = 'sparse_categorical_crossentropy',
             metrics = ['accuracy'])
model.fit(train_images, train_labels, epochs = 5, batch_size = 64)


test_loss, test_acc = model.evaluate(test_images, test_labels)
print(f'테스트 정확도 : {test_acc:.3f}')


import matplotlib.pyplot as plt
plt.figure(figsize = (20, 5))
for i in range(20):
    plt.subplot(2, 10, i+1)
    digit = train_images[i]
    plt.imshow(digit, cmap = plt.cm.binary)
plt.show()



