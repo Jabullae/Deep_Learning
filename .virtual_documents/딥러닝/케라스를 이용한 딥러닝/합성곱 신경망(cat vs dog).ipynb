import os, shutil, pathlib

original_dir = pathlib.Path('dogs-vs-cats/train')
new_base_dir = pathlib.Path('dogs-vs-cats/cats_vs_dogs_small')
def make_subset(subset_name, start_index, end_index):
    for category in('cat', 'dog'):
        dir = new_base_dir / subset_name / category
        os.makedirs(dir)
        fnames = [f'{category}.{i}.jpg'
                 for i in range(start_index, end_index)]
        for fname in fnames:
            shutil.copyfile(src = original_dir / fname, 
                           dst = dir / fname)
            
make_subset('train', start_index = 0, end_index = 1000)
make_subset('validation', start_index = 1000, end_index = 1500)
make_subset('test', start_index = 1500, end_index = 2500)


from tensorflow import keras
from tensorflow.keras import layers

inputs  = keras.Input(shape = (180, 180, 3))
x = layers.Rescaling(1./255)(inputs)
x = layers.Conv2D(filters = 32, kernel_size = 3, activation  = 'relu')(x)
x = layers.MaxPooling2D(pool_size = 2)(x)
x = layers.Conv2D(filters = 64, kernel_size = 3, activation  = 'relu')(x)
x = layers.MaxPooling2D(pool_size = 2)(x)
x = layers.Conv2D(filters = 128, kernel_size = 3, activation  = 'relu')(x)
x = layers.MaxPooling2D(pool_size = 2)(x)
x = layers.Conv2D(filters = 256, kernel_size = 3, activation  = 'relu')(x)
x = layers.MaxPooling2D(pool_size = 2)(x)
x = layers.Conv2D(filters = 256, kernel_size = 3, activation  = 'relu')(x)
x = layers.Flatten()(x)
outputs = layers.Dense(1, activation = 'sigmoid')(x)
model = keras.Model(inputs = inputs, outputs = outputs)


model.summary()


model.compile(loss = 'binary_crossentropy',
             optimizer = 'rmsprop',
             metrics = ['accuracy'])


from tensorflow.keras.utils import image_dataset_from_directory

train_dataset = image_dataset_from_directory(
    new_base_dir / 'train',
    image_size = (180, 180),
    batch_size = 32)
validation_dataset = image_dataset_from_directory(
    new_base_dir / 'validation',
    image_size = (180, 180),
    batch_size = 32)
test_dataset = image_dataset_from_directory(
    new_base_dir / 'test',
    image_size = (180, 180),
    batch_size = 32)


for data_batch, labels_batch in train_dataset:
    print('데이터 배치 크기 :', data_batch.shape)
    print('레이블 배치 크기 :', labels_batch.shape)
    break


callbacks = [
    keras.callbacks.ModelCheckpoint(
        filepath = 'dogs-vs-cats/convert_from_scratch.keras',
        save_best_only = True,
        monitor = 'val_loss')
]
history = model.fit(
    train_dataset,
    epochs = 30, 
    validation_data = validation_dataset,
    callbacks = callbacks)



