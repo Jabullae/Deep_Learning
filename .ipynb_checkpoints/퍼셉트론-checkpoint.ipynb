{
 "cells": [
  {
   "cell_type": "markdown",
   "id": "a88072a4-208b-4573-aa00-df4138f5fd82",
   "metadata": {},
   "source": [
    "# 퍼셉트론"
   ]
  },
  {
   "cell_type": "code",
   "execution_count": 1,
   "id": "b5837cbd-b984-4b86-8b3e-cf8bef700ecf",
   "metadata": {
    "execution": {
     "iopub.execute_input": "2022-11-30T01:47:42.154317Z",
     "iopub.status.busy": "2022-11-30T01:47:42.154317Z",
     "iopub.status.idle": "2022-11-30T01:47:42.311678Z",
     "shell.execute_reply": "2022-11-30T01:47:42.311678Z",
     "shell.execute_reply.started": "2022-11-30T01:47:42.154317Z"
    },
    "tags": []
   },
   "outputs": [],
   "source": [
    "import numpy as np\n",
    "\n",
    "def AND(x1, x2):\n",
    "    w1, w2, theta = 0.4, 0.4, 0.7\n",
    "    tmp = x1*w1 + x2*w2\n",
    "    if tmp <= theta:\n",
    "        return 0 \n",
    "    else:\n",
    "        return 1\n",
    "\n",
    "def NAND(x1, x2):\n",
    "    w1, w2, theta = -0.4, -0.4, -0.7\n",
    "    tmp = x1*w1 + x2*w2\n",
    "    if tmp <= theta:\n",
    "        return 0 \n",
    "    else:\n",
    "        return 1\n",
    "    \n",
    "def OR(x1, x2):\n",
    "    w1, w2, theta = 0.4, 0.4, 0.3\n",
    "    tmp = x1*w1 + x2*w2\n",
    "    if tmp <= theta:\n",
    "        return 0 \n",
    "    else:\n",
    "        return 1   "
   ]
  },
  {
   "cell_type": "code",
   "execution_count": 2,
   "id": "ffb65c1a-9c1c-411b-af7e-f50bc4db269d",
   "metadata": {
    "execution": {
     "iopub.execute_input": "2022-11-30T01:47:42.382645Z",
     "iopub.status.busy": "2022-11-30T01:47:42.381647Z",
     "iopub.status.idle": "2022-11-30T01:47:42.388628Z",
     "shell.execute_reply": "2022-11-30T01:47:42.388628Z",
     "shell.execute_reply.started": "2022-11-30T01:47:42.382645Z"
    },
    "tags": []
   },
   "outputs": [
    {
     "name": "stdout",
     "output_type": "stream",
     "text": [
      "0\n",
      "0\n",
      "0\n",
      "1\n"
     ]
    }
   ],
   "source": [
    "print(AND(0, 0))\n",
    "print(AND(1, 0))\n",
    "print(AND(0, 1))\n",
    "print(AND(1, 1))"
   ]
  },
  {
   "cell_type": "code",
   "execution_count": 3,
   "id": "6c28b3a0-6686-4085-b41f-7b3833c1b762",
   "metadata": {
    "execution": {
     "iopub.execute_input": "2022-11-30T01:47:42.633622Z",
     "iopub.status.busy": "2022-11-30T01:47:42.633622Z",
     "iopub.status.idle": "2022-11-30T01:47:42.638609Z",
     "shell.execute_reply": "2022-11-30T01:47:42.638609Z",
     "shell.execute_reply.started": "2022-11-30T01:47:42.633622Z"
    },
    "tags": []
   },
   "outputs": [
    {
     "name": "stdout",
     "output_type": "stream",
     "text": [
      "1\n",
      "1\n",
      "1\n",
      "0\n"
     ]
    }
   ],
   "source": [
    "print(NAND(0, 0))\n",
    "print(NAND(1, 0))\n",
    "print(NAND(0, 1))\n",
    "print(NAND(1, 1))"
   ]
  },
  {
   "cell_type": "code",
   "execution_count": 4,
   "id": "9edad7a9-39d5-476a-bd8c-9978d52ad54d",
   "metadata": {
    "execution": {
     "iopub.execute_input": "2022-11-30T01:47:43.038000Z",
     "iopub.status.busy": "2022-11-30T01:47:43.038000Z",
     "iopub.status.idle": "2022-11-30T01:47:43.043983Z",
     "shell.execute_reply": "2022-11-30T01:47:43.042984Z",
     "shell.execute_reply.started": "2022-11-30T01:47:43.038000Z"
    },
    "tags": []
   },
   "outputs": [
    {
     "name": "stdout",
     "output_type": "stream",
     "text": [
      "0\n",
      "1\n",
      "1\n",
      "1\n"
     ]
    }
   ],
   "source": [
    "print(OR(0, 0))\n",
    "print(OR(1, 0))\n",
    "print(OR(0, 1))\n",
    "print(OR(1, 1))"
   ]
  },
  {
   "cell_type": "code",
   "execution_count": 5,
   "id": "eb083fba-6c29-4a22-bd35-c763290a2f2a",
   "metadata": {
    "execution": {
     "iopub.execute_input": "2022-11-30T01:47:43.399595Z",
     "iopub.status.busy": "2022-11-30T01:47:43.399595Z",
     "iopub.status.idle": "2022-11-30T01:47:43.406578Z",
     "shell.execute_reply": "2022-11-30T01:47:43.406578Z",
     "shell.execute_reply.started": "2022-11-30T01:47:43.399595Z"
    },
    "tags": []
   },
   "outputs": [],
   "source": [
    "def GATE(x1, x2):\n",
    "    w1, w2, theta = -0.4, -0.4, -0.7\n",
    "    tmp = x1*w1 + x2*w2\n",
    "    if tmp <= theta:\n",
    "        return 0 \n",
    "    else:\n",
    "        return 1"
   ]
  },
  {
   "cell_type": "code",
   "execution_count": 6,
   "id": "0c502d18-b7c6-4058-8a8d-b03c2c5b7440",
   "metadata": {
    "execution": {
     "iopub.execute_input": "2022-11-29T08:17:54.433083Z",
     "iopub.status.busy": "2022-11-29T08:17:54.432068Z",
     "iopub.status.idle": "2022-11-29T08:17:54.441044Z",
     "shell.execute_reply": "2022-11-29T08:17:54.440043Z",
     "shell.execute_reply.started": "2022-11-29T08:17:54.433083Z"
    },
    "tags": []
   },
   "outputs": [
    {
     "name": "stdout",
     "output_type": "stream",
     "text": [
      "1\n",
      "1\n",
      "1\n",
      "0\n"
     ]
    }
   ],
   "source": [
    "print(GATE(0, 0))\n",
    "print(GATE(1, 0))\n",
    "print(GATE(0, 1))\n",
    "print(GATE(1, 1))"
   ]
  },
  {
   "cell_type": "code",
   "execution_count": 6,
   "id": "f2033ca3-a5b3-49b4-b150-9203eda40913",
   "metadata": {
    "execution": {
     "iopub.execute_input": "2022-11-30T01:49:12.542630Z",
     "iopub.status.busy": "2022-11-30T01:49:12.542630Z",
     "iopub.status.idle": "2022-11-30T01:49:12.547616Z",
     "shell.execute_reply": "2022-11-30T01:49:12.546618Z",
     "shell.execute_reply.started": "2022-11-30T01:49:12.542630Z"
    }
   },
   "outputs": [],
   "source": [
    "def XOR(x1, x2):\n",
    "    y1 = NAND(x1, x2)\n",
    "    y2 = OR(x1, x2)\n",
    "    return AND(y1, y2)"
   ]
  },
  {
   "cell_type": "code",
   "execution_count": 9,
   "id": "85620de6-fc06-48b7-b23a-81853d192654",
   "metadata": {
    "execution": {
     "iopub.execute_input": "2022-11-30T01:49:25.438638Z",
     "iopub.status.busy": "2022-11-30T01:49:25.438638Z",
     "iopub.status.idle": "2022-11-30T01:49:25.457586Z",
     "shell.execute_reply": "2022-11-30T01:49:25.457586Z",
     "shell.execute_reply.started": "2022-11-30T01:49:25.438638Z"
    },
    "tags": []
   },
   "outputs": [
    {
     "data": {
      "text/plain": [
       "0"
      ]
     },
     "execution_count": 9,
     "metadata": {},
     "output_type": "execute_result"
    }
   ],
   "source": [
    "XOR(0, 0)"
   ]
  }
 ],
 "metadata": {
  "kernelspec": {
   "display_name": "Python 3 (ipykernel)",
   "language": "python",
   "name": "python3"
  },
  "language_info": {
   "codemirror_mode": {
    "name": "ipython",
    "version": 3
   },
   "file_extension": ".py",
   "mimetype": "text/x-python",
   "name": "python",
   "nbconvert_exporter": "python",
   "pygments_lexer": "ipython3",
   "version": "3.9.7"
  },
  "toc-autonumbering": true
 },
 "nbformat": 4,
 "nbformat_minor": 5
}
