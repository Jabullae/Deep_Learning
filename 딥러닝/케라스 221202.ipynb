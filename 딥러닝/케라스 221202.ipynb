{
 "cells": [
  {
   "cell_type": "markdown",
   "id": "b3df8c46-c90e-4f70-a4cf-3e881dab86f5",
   "metadata": {},
   "source": [
    "# 상수 텐서와 변수"
   ]
  },
  {
   "cell_type": "code",
   "execution_count": 6,
   "id": "3e464ada-1d67-4fff-a0be-745b64484ffa",
   "metadata": {
    "execution": {
     "iopub.execute_input": "2022-12-02T01:20:33.087136Z",
     "iopub.status.busy": "2022-12-02T01:20:33.087136Z",
     "iopub.status.idle": "2022-12-02T01:20:33.093119Z",
     "shell.execute_reply": "2022-12-02T01:20:33.093119Z",
     "shell.execute_reply.started": "2022-12-02T01:20:33.087136Z"
    },
    "tags": []
   },
   "outputs": [],
   "source": [
    "import tensorflow as tf\n",
    "import numpy as np"
   ]
  },
  {
   "cell_type": "code",
   "execution_count": 3,
   "id": "20da0447-3c36-4ec7-b4b0-f33bf26d2ae4",
   "metadata": {
    "execution": {
     "iopub.execute_input": "2022-12-02T01:19:00.180778Z",
     "iopub.status.busy": "2022-12-02T01:19:00.180778Z",
     "iopub.status.idle": "2022-12-02T01:19:00.200724Z",
     "shell.execute_reply": "2022-12-02T01:19:00.199726Z",
     "shell.execute_reply.started": "2022-12-02T01:19:00.180778Z"
    },
    "tags": []
   },
   "outputs": [
    {
     "name": "stdout",
     "output_type": "stream",
     "text": [
      "tf.Tensor(\n",
      "[[1.]\n",
      " [1.]], shape=(2, 1), dtype=float32)\n",
      "tf.Tensor(\n",
      "[[0.]\n",
      " [0.]], shape=(2, 1), dtype=float32)\n"
     ]
    }
   ],
   "source": [
    "# 모두 1 또는 0인 텐서\n",
    "x = tf.ones(shape = (2, 1))\n",
    "print(x)\n",
    "\n",
    "x = tf.zeros(shape = (2, 1))\n",
    "print(x)"
   ]
  },
  {
   "cell_type": "code",
   "execution_count": 5,
   "id": "9f8daa0d-c712-40ce-94bd-eeb703788aa4",
   "metadata": {
    "execution": {
     "iopub.execute_input": "2022-12-02T01:19:55.163986Z",
     "iopub.status.busy": "2022-12-02T01:19:55.163986Z",
     "iopub.status.idle": "2022-12-02T01:19:55.182935Z",
     "shell.execute_reply": "2022-12-02T01:19:55.182935Z",
     "shell.execute_reply.started": "2022-12-02T01:19:55.163986Z"
    },
    "tags": []
   },
   "outputs": [
    {
     "name": "stdout",
     "output_type": "stream",
     "text": [
      "tf.Tensor(\n",
      "[[-0.09817437]\n",
      " [ 0.271745  ]\n",
      " [-0.42499426]], shape=(3, 1), dtype=float32)\n",
      "tf.Tensor(\n",
      "[[0.9570458 ]\n",
      " [0.9684441 ]\n",
      " [0.13380218]], shape=(3, 1), dtype=float32)\n"
     ]
    }
   ],
   "source": [
    "# 랜덤 텐서\n",
    "x = tf.random.normal(shape = (3, 1), mean = 0, stddev = 1)\n",
    "print(x)\n",
    "\n",
    "x = tf.random.uniform(shape = (3, 1), minval = 0, maxval= 1)\n",
    "print(x)"
   ]
  },
  {
   "cell_type": "code",
   "execution_count": 8,
   "id": "7f194b82-22f8-49ce-85f8-70f1d331122b",
   "metadata": {
    "execution": {
     "iopub.execute_input": "2022-12-02T01:20:58.172523Z",
     "iopub.status.busy": "2022-12-02T01:20:58.171524Z",
     "iopub.status.idle": "2022-12-02T01:20:58.186379Z",
     "shell.execute_reply": "2022-12-02T01:20:58.185381Z",
     "shell.execute_reply.started": "2022-12-02T01:20:58.172523Z"
    },
    "tags": []
   },
   "outputs": [
    {
     "data": {
      "text/plain": [
       "array([[0.],\n",
       "       [1.]])"
      ]
     },
     "execution_count": 8,
     "metadata": {},
     "output_type": "execute_result"
    }
   ],
   "source": [
    "# 넘파이 배열에 값 할당하기\n",
    "x = np.ones(shape = (2, 1))\n",
    "x[0, 0] = 0\n",
    "x"
   ]
  },
  {
   "cell_type": "code",
   "execution_count": 9,
   "id": "dabc1446-5e61-446a-bfe4-982c41de2784",
   "metadata": {
    "execution": {
     "iopub.execute_input": "2022-12-02T01:21:26.907666Z",
     "iopub.status.busy": "2022-12-02T01:21:26.907666Z",
     "iopub.status.idle": "2022-12-02T01:21:26.945565Z",
     "shell.execute_reply": "2022-12-02T01:21:26.944568Z",
     "shell.execute_reply.started": "2022-12-02T01:21:26.907666Z"
    }
   },
   "outputs": [
    {
     "ename": "TypeError",
     "evalue": "'tensorflow.python.framework.ops.EagerTensor' object does not support item assignment",
     "output_type": "error",
     "traceback": [
      "\u001b[1;31m---------------------------------------------------------------------------\u001b[0m",
      "\u001b[1;31mTypeError\u001b[0m                                 Traceback (most recent call last)",
      "Cell \u001b[1;32mIn [9], line 2\u001b[0m\n\u001b[0;32m      1\u001b[0m x \u001b[38;5;241m=\u001b[39m tf\u001b[38;5;241m.\u001b[39mones(shape \u001b[38;5;241m=\u001b[39m (\u001b[38;5;241m2\u001b[39m, \u001b[38;5;241m1\u001b[39m))\n\u001b[1;32m----> 2\u001b[0m x[\u001b[38;5;241m0\u001b[39m, \u001b[38;5;241m0\u001b[39m] \u001b[38;5;241m=\u001b[39m \u001b[38;5;241m0.\u001b[39m\n\u001b[0;32m      3\u001b[0m x\n",
      "\u001b[1;31mTypeError\u001b[0m: 'tensorflow.python.framework.ops.EagerTensor' object does not support item assignment"
     ]
    }
   ],
   "source": [
    "# 텐서플로 텐서에는 값을 할당하지 못한다.\n",
    "x = tf.ones(shape = (2, 1))\n",
    "x[0, 0] = 0."
   ]
  },
  {
   "cell_type": "code",
   "execution_count": 10,
   "id": "ca2ed22b-5dfb-402e-b30e-807dfed2edff",
   "metadata": {
    "execution": {
     "iopub.execute_input": "2022-12-02T01:23:02.348250Z",
     "iopub.status.busy": "2022-12-02T01:23:02.348250Z",
     "iopub.status.idle": "2022-12-02T01:23:02.369191Z",
     "shell.execute_reply": "2022-12-02T01:23:02.368195Z",
     "shell.execute_reply.started": "2022-12-02T01:23:02.348250Z"
    }
   },
   "outputs": [
    {
     "name": "stdout",
     "output_type": "stream",
     "text": [
      "<tf.Variable 'Variable:0' shape=(3, 1) dtype=float32, numpy=\n",
      "array([[ 0.15931413],\n",
      "       [ 0.12317395],\n",
      "       [-0.69024724]], dtype=float32)>\n"
     ]
    }
   ],
   "source": [
    "# 텐서플로 변수 만들기\n",
    "v = tf.Variable(initial_value = tf.random.normal(shape = (3, 1)))\n",
    "print(v)"
   ]
  },
  {
   "cell_type": "code",
   "execution_count": 12,
   "id": "39db8004-c276-468f-9c4a-fea26c8d3597",
   "metadata": {
    "execution": {
     "iopub.execute_input": "2022-12-02T01:23:46.950329Z",
     "iopub.status.busy": "2022-12-02T01:23:46.950329Z",
     "iopub.status.idle": "2022-12-02T01:23:46.957312Z",
     "shell.execute_reply": "2022-12-02T01:23:46.957312Z",
     "shell.execute_reply.started": "2022-12-02T01:23:46.950329Z"
    },
    "tags": []
   },
   "outputs": [
    {
     "data": {
      "text/plain": [
       "<tf.Variable 'UnreadVariable' shape=(3, 1) dtype=float32, numpy=\n",
       "array([[1.],\n",
       "       [1.],\n",
       "       [1.]], dtype=float32)>"
      ]
     },
     "execution_count": 12,
     "metadata": {},
     "output_type": "execute_result"
    }
   ],
   "source": [
    "# 텐서플로 변수에 값 할당하기\n",
    "v.assign(tf.ones((3, 1)))"
   ]
  },
  {
   "cell_type": "code",
   "execution_count": 13,
   "id": "9f5bebbf-f7f4-4426-9392-d737f0eb1ab5",
   "metadata": {
    "execution": {
     "iopub.execute_input": "2022-12-02T01:24:09.303971Z",
     "iopub.status.busy": "2022-12-02T01:24:09.303971Z",
     "iopub.status.idle": "2022-12-02T01:24:09.330898Z",
     "shell.execute_reply": "2022-12-02T01:24:09.329901Z",
     "shell.execute_reply.started": "2022-12-02T01:24:09.303971Z"
    }
   },
   "outputs": [
    {
     "data": {
      "text/plain": [
       "<tf.Variable 'UnreadVariable' shape=(3, 1) dtype=float32, numpy=\n",
       "array([[3.],\n",
       "       [1.],\n",
       "       [1.]], dtype=float32)>"
      ]
     },
     "execution_count": 13,
     "metadata": {},
     "output_type": "execute_result"
    }
   ],
   "source": [
    "# 변수 일부에 값 할당하기\n",
    "v[0, 0].assign(3.)"
   ]
  },
  {
   "cell_type": "code",
   "execution_count": 15,
   "id": "d75f4108-71d1-4296-a105-651ebba6f40f",
   "metadata": {
    "execution": {
     "iopub.execute_input": "2022-12-02T01:24:46.087521Z",
     "iopub.status.busy": "2022-12-02T01:24:46.087521Z",
     "iopub.status.idle": "2022-12-02T01:24:46.095499Z",
     "shell.execute_reply": "2022-12-02T01:24:46.095499Z",
     "shell.execute_reply.started": "2022-12-02T01:24:46.087521Z"
    },
    "tags": []
   },
   "outputs": [
    {
     "data": {
      "text/plain": [
       "<tf.Variable 'UnreadVariable' shape=(3, 1) dtype=float32, numpy=\n",
       "array([[5.],\n",
       "       [3.],\n",
       "       [3.]], dtype=float32)>"
      ]
     },
     "execution_count": 15,
     "metadata": {},
     "output_type": "execute_result"
    }
   ],
   "source": [
    "v.assign_add(tf.ones((3, 1)))"
   ]
  },
  {
   "cell_type": "markdown",
   "id": "d9eeaeb1-e7d5-4f6a-a3dc-f3c75220c4d3",
   "metadata": {},
   "source": [
    "# 텐서 연산 : 텐서플로에서 수학 계산하기"
   ]
  },
  {
   "cell_type": "code",
   "execution_count": null,
   "id": "ca047fa3-6acf-4939-9fa7-617a8ebd4d8f",
   "metadata": {},
   "outputs": [],
   "source": []
  },
  {
   "cell_type": "code",
   "execution_count": null,
   "id": "8de17b34-e882-48f3-8bea-89da5e57fde8",
   "metadata": {},
   "outputs": [],
   "source": []
  },
  {
   "cell_type": "code",
   "execution_count": null,
   "id": "bee16d00-64bd-462b-9387-81efa4b313b9",
   "metadata": {},
   "outputs": [],
   "source": []
  },
  {
   "cell_type": "code",
   "execution_count": null,
   "id": "3f830512-9e1e-4fbd-b9a4-bc316e13809a",
   "metadata": {},
   "outputs": [],
   "source": []
  },
  {
   "cell_type": "code",
   "execution_count": null,
   "id": "5190ea0c-bf66-4594-9b63-1629869aaec5",
   "metadata": {},
   "outputs": [],
   "source": []
  },
  {
   "cell_type": "code",
   "execution_count": null,
   "id": "8a58ae6c-1081-4082-9e88-1e4107a83425",
   "metadata": {},
   "outputs": [],
   "source": []
  },
  {
   "cell_type": "code",
   "execution_count": null,
   "id": "2f5f2c04-9cc0-4726-8a0f-930f4252e98f",
   "metadata": {},
   "outputs": [],
   "source": []
  }
 ],
 "metadata": {
  "kernelspec": {
   "display_name": "Python 3 (ipykernel)",
   "language": "python",
   "name": "python3"
  },
  "language_info": {
   "codemirror_mode": {
    "name": "ipython",
    "version": 3
   },
   "file_extension": ".py",
   "mimetype": "text/x-python",
   "name": "python",
   "nbconvert_exporter": "python",
   "pygments_lexer": "ipython3",
   "version": "3.9.7"
  },
  "toc-autonumbering": true,
  "toc-showmarkdowntxt": false
 },
 "nbformat": 4,
 "nbformat_minor": 5
}
