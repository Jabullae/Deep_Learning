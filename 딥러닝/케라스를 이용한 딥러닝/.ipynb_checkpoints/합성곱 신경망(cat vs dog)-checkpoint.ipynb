{
 "cells": [
  {
   "cell_type": "markdown",
   "id": "139f39ea",
   "metadata": {},
   "source": [
    "# 이미지를 훈련, 검증, 테스트 디렉터리로 복사하기"
   ]
  },
  {
   "cell_type": "code",
   "execution_count": 4,
   "id": "618b5f87",
   "metadata": {
    "execution": {
     "iopub.execute_input": "2022-12-08T08:34:19.020229Z",
     "iopub.status.busy": "2022-12-08T08:34:19.020229Z",
     "iopub.status.idle": "2022-12-08T08:34:21.974073Z",
     "shell.execute_reply": "2022-12-08T08:34:21.974073Z",
     "shell.execute_reply.started": "2022-12-08T08:34:19.020229Z"
    },
    "tags": []
   },
   "outputs": [],
   "source": [
    "import os, shutil, pathlib\n",
    "\n",
    "original_dir = pathlib.Path('dogs-vs-cats/train')\n",
    "new_base_dir = pathlib.Path('dogs-vs-cats/cats_vs_dogs_small')\n",
    "def make_subset(subset_name, start_index, end_index):\n",
    "    for category in('cat', 'dog'):\n",
    "        dir = new_base_dir / subset_name / category\n",
    "        os.makedirs(dir)\n",
    "        fnames = [f'{category}.{i}.jpg'\n",
    "                 for i in range(start_index, end_index)]\n",
    "        for fname in fnames:\n",
    "            shutil.copyfile(src = original_dir / fname, \n",
    "                           dst = dir / fname)\n",
    "            \n",
    "make_subset('train', start_index = 0, end_index = 1000)\n",
    "make_subset('validation', start_index = 1000, end_index = 1500)\n",
    "make_subset('test', start_index = 1500, end_index = 2500)"
   ]
  },
  {
   "cell_type": "markdown",
   "id": "12724e75-7c5e-449b-a81c-46ed89c8361d",
   "metadata": {
    "execution": {
     "iopub.execute_input": "2022-12-08T08:29:06.448535Z",
     "iopub.status.busy": "2022-12-08T08:29:06.448535Z",
     "iopub.status.idle": "2022-12-08T08:29:06.461499Z",
     "shell.execute_reply": "2022-12-08T08:29:06.461499Z",
     "shell.execute_reply.started": "2022-12-08T08:29:06.448535Z"
    },
    "tags": []
   },
   "source": [
    "# 모델 만들기"
   ]
  },
  {
   "cell_type": "markdown",
   "id": "1506ce14-2109-434a-bfee-f2915fb2f1af",
   "metadata": {},
   "source": [
    "## 강아지 vs 고양이 분류를 위한 소규모 컨브넷 만들기"
   ]
  },
  {
   "cell_type": "code",
   "execution_count": 6,
   "id": "68e5ddd8-ee48-4d0c-94cf-304237c6ebf9",
   "metadata": {
    "execution": {
     "iopub.execute_input": "2022-12-08T08:40:54.195721Z",
     "iopub.status.busy": "2022-12-08T08:40:54.194723Z",
     "iopub.status.idle": "2022-12-08T08:40:54.309659Z",
     "shell.execute_reply": "2022-12-08T08:40:54.309659Z",
     "shell.execute_reply.started": "2022-12-08T08:40:54.195721Z"
    },
    "tags": []
   },
   "outputs": [],
   "source": [
    "from tensorflow import keras\n",
    "from tensorflow.keras import layers\n",
    "\n",
    "inputs  = keras.Input(shape = (180, 180, 3))\n",
    "x = layers.Rescaling(1./255)(inputs)\n",
    "x = layers.Conv2D(filters = 32, kernel_size = 3, activation  = 'relu')(x)\n",
    "x = layers.MaxPooling2D(pool_size = 2)(x)\n",
    "x = layers.Conv2D(filters = 64, kernel_size = 3, activation  = 'relu')(x)\n",
    "x = layers.MaxPooling2D(pool_size = 2)(x)\n",
    "x = layers.Conv2D(filters = 128, kernel_size = 3, activation  = 'relu')(x)\n",
    "x = layers.MaxPooling2D(pool_size = 2)(x)\n",
    "x = layers.Conv2D(filters = 256, kernel_size = 3, activation  = 'relu')(x)\n",
    "x = layers.MaxPooling2D(pool_size = 2)(x)\n",
    "x = layers.Conv2D(filters = 256, kernel_size = 3, activation  = 'relu')(x)\n",
    "x = layers.Flatten()(x)\n",
    "outputs = layers.Dense(1, activation = 'sigmoid')(x)\n",
    "model = keras.Model(inputs = inputs, outputs = outputs)"
   ]
  },
  {
   "cell_type": "code",
   "execution_count": 7,
   "id": "ebd27402-e132-4739-aaa2-8c53c053e9f2",
   "metadata": {
    "execution": {
     "iopub.execute_input": "2022-12-08T08:41:00.701925Z",
     "iopub.status.busy": "2022-12-08T08:41:00.701925Z",
     "iopub.status.idle": "2022-12-08T08:41:00.736833Z",
     "shell.execute_reply": "2022-12-08T08:41:00.735836Z",
     "shell.execute_reply.started": "2022-12-08T08:41:00.701925Z"
    },
    "tags": []
   },
   "outputs": [
    {
     "name": "stdout",
     "output_type": "stream",
     "text": [
      "Model: \"model\"\n",
      "_________________________________________________________________\n",
      " Layer (type)                Output Shape              Param #   \n",
      "=================================================================\n",
      " input_2 (InputLayer)        [(None, 180, 180, 3)]     0         \n",
      "                                                                 \n",
      " rescaling_1 (Rescaling)     (None, 180, 180, 3)       0         \n",
      "                                                                 \n",
      " conv2d_3 (Conv2D)           (None, 178, 178, 32)      896       \n",
      "                                                                 \n",
      " max_pooling2d_3 (MaxPooling  (None, 89, 89, 32)       0         \n",
      " 2D)                                                             \n",
      "                                                                 \n",
      " conv2d_4 (Conv2D)           (None, 87, 87, 64)        18496     \n",
      "                                                                 \n",
      " max_pooling2d_4 (MaxPooling  (None, 43, 43, 64)       0         \n",
      " 2D)                                                             \n",
      "                                                                 \n",
      " conv2d_5 (Conv2D)           (None, 41, 41, 128)       73856     \n",
      "                                                                 \n",
      " max_pooling2d_5 (MaxPooling  (None, 20, 20, 128)      0         \n",
      " 2D)                                                             \n",
      "                                                                 \n",
      " conv2d_6 (Conv2D)           (None, 18, 18, 256)       295168    \n",
      "                                                                 \n",
      " max_pooling2d_6 (MaxPooling  (None, 9, 9, 256)        0         \n",
      " 2D)                                                             \n",
      "                                                                 \n",
      " conv2d_7 (Conv2D)           (None, 7, 7, 256)         590080    \n",
      "                                                                 \n",
      " flatten (Flatten)           (None, 12544)             0         \n",
      "                                                                 \n",
      " dense (Dense)               (None, 1)                 12545     \n",
      "                                                                 \n",
      "=================================================================\n",
      "Total params: 991,041\n",
      "Trainable params: 991,041\n",
      "Non-trainable params: 0\n",
      "_________________________________________________________________\n"
     ]
    }
   ],
   "source": [
    "model.summary()"
   ]
  },
  {
   "cell_type": "markdown",
   "id": "15601a01-f881-46e5-b2e1-488d6848408b",
   "metadata": {},
   "source": [
    "## 모델 훈련 설정하기"
   ]
  },
  {
   "cell_type": "code",
   "execution_count": 8,
   "id": "7ee1510c-b17e-4697-a24a-13ed3c46b6ef",
   "metadata": {
    "execution": {
     "iopub.execute_input": "2022-12-08T08:42:00.432168Z",
     "iopub.status.busy": "2022-12-08T08:42:00.432168Z",
     "iopub.status.idle": "2022-12-08T08:42:00.447127Z",
     "shell.execute_reply": "2022-12-08T08:42:00.447127Z",
     "shell.execute_reply.started": "2022-12-08T08:42:00.432168Z"
    }
   },
   "outputs": [],
   "source": [
    "model.compile(loss = 'binary_crossentropy',\n",
    "             optimizer = 'rmsprop',\n",
    "             metrics = ['accuracy'])"
   ]
  },
  {
   "cell_type": "markdown",
   "id": "4de04390-9aa4-477c-baf6-cb74671e8465",
   "metadata": {},
   "source": [
    "# 데이터 전처리"
   ]
  },
  {
   "cell_type": "markdown",
   "id": "f0ae2aca-fd73-45d9-ace7-1c07002d9659",
   "metadata": {},
   "source": [
    "## image_dataset_from_directory를 사용하여 이미지 읽기"
   ]
  },
  {
   "cell_type": "code",
   "execution_count": 9,
   "id": "2183207b-b54f-4b27-8117-bdde454b75b0",
   "metadata": {
    "execution": {
     "iopub.execute_input": "2022-12-08T08:44:25.669000Z",
     "iopub.status.busy": "2022-12-08T08:44:25.669000Z",
     "iopub.status.idle": "2022-12-08T08:44:26.143974Z",
     "shell.execute_reply": "2022-12-08T08:44:26.142976Z",
     "shell.execute_reply.started": "2022-12-08T08:44:25.669000Z"
    }
   },
   "outputs": [
    {
     "name": "stdout",
     "output_type": "stream",
     "text": [
      "Found 2000 files belonging to 2 classes.\n",
      "Found 1000 files belonging to 2 classes.\n",
      "Found 2000 files belonging to 2 classes.\n"
     ]
    }
   ],
   "source": [
    "from tensorflow.keras.utils import image_dataset_from_directory\n",
    "\n",
    "train_dataset = image_dataset_from_directory(\n",
    "    new_base_dir / 'train',\n",
    "    image_size = (180, 180),\n",
    "    batch_size = 32)\n",
    "validation_dataset = image_dataset_from_directory(\n",
    "    new_base_dir / 'validation',\n",
    "    image_size = (180, 180),\n",
    "    batch_size = 32)\n",
    "test_dataset = image_dataset_from_directory(\n",
    "    new_base_dir / 'test',\n",
    "    image_size = (180, 180),\n",
    "    batch_size = 32)"
   ]
  },
  {
   "cell_type": "markdown",
   "id": "833261b3-97b5-414b-9155-0043350af2e8",
   "metadata": {},
   "source": [
    "## Dataset이 반환하는 데이터와 레이블 크기 확인하기"
   ]
  },
  {
   "cell_type": "code",
   "execution_count": 11,
   "id": "2a8e2f1b-4263-4ebf-a2d0-36b40cd39351",
   "metadata": {
    "execution": {
     "iopub.execute_input": "2022-12-08T08:47:35.832694Z",
     "iopub.status.busy": "2022-12-08T08:47:35.832694Z",
     "iopub.status.idle": "2022-12-08T08:47:36.163893Z",
     "shell.execute_reply": "2022-12-08T08:47:36.163893Z",
     "shell.execute_reply.started": "2022-12-08T08:47:35.832694Z"
    },
    "tags": []
   },
   "outputs": [
    {
     "name": "stdout",
     "output_type": "stream",
     "text": [
      "데이터 배치 크기 : (32, 180, 180, 3)\n",
      "레이블 배치 크기 : (32,)\n"
     ]
    }
   ],
   "source": [
    "for data_batch, labels_batch in train_dataset:\n",
    "    print('데이터 배치 크기 :', data_batch.shape)\n",
    "    print('레이블 배치 크기 :', labels_batch.shape)\n",
    "    break"
   ]
  },
  {
   "cell_type": "markdown",
   "id": "511011b4-cedc-4be4-a4e2-44bf38b409af",
   "metadata": {},
   "source": [
    "## Dataset을 사용하여 모델 훈련하기"
   ]
  },
  {
   "cell_type": "code",
   "execution_count": null,
   "id": "a7a4ee8b-efd8-425d-84c2-14d98bc3d0c4",
   "metadata": {
    "execution": {
     "iopub.execute_input": "2022-12-08T08:50:47.461076Z",
     "iopub.status.busy": "2022-12-08T08:50:47.460108Z"
    },
    "tags": []
   },
   "outputs": [
    {
     "name": "stdout",
     "output_type": "stream",
     "text": [
      "Epoch 1/30\n",
      " 9/63 [===>..........................] - ETA: 38s - loss: 0.8249 - accuracy: 0.5104"
     ]
    }
   ],
   "source": [
    "callbacks = [\n",
    "    keras.callbacks.ModelCheckpoint(\n",
    "        filepath = 'dogs-vs-cats/convert_from_scratch.keras',\n",
    "        save_best_only = True,\n",
    "        monitor = 'val_loss')\n",
    "]\n",
    "history = model.fit(\n",
    "    train_dataset,\n",
    "    epochs = 30, \n",
    "    validation_data = validation_dataset,\n",
    "    callbacks = callbacks)"
   ]
  },
  {
   "cell_type": "code",
   "execution_count": null,
   "id": "0f972f80-1e17-412c-840f-5bbb990422c6",
   "metadata": {},
   "outputs": [],
   "source": []
  }
 ],
 "metadata": {
  "kernelspec": {
   "display_name": "Python 3 (ipykernel)",
   "language": "python",
   "name": "python3"
  },
  "language_info": {
   "codemirror_mode": {
    "name": "ipython",
    "version": 3
   },
   "file_extension": ".py",
   "mimetype": "text/x-python",
   "name": "python",
   "nbconvert_exporter": "python",
   "pygments_lexer": "ipython3",
   "version": "3.9.7"
  },
  "toc": {
   "base_numbering": 1,
   "nav_menu": {},
   "number_sections": true,
   "sideBar": true,
   "skip_h1_title": false,
   "title_cell": "Table of Contents",
   "title_sidebar": "Contents",
   "toc_cell": false,
   "toc_position": {},
   "toc_section_display": true,
   "toc_window_display": false
  },
  "toc-autonumbering": true,
  "varInspector": {
   "cols": {
    "lenName": 16,
    "lenType": 16,
    "lenVar": 40
   },
   "kernels_config": {
    "python": {
     "delete_cmd_postfix": "",
     "delete_cmd_prefix": "del ",
     "library": "var_list.py",
     "varRefreshCmd": "print(var_dic_list())"
    },
    "r": {
     "delete_cmd_postfix": ") ",
     "delete_cmd_prefix": "rm(",
     "library": "var_list.r",
     "varRefreshCmd": "cat(var_dic_list()) "
    }
   },
   "types_to_exclude": [
    "module",
    "function",
    "builtin_function_or_method",
    "instance",
    "_Feature"
   ],
   "window_display": false
  }
 },
 "nbformat": 4,
 "nbformat_minor": 5
}
