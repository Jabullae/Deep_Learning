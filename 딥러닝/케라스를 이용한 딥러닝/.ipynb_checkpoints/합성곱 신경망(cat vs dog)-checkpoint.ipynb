{
 "cells": [
  {
   "cell_type": "markdown",
   "id": "139f39ea",
   "metadata": {},
   "source": [
    "# 이미지를 훈련, 검증, 테스트 디렉터리로 복사하기"
   ]
  },
  {
   "cell_type": "code",
   "execution_count": 7,
   "id": "618b5f87",
   "metadata": {
    "ExecuteTime": {
     "end_time": "2022-12-09T08:12:25.245880Z",
     "start_time": "2022-12-09T08:12:25.233912Z"
    },
    "execution": {
     "iopub.execute_input": "2022-12-09T00:03:55.604991Z",
     "iopub.status.busy": "2022-12-09T00:03:55.604991Z",
     "iopub.status.idle": "2022-12-09T00:03:56.216912Z",
     "shell.execute_reply": "2022-12-09T00:03:56.215911Z",
     "shell.execute_reply.started": "2022-12-09T00:03:55.604991Z"
    },
    "tags": []
   },
   "outputs": [],
   "source": [
    "import os, shutil, pathlib\n",
    "\n",
    "original_dir = pathlib.Path('dogs-vs-cats/train')\n",
    "new_base_dir = pathlib.Path('dogs-vs-cats/cats_vs_dogs_small')\n",
    "# def make_subset(subset_name, start_index, end_index):\n",
    "#     for category in('cat', 'dog'):\n",
    "#         dir = new_base_dir / subset_name / category\n",
    "#         os.makedirs(dir)\n",
    "#         fnames = [f'{category}.{i}.jpg'\n",
    "#                  for i in range(start_index, end_index)]\n",
    "#         for fname in fnames:\n",
    "#             shutil.copyfile(src = original_dir / fname, \n",
    "#                            dst = dir / fname)\n",
    "            \n",
    "# make_subset('train', start_index = 0, end_index = 1000)\n",
    "# make_subset('validation', start_index = 1000, end_index = 1500)\n",
    "# make_subset('test', start_index = 1500, end_index = 2500)"
   ]
  },
  {
   "cell_type": "markdown",
   "id": "12724e75-7c5e-449b-a81c-46ed89c8361d",
   "metadata": {
    "execution": {
     "iopub.execute_input": "2022-12-08T08:29:06.448535Z",
     "iopub.status.busy": "2022-12-08T08:29:06.448535Z",
     "iopub.status.idle": "2022-12-08T08:29:06.461499Z",
     "shell.execute_reply": "2022-12-08T08:29:06.461499Z",
     "shell.execute_reply.started": "2022-12-08T08:29:06.448535Z"
    },
    "tags": []
   },
   "source": [
    "# 모델 만들기"
   ]
  },
  {
   "cell_type": "markdown",
   "id": "1506ce14-2109-434a-bfee-f2915fb2f1af",
   "metadata": {},
   "source": [
    "## 강아지 vs 고양이 분류를 위한 소규모 컨브넷 만들기"
   ]
  },
  {
   "cell_type": "code",
   "execution_count": 8,
   "id": "68e5ddd8-ee48-4d0c-94cf-304237c6ebf9",
   "metadata": {
    "ExecuteTime": {
     "end_time": "2022-12-09T08:12:26.393810Z",
     "start_time": "2022-12-09T08:12:26.300598Z"
    },
    "execution": {
     "iopub.execute_input": "2022-12-09T00:03:56.530675Z",
     "iopub.status.busy": "2022-12-09T00:03:56.530675Z",
     "iopub.status.idle": "2022-12-09T00:04:02.560311Z",
     "shell.execute_reply": "2022-12-09T00:04:02.560311Z",
     "shell.execute_reply.started": "2022-12-09T00:03:56.530675Z"
    },
    "tags": []
   },
   "outputs": [],
   "source": [
    "from tensorflow import keras\n",
    "from tensorflow.keras import layers\n",
    "\n",
    "inputs  = keras.Input(shape = (180, 180, 3))\n",
    "x = layers.Rescaling(1./255)(inputs)\n",
    "x = layers.Conv2D(filters = 32, kernel_size = 3, activation  = 'relu')(x)\n",
    "x = layers.MaxPooling2D(pool_size = 2)(x)\n",
    "x = layers.Conv2D(filters = 64, kernel_size = 3, activation  = 'relu')(x)\n",
    "x = layers.MaxPooling2D(pool_size = 2)(x)\n",
    "x = layers.Conv2D(filters = 128, kernel_size = 3, activation  = 'relu')(x)\n",
    "x = layers.MaxPooling2D(pool_size = 2)(x)\n",
    "x = layers.Conv2D(filters = 256, kernel_size = 3, activation  = 'relu')(x)\n",
    "x = layers.MaxPooling2D(pool_size = 2)(x)\n",
    "x = layers.Conv2D(filters = 256, kernel_size = 3, activation  = 'relu')(x)\n",
    "x = layers.Flatten()(x)\n",
    "outputs = layers.Dense(1, activation = 'sigmoid')(x)\n",
    "model = keras.Model(inputs = inputs, outputs = outputs)"
   ]
  },
  {
   "cell_type": "code",
   "execution_count": 9,
   "id": "ebd27402-e132-4739-aaa2-8c53c053e9f2",
   "metadata": {
    "ExecuteTime": {
     "end_time": "2022-12-09T08:12:26.502710Z",
     "start_time": "2022-12-09T08:12:26.461818Z"
    },
    "execution": {
     "iopub.execute_input": "2022-12-09T00:04:09.914851Z",
     "iopub.status.busy": "2022-12-09T00:04:09.914851Z",
     "iopub.status.idle": "2022-12-09T00:04:09.940781Z",
     "shell.execute_reply": "2022-12-09T00:04:09.940781Z",
     "shell.execute_reply.started": "2022-12-09T00:04:09.914851Z"
    },
    "tags": []
   },
   "outputs": [
    {
     "name": "stdout",
     "output_type": "stream",
     "text": [
      "Model: \"model_1\"\n",
      "_________________________________________________________________\n",
      " Layer (type)                Output Shape              Param #   \n",
      "=================================================================\n",
      " input_2 (InputLayer)        [(None, 180, 180, 3)]     0         \n",
      "                                                                 \n",
      " rescaling_1 (Rescaling)     (None, 180, 180, 3)       0         \n",
      "                                                                 \n",
      " conv2d_5 (Conv2D)           (None, 178, 178, 32)      896       \n",
      "                                                                 \n",
      " max_pooling2d_4 (MaxPooling  (None, 89, 89, 32)       0         \n",
      " 2D)                                                             \n",
      "                                                                 \n",
      " conv2d_6 (Conv2D)           (None, 87, 87, 64)        18496     \n",
      "                                                                 \n",
      " max_pooling2d_5 (MaxPooling  (None, 43, 43, 64)       0         \n",
      " 2D)                                                             \n",
      "                                                                 \n",
      " conv2d_7 (Conv2D)           (None, 41, 41, 128)       73856     \n",
      "                                                                 \n",
      " max_pooling2d_6 (MaxPooling  (None, 20, 20, 128)      0         \n",
      " 2D)                                                             \n",
      "                                                                 \n",
      " conv2d_8 (Conv2D)           (None, 18, 18, 256)       295168    \n",
      "                                                                 \n",
      " max_pooling2d_7 (MaxPooling  (None, 9, 9, 256)        0         \n",
      " 2D)                                                             \n",
      "                                                                 \n",
      " conv2d_9 (Conv2D)           (None, 7, 7, 256)         590080    \n",
      "                                                                 \n",
      " flatten_1 (Flatten)         (None, 12544)             0         \n",
      "                                                                 \n",
      " dense_1 (Dense)             (None, 1)                 12545     \n",
      "                                                                 \n",
      "=================================================================\n",
      "Total params: 991,041\n",
      "Trainable params: 991,041\n",
      "Non-trainable params: 0\n",
      "_________________________________________________________________\n"
     ]
    }
   ],
   "source": [
    "model.summary()"
   ]
  },
  {
   "cell_type": "markdown",
   "id": "15601a01-f881-46e5-b2e1-488d6848408b",
   "metadata": {},
   "source": [
    "## 모델 훈련 설정하기"
   ]
  },
  {
   "cell_type": "code",
   "execution_count": 10,
   "id": "7ee1510c-b17e-4697-a24a-13ed3c46b6ef",
   "metadata": {
    "ExecuteTime": {
     "end_time": "2022-12-09T08:12:26.848901Z",
     "start_time": "2022-12-09T08:12:26.836931Z"
    },
    "execution": {
     "iopub.execute_input": "2022-12-09T00:04:10.911932Z",
     "iopub.status.busy": "2022-12-09T00:04:10.910936Z",
     "iopub.status.idle": "2022-12-09T00:04:10.929883Z",
     "shell.execute_reply": "2022-12-09T00:04:10.929883Z",
     "shell.execute_reply.started": "2022-12-09T00:04:10.911932Z"
    },
    "tags": []
   },
   "outputs": [],
   "source": [
    "model.compile(loss = 'binary_crossentropy',\n",
    "             optimizer = 'rmsprop',\n",
    "             metrics = ['accuracy'])"
   ]
  },
  {
   "cell_type": "markdown",
   "id": "4de04390-9aa4-477c-baf6-cb74671e8465",
   "metadata": {},
   "source": [
    "# 데이터 전처리"
   ]
  },
  {
   "cell_type": "markdown",
   "id": "f0ae2aca-fd73-45d9-ace7-1c07002d9659",
   "metadata": {},
   "source": [
    "## image_dataset_from_directory를 사용하여 이미지 읽기"
   ]
  },
  {
   "cell_type": "code",
   "execution_count": 11,
   "id": "2183207b-b54f-4b27-8117-bdde454b75b0",
   "metadata": {
    "ExecuteTime": {
     "end_time": "2022-12-09T08:12:28.294147Z",
     "start_time": "2022-12-09T08:12:27.809582Z"
    },
    "execution": {
     "iopub.execute_input": "2022-12-09T00:04:11.524167Z",
     "iopub.status.busy": "2022-12-09T00:04:11.524167Z",
     "iopub.status.idle": "2022-12-09T00:04:12.040277Z",
     "shell.execute_reply": "2022-12-09T00:04:12.039278Z",
     "shell.execute_reply.started": "2022-12-09T00:04:11.524167Z"
    },
    "tags": []
   },
   "outputs": [
    {
     "name": "stdout",
     "output_type": "stream",
     "text": [
      "Found 2000 files belonging to 2 classes.\n",
      "Found 1000 files belonging to 2 classes.\n",
      "Found 2000 files belonging to 2 classes.\n"
     ]
    }
   ],
   "source": [
    "from tensorflow.keras.utils import image_dataset_from_directory\n",
    "\n",
    "train_dataset = image_dataset_from_directory(\n",
    "    new_base_dir / 'train',\n",
    "    image_size = (180, 180),\n",
    "    batch_size = 32)\n",
    "validation_dataset = image_dataset_from_directory(\n",
    "    new_base_dir / 'validation',\n",
    "    image_size = (180, 180),\n",
    "    batch_size = 32)\n",
    "test_dataset = image_dataset_from_directory(\n",
    "    new_base_dir / 'test',\n",
    "    image_size = (180, 180),\n",
    "    batch_size = 32)"
   ]
  },
  {
   "cell_type": "markdown",
   "id": "833261b3-97b5-414b-9155-0043350af2e8",
   "metadata": {},
   "source": [
    "## Dataset이 반환하는 데이터와 레이블 크기 확인하기"
   ]
  },
  {
   "cell_type": "code",
   "execution_count": 12,
   "id": "2a8e2f1b-4263-4ebf-a2d0-36b40cd39351",
   "metadata": {
    "ExecuteTime": {
     "end_time": "2022-12-09T08:12:29.449978Z",
     "start_time": "2022-12-09T08:12:29.304377Z"
    },
    "execution": {
     "iopub.execute_input": "2022-12-09T00:04:12.056231Z",
     "iopub.status.busy": "2022-12-09T00:04:12.056231Z",
     "iopub.status.idle": "2022-12-09T00:04:12.367398Z",
     "shell.execute_reply": "2022-12-09T00:04:12.367398Z",
     "shell.execute_reply.started": "2022-12-09T00:04:12.056231Z"
    },
    "tags": []
   },
   "outputs": [
    {
     "name": "stdout",
     "output_type": "stream",
     "text": [
      "데이터 배치 크기 : (32, 180, 180, 3)\n",
      "레이블 배치 크기 : (32,)\n"
     ]
    }
   ],
   "source": [
    "for data_batch, labels_batch in train_dataset:\n",
    "    print('데이터 배치 크기 :', data_batch.shape)\n",
    "    print('레이블 배치 크기 :', labels_batch.shape)\n",
    "    break"
   ]
  },
  {
   "cell_type": "markdown",
   "id": "6f36ac40-2327-4343-ab8b-53ba10b569d3",
   "metadata": {},
   "source": [
    "# 데이터 훈련"
   ]
  },
  {
   "cell_type": "markdown",
   "id": "511011b4-cedc-4be4-a4e2-44bf38b409af",
   "metadata": {},
   "source": [
    "## Dataset을 사용하여 모델 훈련하기"
   ]
  },
  {
   "cell_type": "code",
   "execution_count": 13,
   "id": "a7a4ee8b-efd8-425d-84c2-14d98bc3d0c4",
   "metadata": {
    "ExecuteTime": {
     "end_time": "2022-12-09T08:26:18.979974Z",
     "start_time": "2022-12-09T08:12:30.167329Z"
    },
    "execution": {
     "iopub.execute_input": "2022-12-09T00:04:12.398316Z",
     "iopub.status.busy": "2022-12-09T00:04:12.398316Z",
     "iopub.status.idle": "2022-12-09T00:35:31.485410Z",
     "shell.execute_reply": "2022-12-09T00:35:31.484413Z",
     "shell.execute_reply.started": "2022-12-09T00:04:12.398316Z"
    },
    "tags": []
   },
   "outputs": [
    {
     "name": "stdout",
     "output_type": "stream",
     "text": [
      "Epoch 1/30\n",
      "63/63 [==============================] - 57s 892ms/step - loss: 0.7109 - accuracy: 0.5240 - val_loss: 0.6903 - val_accuracy: 0.5000\n",
      "Epoch 2/30\n",
      "63/63 [==============================] - 60s 949ms/step - loss: 0.6916 - accuracy: 0.5485 - val_loss: 0.7146 - val_accuracy: 0.5000\n",
      "Epoch 3/30\n",
      "63/63 [==============================] - 59s 942ms/step - loss: 0.6796 - accuracy: 0.5835 - val_loss: 0.6435 - val_accuracy: 0.6310\n",
      "Epoch 4/30\n",
      "63/63 [==============================] - 59s 941ms/step - loss: 0.6422 - accuracy: 0.6435 - val_loss: 0.6107 - val_accuracy: 0.6690\n",
      "Epoch 5/30\n",
      "63/63 [==============================] - 60s 958ms/step - loss: 0.6180 - accuracy: 0.6705 - val_loss: 0.5988 - val_accuracy: 0.6780\n",
      "Epoch 6/30\n",
      "63/63 [==============================] - 61s 976ms/step - loss: 0.5883 - accuracy: 0.6930 - val_loss: 0.6489 - val_accuracy: 0.6080\n",
      "Epoch 7/30\n",
      "63/63 [==============================] - 63s 994ms/step - loss: 0.5636 - accuracy: 0.7055 - val_loss: 0.7335 - val_accuracy: 0.5980\n",
      "Epoch 8/30\n",
      "63/63 [==============================] - 60s 957ms/step - loss: 0.5473 - accuracy: 0.7255 - val_loss: 0.6083 - val_accuracy: 0.6920\n",
      "Epoch 9/30\n",
      "63/63 [==============================] - 59s 940ms/step - loss: 0.5089 - accuracy: 0.7555 - val_loss: 0.6832 - val_accuracy: 0.6850\n",
      "Epoch 10/30\n",
      "63/63 [==============================] - 59s 934ms/step - loss: 0.4856 - accuracy: 0.7725 - val_loss: 0.5853 - val_accuracy: 0.6810\n",
      "Epoch 11/30\n",
      "63/63 [==============================] - 57s 910ms/step - loss: 0.4305 - accuracy: 0.7920 - val_loss: 0.6857 - val_accuracy: 0.6900\n",
      "Epoch 12/30\n",
      "63/63 [==============================] - 60s 955ms/step - loss: 0.3787 - accuracy: 0.8290 - val_loss: 0.8963 - val_accuracy: 0.6560\n",
      "Epoch 13/30\n",
      "63/63 [==============================] - 59s 943ms/step - loss: 0.3490 - accuracy: 0.8490 - val_loss: 0.9401 - val_accuracy: 0.6450\n",
      "Epoch 14/30\n",
      "56/63 [=========================>....] - ETA: 6s - loss: 0.2972 - accuracy: 0.8627"
     ]
    },
    {
     "ename": "KeyboardInterrupt",
     "evalue": "",
     "output_type": "error",
     "traceback": [
      "\u001b[1;31m---------------------------------------------------------------------------\u001b[0m",
      "\u001b[1;31mKeyboardInterrupt\u001b[0m                         Traceback (most recent call last)",
      "Cell \u001b[1;32mIn [13], line 7\u001b[0m\n\u001b[0;32m      1\u001b[0m callbacks \u001b[38;5;241m=\u001b[39m [\n\u001b[0;32m      2\u001b[0m     keras\u001b[38;5;241m.\u001b[39mcallbacks\u001b[38;5;241m.\u001b[39mModelCheckpoint(\n\u001b[0;32m      3\u001b[0m         filepath \u001b[38;5;241m=\u001b[39m \u001b[38;5;124m'\u001b[39m\u001b[38;5;124mdogs-vs-cats/convert_from_scratch.keras\u001b[39m\u001b[38;5;124m'\u001b[39m,\n\u001b[0;32m      4\u001b[0m         save_best_only \u001b[38;5;241m=\u001b[39m \u001b[38;5;28;01mTrue\u001b[39;00m,\n\u001b[0;32m      5\u001b[0m         monitor \u001b[38;5;241m=\u001b[39m \u001b[38;5;124m'\u001b[39m\u001b[38;5;124mval_loss\u001b[39m\u001b[38;5;124m'\u001b[39m)\n\u001b[0;32m      6\u001b[0m ]\n\u001b[1;32m----> 7\u001b[0m history \u001b[38;5;241m=\u001b[39m \u001b[43mmodel\u001b[49m\u001b[38;5;241;43m.\u001b[39;49m\u001b[43mfit\u001b[49m\u001b[43m(\u001b[49m\n\u001b[0;32m      8\u001b[0m \u001b[43m    \u001b[49m\u001b[43mtrain_dataset\u001b[49m\u001b[43m,\u001b[49m\n\u001b[0;32m      9\u001b[0m \u001b[43m    \u001b[49m\u001b[43mepochs\u001b[49m\u001b[43m \u001b[49m\u001b[38;5;241;43m=\u001b[39;49m\u001b[43m \u001b[49m\u001b[38;5;241;43m30\u001b[39;49m\u001b[43m,\u001b[49m\u001b[43m \u001b[49m\n\u001b[0;32m     10\u001b[0m \u001b[43m    \u001b[49m\u001b[43mvalidation_data\u001b[49m\u001b[43m \u001b[49m\u001b[38;5;241;43m=\u001b[39;49m\u001b[43m \u001b[49m\u001b[43mvalidation_dataset\u001b[49m\u001b[43m,\u001b[49m\n\u001b[0;32m     11\u001b[0m \u001b[43m    \u001b[49m\u001b[43mcallbacks\u001b[49m\u001b[43m \u001b[49m\u001b[38;5;241;43m=\u001b[39;49m\u001b[43m \u001b[49m\u001b[43mcallbacks\u001b[49m\u001b[43m)\u001b[49m\n",
      "File \u001b[1;32mC:\\Ananconda3\\lib\\site-packages\\keras\\utils\\traceback_utils.py:65\u001b[0m, in \u001b[0;36mfilter_traceback.<locals>.error_handler\u001b[1;34m(*args, **kwargs)\u001b[0m\n\u001b[0;32m     63\u001b[0m filtered_tb \u001b[38;5;241m=\u001b[39m \u001b[38;5;28;01mNone\u001b[39;00m\n\u001b[0;32m     64\u001b[0m \u001b[38;5;28;01mtry\u001b[39;00m:\n\u001b[1;32m---> 65\u001b[0m     \u001b[38;5;28;01mreturn\u001b[39;00m fn(\u001b[38;5;241m*\u001b[39margs, \u001b[38;5;241m*\u001b[39m\u001b[38;5;241m*\u001b[39mkwargs)\n\u001b[0;32m     66\u001b[0m \u001b[38;5;28;01mexcept\u001b[39;00m \u001b[38;5;167;01mException\u001b[39;00m \u001b[38;5;28;01mas\u001b[39;00m e:\n\u001b[0;32m     67\u001b[0m     filtered_tb \u001b[38;5;241m=\u001b[39m _process_traceback_frames(e\u001b[38;5;241m.\u001b[39m__traceback__)\n",
      "File \u001b[1;32mC:\\Ananconda3\\lib\\site-packages\\keras\\engine\\training.py:1650\u001b[0m, in \u001b[0;36mModel.fit\u001b[1;34m(self, x, y, batch_size, epochs, verbose, callbacks, validation_split, validation_data, shuffle, class_weight, sample_weight, initial_epoch, steps_per_epoch, validation_steps, validation_batch_size, validation_freq, max_queue_size, workers, use_multiprocessing)\u001b[0m\n\u001b[0;32m   1642\u001b[0m \u001b[38;5;28;01mwith\u001b[39;00m tf\u001b[38;5;241m.\u001b[39mprofiler\u001b[38;5;241m.\u001b[39mexperimental\u001b[38;5;241m.\u001b[39mTrace(\n\u001b[0;32m   1643\u001b[0m     \u001b[38;5;124m\"\u001b[39m\u001b[38;5;124mtrain\u001b[39m\u001b[38;5;124m\"\u001b[39m,\n\u001b[0;32m   1644\u001b[0m     epoch_num\u001b[38;5;241m=\u001b[39mepoch,\n\u001b[1;32m   (...)\u001b[0m\n\u001b[0;32m   1647\u001b[0m     _r\u001b[38;5;241m=\u001b[39m\u001b[38;5;241m1\u001b[39m,\n\u001b[0;32m   1648\u001b[0m ):\n\u001b[0;32m   1649\u001b[0m     callbacks\u001b[38;5;241m.\u001b[39mon_train_batch_begin(step)\n\u001b[1;32m-> 1650\u001b[0m     tmp_logs \u001b[38;5;241m=\u001b[39m \u001b[38;5;28;43mself\u001b[39;49m\u001b[38;5;241;43m.\u001b[39;49m\u001b[43mtrain_function\u001b[49m\u001b[43m(\u001b[49m\u001b[43miterator\u001b[49m\u001b[43m)\u001b[49m\n\u001b[0;32m   1651\u001b[0m     \u001b[38;5;28;01mif\u001b[39;00m data_handler\u001b[38;5;241m.\u001b[39mshould_sync:\n\u001b[0;32m   1652\u001b[0m         context\u001b[38;5;241m.\u001b[39masync_wait()\n",
      "File \u001b[1;32mC:\\Ananconda3\\lib\\site-packages\\tensorflow\\python\\util\\traceback_utils.py:150\u001b[0m, in \u001b[0;36mfilter_traceback.<locals>.error_handler\u001b[1;34m(*args, **kwargs)\u001b[0m\n\u001b[0;32m    148\u001b[0m filtered_tb \u001b[38;5;241m=\u001b[39m \u001b[38;5;28;01mNone\u001b[39;00m\n\u001b[0;32m    149\u001b[0m \u001b[38;5;28;01mtry\u001b[39;00m:\n\u001b[1;32m--> 150\u001b[0m   \u001b[38;5;28;01mreturn\u001b[39;00m fn(\u001b[38;5;241m*\u001b[39margs, \u001b[38;5;241m*\u001b[39m\u001b[38;5;241m*\u001b[39mkwargs)\n\u001b[0;32m    151\u001b[0m \u001b[38;5;28;01mexcept\u001b[39;00m \u001b[38;5;167;01mException\u001b[39;00m \u001b[38;5;28;01mas\u001b[39;00m e:\n\u001b[0;32m    152\u001b[0m   filtered_tb \u001b[38;5;241m=\u001b[39m _process_traceback_frames(e\u001b[38;5;241m.\u001b[39m__traceback__)\n",
      "File \u001b[1;32mC:\\Ananconda3\\lib\\site-packages\\tensorflow\\python\\eager\\polymorphic_function\\polymorphic_function.py:880\u001b[0m, in \u001b[0;36mFunction.__call__\u001b[1;34m(self, *args, **kwds)\u001b[0m\n\u001b[0;32m    877\u001b[0m compiler \u001b[38;5;241m=\u001b[39m \u001b[38;5;124m\"\u001b[39m\u001b[38;5;124mxla\u001b[39m\u001b[38;5;124m\"\u001b[39m \u001b[38;5;28;01mif\u001b[39;00m \u001b[38;5;28mself\u001b[39m\u001b[38;5;241m.\u001b[39m_jit_compile \u001b[38;5;28;01melse\u001b[39;00m \u001b[38;5;124m\"\u001b[39m\u001b[38;5;124mnonXla\u001b[39m\u001b[38;5;124m\"\u001b[39m\n\u001b[0;32m    879\u001b[0m \u001b[38;5;28;01mwith\u001b[39;00m OptionalXlaContext(\u001b[38;5;28mself\u001b[39m\u001b[38;5;241m.\u001b[39m_jit_compile):\n\u001b[1;32m--> 880\u001b[0m   result \u001b[38;5;241m=\u001b[39m \u001b[38;5;28mself\u001b[39m\u001b[38;5;241m.\u001b[39m_call(\u001b[38;5;241m*\u001b[39margs, \u001b[38;5;241m*\u001b[39m\u001b[38;5;241m*\u001b[39mkwds)\n\u001b[0;32m    882\u001b[0m new_tracing_count \u001b[38;5;241m=\u001b[39m \u001b[38;5;28mself\u001b[39m\u001b[38;5;241m.\u001b[39mexperimental_get_tracing_count()\n\u001b[0;32m    883\u001b[0m without_tracing \u001b[38;5;241m=\u001b[39m (tracing_count \u001b[38;5;241m==\u001b[39m new_tracing_count)\n",
      "File \u001b[1;32mC:\\Ananconda3\\lib\\site-packages\\tensorflow\\python\\eager\\polymorphic_function\\polymorphic_function.py:912\u001b[0m, in \u001b[0;36mFunction._call\u001b[1;34m(self, *args, **kwds)\u001b[0m\n\u001b[0;32m    909\u001b[0m   \u001b[38;5;28mself\u001b[39m\u001b[38;5;241m.\u001b[39m_lock\u001b[38;5;241m.\u001b[39mrelease()\n\u001b[0;32m    910\u001b[0m   \u001b[38;5;66;03m# In this case we have created variables on the first call, so we run the\u001b[39;00m\n\u001b[0;32m    911\u001b[0m   \u001b[38;5;66;03m# defunned version which is guaranteed to never create variables.\u001b[39;00m\n\u001b[1;32m--> 912\u001b[0m   \u001b[38;5;28;01mreturn\u001b[39;00m \u001b[38;5;28mself\u001b[39m\u001b[38;5;241m.\u001b[39m_no_variable_creation_fn(\u001b[38;5;241m*\u001b[39margs, \u001b[38;5;241m*\u001b[39m\u001b[38;5;241m*\u001b[39mkwds)  \u001b[38;5;66;03m# pylint: disable=not-callable\u001b[39;00m\n\u001b[0;32m    913\u001b[0m \u001b[38;5;28;01melif\u001b[39;00m \u001b[38;5;28mself\u001b[39m\u001b[38;5;241m.\u001b[39m_variable_creation_fn \u001b[38;5;129;01mis\u001b[39;00m \u001b[38;5;129;01mnot\u001b[39;00m \u001b[38;5;28;01mNone\u001b[39;00m:\n\u001b[0;32m    914\u001b[0m   \u001b[38;5;66;03m# Release the lock early so that multiple threads can perform the call\u001b[39;00m\n\u001b[0;32m    915\u001b[0m   \u001b[38;5;66;03m# in parallel.\u001b[39;00m\n\u001b[0;32m    916\u001b[0m   \u001b[38;5;28mself\u001b[39m\u001b[38;5;241m.\u001b[39m_lock\u001b[38;5;241m.\u001b[39mrelease()\n",
      "File \u001b[1;32mC:\\Ananconda3\\lib\\site-packages\\tensorflow\\python\\eager\\polymorphic_function\\tracing_compiler.py:134\u001b[0m, in \u001b[0;36mTracingCompiler.__call__\u001b[1;34m(self, *args, **kwargs)\u001b[0m\n\u001b[0;32m    131\u001b[0m \u001b[38;5;28;01mwith\u001b[39;00m \u001b[38;5;28mself\u001b[39m\u001b[38;5;241m.\u001b[39m_lock:\n\u001b[0;32m    132\u001b[0m   (concrete_function,\n\u001b[0;32m    133\u001b[0m    filtered_flat_args) \u001b[38;5;241m=\u001b[39m \u001b[38;5;28mself\u001b[39m\u001b[38;5;241m.\u001b[39m_maybe_define_function(args, kwargs)\n\u001b[1;32m--> 134\u001b[0m \u001b[38;5;28;01mreturn\u001b[39;00m \u001b[43mconcrete_function\u001b[49m\u001b[38;5;241;43m.\u001b[39;49m\u001b[43m_call_flat\u001b[49m\u001b[43m(\u001b[49m\n\u001b[0;32m    135\u001b[0m \u001b[43m    \u001b[49m\u001b[43mfiltered_flat_args\u001b[49m\u001b[43m,\u001b[49m\u001b[43m \u001b[49m\u001b[43mcaptured_inputs\u001b[49m\u001b[38;5;241;43m=\u001b[39;49m\u001b[43mconcrete_function\u001b[49m\u001b[38;5;241;43m.\u001b[39;49m\u001b[43mcaptured_inputs\u001b[49m\u001b[43m)\u001b[49m\n",
      "File \u001b[1;32mC:\\Ananconda3\\lib\\site-packages\\tensorflow\\python\\eager\\polymorphic_function\\monomorphic_function.py:1745\u001b[0m, in \u001b[0;36mConcreteFunction._call_flat\u001b[1;34m(self, args, captured_inputs, cancellation_manager)\u001b[0m\n\u001b[0;32m   1741\u001b[0m possible_gradient_type \u001b[38;5;241m=\u001b[39m gradients_util\u001b[38;5;241m.\u001b[39mPossibleTapeGradientTypes(args)\n\u001b[0;32m   1742\u001b[0m \u001b[38;5;28;01mif\u001b[39;00m (possible_gradient_type \u001b[38;5;241m==\u001b[39m gradients_util\u001b[38;5;241m.\u001b[39mPOSSIBLE_GRADIENT_TYPES_NONE\n\u001b[0;32m   1743\u001b[0m     \u001b[38;5;129;01mand\u001b[39;00m executing_eagerly):\n\u001b[0;32m   1744\u001b[0m   \u001b[38;5;66;03m# No tape is watching; skip to running the function.\u001b[39;00m\n\u001b[1;32m-> 1745\u001b[0m   \u001b[38;5;28;01mreturn\u001b[39;00m \u001b[38;5;28mself\u001b[39m\u001b[38;5;241m.\u001b[39m_build_call_outputs(\u001b[38;5;28;43mself\u001b[39;49m\u001b[38;5;241;43m.\u001b[39;49m\u001b[43m_inference_function\u001b[49m\u001b[38;5;241;43m.\u001b[39;49m\u001b[43mcall\u001b[49m\u001b[43m(\u001b[49m\n\u001b[0;32m   1746\u001b[0m \u001b[43m      \u001b[49m\u001b[43mctx\u001b[49m\u001b[43m,\u001b[49m\u001b[43m \u001b[49m\u001b[43margs\u001b[49m\u001b[43m,\u001b[49m\u001b[43m \u001b[49m\u001b[43mcancellation_manager\u001b[49m\u001b[38;5;241;43m=\u001b[39;49m\u001b[43mcancellation_manager\u001b[49m\u001b[43m)\u001b[49m)\n\u001b[0;32m   1747\u001b[0m forward_backward \u001b[38;5;241m=\u001b[39m \u001b[38;5;28mself\u001b[39m\u001b[38;5;241m.\u001b[39m_select_forward_and_backward_functions(\n\u001b[0;32m   1748\u001b[0m     args,\n\u001b[0;32m   1749\u001b[0m     possible_gradient_type,\n\u001b[0;32m   1750\u001b[0m     executing_eagerly)\n\u001b[0;32m   1751\u001b[0m forward_function, args_with_tangents \u001b[38;5;241m=\u001b[39m forward_backward\u001b[38;5;241m.\u001b[39mforward()\n",
      "File \u001b[1;32mC:\\Ananconda3\\lib\\site-packages\\tensorflow\\python\\eager\\polymorphic_function\\monomorphic_function.py:378\u001b[0m, in \u001b[0;36m_EagerDefinedFunction.call\u001b[1;34m(self, ctx, args, cancellation_manager)\u001b[0m\n\u001b[0;32m    376\u001b[0m \u001b[38;5;28;01mwith\u001b[39;00m _InterpolateFunctionError(\u001b[38;5;28mself\u001b[39m):\n\u001b[0;32m    377\u001b[0m   \u001b[38;5;28;01mif\u001b[39;00m cancellation_manager \u001b[38;5;129;01mis\u001b[39;00m \u001b[38;5;28;01mNone\u001b[39;00m:\n\u001b[1;32m--> 378\u001b[0m     outputs \u001b[38;5;241m=\u001b[39m \u001b[43mexecute\u001b[49m\u001b[38;5;241;43m.\u001b[39;49m\u001b[43mexecute\u001b[49m\u001b[43m(\u001b[49m\n\u001b[0;32m    379\u001b[0m \u001b[43m        \u001b[49m\u001b[38;5;28;43mstr\u001b[39;49m\u001b[43m(\u001b[49m\u001b[38;5;28;43mself\u001b[39;49m\u001b[38;5;241;43m.\u001b[39;49m\u001b[43msignature\u001b[49m\u001b[38;5;241;43m.\u001b[39;49m\u001b[43mname\u001b[49m\u001b[43m)\u001b[49m\u001b[43m,\u001b[49m\n\u001b[0;32m    380\u001b[0m \u001b[43m        \u001b[49m\u001b[43mnum_outputs\u001b[49m\u001b[38;5;241;43m=\u001b[39;49m\u001b[38;5;28;43mself\u001b[39;49m\u001b[38;5;241;43m.\u001b[39;49m\u001b[43m_num_outputs\u001b[49m\u001b[43m,\u001b[49m\n\u001b[0;32m    381\u001b[0m \u001b[43m        \u001b[49m\u001b[43minputs\u001b[49m\u001b[38;5;241;43m=\u001b[39;49m\u001b[43margs\u001b[49m\u001b[43m,\u001b[49m\n\u001b[0;32m    382\u001b[0m \u001b[43m        \u001b[49m\u001b[43mattrs\u001b[49m\u001b[38;5;241;43m=\u001b[39;49m\u001b[43mattrs\u001b[49m\u001b[43m,\u001b[49m\n\u001b[0;32m    383\u001b[0m \u001b[43m        \u001b[49m\u001b[43mctx\u001b[49m\u001b[38;5;241;43m=\u001b[39;49m\u001b[43mctx\u001b[49m\u001b[43m)\u001b[49m\n\u001b[0;32m    384\u001b[0m   \u001b[38;5;28;01melse\u001b[39;00m:\n\u001b[0;32m    385\u001b[0m     outputs \u001b[38;5;241m=\u001b[39m execute\u001b[38;5;241m.\u001b[39mexecute_with_cancellation(\n\u001b[0;32m    386\u001b[0m         \u001b[38;5;28mstr\u001b[39m(\u001b[38;5;28mself\u001b[39m\u001b[38;5;241m.\u001b[39msignature\u001b[38;5;241m.\u001b[39mname),\n\u001b[0;32m    387\u001b[0m         num_outputs\u001b[38;5;241m=\u001b[39m\u001b[38;5;28mself\u001b[39m\u001b[38;5;241m.\u001b[39m_num_outputs,\n\u001b[1;32m   (...)\u001b[0m\n\u001b[0;32m    390\u001b[0m         ctx\u001b[38;5;241m=\u001b[39mctx,\n\u001b[0;32m    391\u001b[0m         cancellation_manager\u001b[38;5;241m=\u001b[39mcancellation_manager)\n",
      "File \u001b[1;32mC:\\Ananconda3\\lib\\site-packages\\tensorflow\\python\\eager\\execute.py:52\u001b[0m, in \u001b[0;36mquick_execute\u001b[1;34m(op_name, num_outputs, inputs, attrs, ctx, name)\u001b[0m\n\u001b[0;32m     50\u001b[0m \u001b[38;5;28;01mtry\u001b[39;00m:\n\u001b[0;32m     51\u001b[0m   ctx\u001b[38;5;241m.\u001b[39mensure_initialized()\n\u001b[1;32m---> 52\u001b[0m   tensors \u001b[38;5;241m=\u001b[39m \u001b[43mpywrap_tfe\u001b[49m\u001b[38;5;241;43m.\u001b[39;49m\u001b[43mTFE_Py_Execute\u001b[49m\u001b[43m(\u001b[49m\u001b[43mctx\u001b[49m\u001b[38;5;241;43m.\u001b[39;49m\u001b[43m_handle\u001b[49m\u001b[43m,\u001b[49m\u001b[43m \u001b[49m\u001b[43mdevice_name\u001b[49m\u001b[43m,\u001b[49m\u001b[43m \u001b[49m\u001b[43mop_name\u001b[49m\u001b[43m,\u001b[49m\n\u001b[0;32m     53\u001b[0m \u001b[43m                                      \u001b[49m\u001b[43minputs\u001b[49m\u001b[43m,\u001b[49m\u001b[43m \u001b[49m\u001b[43mattrs\u001b[49m\u001b[43m,\u001b[49m\u001b[43m \u001b[49m\u001b[43mnum_outputs\u001b[49m\u001b[43m)\u001b[49m\n\u001b[0;32m     54\u001b[0m \u001b[38;5;28;01mexcept\u001b[39;00m core\u001b[38;5;241m.\u001b[39m_NotOkStatusException \u001b[38;5;28;01mas\u001b[39;00m e:\n\u001b[0;32m     55\u001b[0m   \u001b[38;5;28;01mif\u001b[39;00m name \u001b[38;5;129;01mis\u001b[39;00m \u001b[38;5;129;01mnot\u001b[39;00m \u001b[38;5;28;01mNone\u001b[39;00m:\n",
      "\u001b[1;31mKeyboardInterrupt\u001b[0m: "
     ]
    }
   ],
   "source": [
    "callbacks = [\n",
    "    keras.callbacks.ModelCheckpoint(\n",
    "        filepath = 'dogs-vs-cats/convert_from_scratch.keras',\n",
    "        save_best_only = True,\n",
    "        monitor = 'val_loss')\n",
    "]\n",
    "history = model.fit(\n",
    "    train_dataset,\n",
    "    epochs = 30, \n",
    "    validation_data = validation_dataset,\n",
    "    callbacks = callbacks)"
   ]
  },
  {
   "cell_type": "markdown",
   "id": "9fd0abea-3466-45db-afaf-ba0166aa5404",
   "metadata": {},
   "source": [
    "## 훈련 과정의 정확도와 손실 그래프 그리기"
   ]
  },
  {
   "cell_type": "code",
   "execution_count": null,
   "id": "0f972f80-1e17-412c-840f-5bbb990422c6",
   "metadata": {
    "ExecuteTime": {
     "end_time": "2022-12-09T08:26:18.986956Z",
     "start_time": "2022-12-09T08:26:18.986956Z"
    },
    "execution": {
     "iopub.execute_input": "2022-12-09T00:35:45.101340Z",
     "iopub.status.busy": "2022-12-09T00:35:45.101340Z",
     "iopub.status.idle": "2022-12-09T00:35:45.964459Z",
     "shell.execute_reply": "2022-12-09T00:35:45.963461Z",
     "shell.execute_reply.started": "2022-12-09T00:35:45.101340Z"
    }
   },
   "outputs": [],
   "source": [
    "import matplotlib.pyplot as plt\n",
    "\n",
    "accuracy = history.history['accuracy']\n",
    "val_accuracy = history.history['val_accuracy']\n",
    "loss = history.history['loss']\n",
    "val_loss = history.history['val_loss']\n",
    "epochs = range(1, len(accuracy) + 1)\n",
    "plt.plot(epochs, accuracy, 'bo', label = 'Training accuracy')\n",
    "plt.plot(epochs, val_accuracy, 'b', label = 'Validation accuracy')\n",
    "plt.title('Training and validation accuracy')\n",
    "plt.legend()\n",
    "plt.figure()\n",
    "plt.plot(epochs, loss, 'bo', label = 'Training loss')\n",
    "plt.plot(epochs, val_loss, 'b', label = 'Validation loss')\n",
    "plt.title('Training and validation loss')\n",
    "plt.legend()\n",
    "plt.show()"
   ]
  },
  {
   "cell_type": "markdown",
   "id": "10882ee2-daf3-4d42-a9c0-e3bd8c2458ed",
   "metadata": {},
   "source": [
    "## 테스트 세트에서 모델 평가하기"
   ]
  },
  {
   "cell_type": "code",
   "execution_count": null,
   "id": "4e0da495-dfde-4d4b-8869-eb7a6981c8d3",
   "metadata": {
    "ExecuteTime": {
     "end_time": "2022-12-09T08:26:18.990946Z",
     "start_time": "2022-12-09T08:26:18.990946Z"
    },
    "execution": {
     "iopub.execute_input": "2022-12-09T00:38:12.970563Z",
     "iopub.status.busy": "2022-12-09T00:38:12.969568Z",
     "iopub.status.idle": "2022-12-09T00:38:25.548591Z",
     "shell.execute_reply": "2022-12-09T00:38:25.548591Z",
     "shell.execute_reply.started": "2022-12-09T00:38:12.970563Z"
    },
    "tags": []
   },
   "outputs": [],
   "source": [
    "test_model = keras.models.load_model('dogs-vs-cats/convert_from_scratch.keras')\n",
    "test_loss, test_acc = test_model.evaluate(test_dataset)\n",
    "print(f'테스트 정확도 : {test_acc:.3f}')"
   ]
  },
  {
   "cell_type": "markdown",
   "id": "f1a9932e-8921-4221-8fc2-f5629d6aa006",
   "metadata": {
    "tags": []
   },
   "source": [
    "# 데이터 증식 사용하기"
   ]
  },
  {
   "cell_type": "markdown",
   "id": "0b75ad35-1c32-4f2a-bf36-1b5f5cddb003",
   "metadata": {},
   "source": [
    "## 컨브넷에 추가할 데이터 증식 단계 정의하기"
   ]
  },
  {
   "cell_type": "code",
   "execution_count": null,
   "id": "2dd84bee-989b-443a-a5a2-7073f5e2cc7b",
   "metadata": {
    "ExecuteTime": {
     "end_time": "2022-12-09T08:26:18.994935Z",
     "start_time": "2022-12-09T08:26:18.994935Z"
    },
    "execution": {
     "iopub.execute_input": "2022-12-09T00:39:05.778014Z",
     "iopub.status.busy": "2022-12-09T00:39:05.778014Z",
     "iopub.status.idle": "2022-12-09T00:39:05.798017Z",
     "shell.execute_reply": "2022-12-09T00:39:05.798017Z",
     "shell.execute_reply.started": "2022-12-09T00:39:05.778014Z"
    },
    "tags": []
   },
   "outputs": [],
   "source": [
    "data_augmentation = keras.Sequential([\n",
    "    layers.RandomFlip('horizontal'),\n",
    "    layers.RandomRotation(0.1),\n",
    "    layers.RandomZoom(0.2),\n",
    "])"
   ]
  },
  {
   "cell_type": "markdown",
   "id": "5e895918-5bb1-4823-a3cf-18e7f6c0a6e3",
   "metadata": {},
   "source": [
    "## 랜덤하게 증식된 훈련 이미지 출력하기"
   ]
  },
  {
   "cell_type": "code",
   "execution_count": null,
   "id": "bcd41cff-8db8-487a-8eff-755cfa329ee0",
   "metadata": {
    "ExecuteTime": {
     "end_time": "2022-12-09T08:26:18.998924Z",
     "start_time": "2022-12-09T08:26:18.998924Z"
    },
    "execution": {
     "iopub.execute_input": "2022-12-09T00:40:10.533761Z",
     "iopub.status.busy": "2022-12-09T00:40:10.532764Z",
     "iopub.status.idle": "2022-12-09T00:40:22.309958Z",
     "shell.execute_reply": "2022-12-09T00:40:22.308963Z",
     "shell.execute_reply.started": "2022-12-09T00:40:10.533761Z"
    },
    "tags": []
   },
   "outputs": [],
   "source": [
    "plt.figure(figsize = (10, 10))\n",
    "for images, _ in train_dataset.take(1):\n",
    "    for i in range(9):\n",
    "        augmented_images = data_augmentation(images)\n",
    "        ax = plt.subplot(3, 3, i + 1)\n",
    "        plt.imshow(augmented_images[0].numpy().astype('uint8'))\n",
    "        plt.axis('off')"
   ]
  },
  {
   "cell_type": "markdown",
   "id": "70254303-bd43-4107-9680-32a3c145e0b3",
   "metadata": {},
   "source": [
    "## 이미지 증식과 드롭아웃을 포함한 컨브넷 만들기"
   ]
  },
  {
   "cell_type": "code",
   "execution_count": null,
   "id": "a1d13860-b5e5-4b11-9bd8-fe01c669c59f",
   "metadata": {
    "ExecuteTime": {
     "end_time": "2022-12-09T08:26:19.002913Z",
     "start_time": "2022-12-09T08:26:19.002913Z"
    },
    "tags": []
   },
   "outputs": [],
   "source": [
    "inputs  = keras.Input(shape = (180, 180, 3))\n",
    "x = data_augmentation(inputs)\n",
    "x = layers.Rescaling(1./255)(inputs)\n",
    "x = layers.Conv2D(filters = 32, kernel_size = 3, activation  = 'relu')(x)\n",
    "x = layers.MaxPooling2D(pool_size = 2)(x)\n",
    "x = layers.Conv2D(filters = 64, kernel_size = 3, activation  = 'relu')(x)\n",
    "x = layers.MaxPooling2D(pool_size = 2)(x)\n",
    "x = layers.Conv2D(filters = 128, kernel_size = 3, activation  = 'relu')(x)\n",
    "x = layers.MaxPooling2D(pool_size = 2)(x)\n",
    "x = layers.Conv2D(filters = 256, kernel_size = 3, activation  = 'relu')(x)\n",
    "x = layers.MaxPooling2D(pool_size = 2)(x)\n",
    "x = layers.Conv2D(filters = 256, kernel_size = 3, activation  = 'relu')(x)\n",
    "x = layers.Flatten()(x)\n",
    "x = layers.Dropout(0.5)(x)\n",
    "outputs = layers.Dense(1, activation = 'sigmoid')(x)\n",
    "model = keras.Model(inputs = inputs, outputs = outputs)\n",
    "\n",
    "model.compile(loss = 'binary_crossentropy',\n",
    "             optimizer = 'rmsprop',\n",
    "             metrics = ['accuracy'])"
   ]
  },
  {
   "cell_type": "markdown",
   "id": "fa996100-bada-444a-980b-c62b158e87b0",
   "metadata": {},
   "source": [
    "## 규제를 추가한 컨브넷 훈련하기"
   ]
  },
  {
   "cell_type": "code",
   "execution_count": null,
   "id": "68238311-5c71-4fcc-b4ad-58941e41e8f7",
   "metadata": {
    "ExecuteTime": {
     "end_time": "2022-12-09T08:26:19.007900Z",
     "start_time": "2022-12-09T08:26:19.007900Z"
    }
   },
   "outputs": [],
   "source": [
    "callbacks = [\n",
    "    keras.callbacks.ModelCheckpoint(\n",
    "        filepath = 'dogs-vs-cats/convert_from_scratch_with_augmentation.keras')\n",
    "        save_best_only = True,\n",
    "    monitor = 'val_loss'\n",
    "]\n",
    "history = model.fit(\n",
    "    train_dataset,\n",
    "    epochs = 100,\n",
    "    validation_data = validation_dataset,\n",
    "    callbacks = callbacks)"
   ]
  },
  {
   "cell_type": "markdown",
   "id": "1644ef5b-bd84-4dcb-a632-3ab08e6743d9",
   "metadata": {},
   "source": [
    "## 테스트 세트에서 모델 훈련하기"
   ]
  },
  {
   "cell_type": "code",
   "execution_count": null,
   "id": "e225e4c4-94a2-4564-a782-f21a2a59325c",
   "metadata": {
    "ExecuteTime": {
     "end_time": "2022-12-09T08:26:19.012896Z",
     "start_time": "2022-12-09T08:26:19.012896Z"
    }
   },
   "outputs": [],
   "source": [
    "test_model = keras.models.load_model(\n",
    "    'dogs-vs-cats/convert_from_scratch_with_augmentation.keras')\n",
    "test_loss, test_acc = test_model.evaluate(test_dataset)\n",
    "print(f'테스트 정확도 : {test_acc:.3f}')"
   ]
  },
  {
   "cell_type": "code",
   "execution_count": null,
   "id": "77460a48",
   "metadata": {},
   "outputs": [],
   "source": []
  }
 ],
 "metadata": {
  "kernelspec": {
   "display_name": "Python 3 (ipykernel)",
   "language": "python",
   "name": "python3"
  },
  "language_info": {
   "codemirror_mode": {
    "name": "ipython",
    "version": 3
   },
   "file_extension": ".py",
   "mimetype": "text/x-python",
   "name": "python",
   "nbconvert_exporter": "python",
   "pygments_lexer": "ipython3",
   "version": "3.9.7"
  },
  "toc": {
   "base_numbering": 1,
   "nav_menu": {},
   "number_sections": true,
   "sideBar": true,
   "skip_h1_title": false,
   "title_cell": "Table of Contents",
   "title_sidebar": "Contents",
   "toc_cell": false,
   "toc_position": {},
   "toc_section_display": true,
   "toc_window_display": false
  },
  "toc-autonumbering": true,
  "toc-showcode": false,
  "toc-showmarkdowntxt": false,
  "varInspector": {
   "cols": {
    "lenName": 16,
    "lenType": 16,
    "lenVar": 40
   },
   "kernels_config": {
    "python": {
     "delete_cmd_postfix": "",
     "delete_cmd_prefix": "del ",
     "library": "var_list.py",
     "varRefreshCmd": "print(var_dic_list())"
    },
    "r": {
     "delete_cmd_postfix": ") ",
     "delete_cmd_prefix": "rm(",
     "library": "var_list.r",
     "varRefreshCmd": "cat(var_dic_list()) "
    }
   },
   "types_to_exclude": [
    "module",
    "function",
    "builtin_function_or_method",
    "instance",
    "_Feature"
   ],
   "window_display": false
  }
 },
 "nbformat": 4,
 "nbformat_minor": 5
}
