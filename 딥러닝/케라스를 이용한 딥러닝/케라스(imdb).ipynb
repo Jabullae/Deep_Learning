{
 "cells": [
  {
   "cell_type": "markdown",
   "id": "3dacb3e1-5e79-4cc0-8c52-a7ab2e1dd2a4",
   "metadata": {},
   "source": [
    "# 데이터 로딩"
   ]
  },
  {
   "cell_type": "markdown",
   "id": "ccf0b401-ebfe-4b2c-9600-70929f8b79df",
   "metadata": {},
   "source": [
    "## IMDB 데이터셋 로드하기"
   ]
  },
  {
   "cell_type": "code",
   "execution_count": 2,
   "id": "72a7849b-b97e-4df6-9bba-a59532376bd8",
   "metadata": {
    "execution": {
     "iopub.execute_input": "2022-12-05T06:33:27.732228Z",
     "iopub.status.busy": "2022-12-05T06:33:27.732228Z",
     "iopub.status.idle": "2022-12-05T06:33:34.214794Z",
     "shell.execute_reply": "2022-12-05T06:33:34.213791Z",
     "shell.execute_reply.started": "2022-12-05T06:33:27.732228Z"
    },
    "tags": []
   },
   "outputs": [],
   "source": [
    "from tensorflow.keras.datasets import imdb\n",
    "\n",
    "(train_data, train_labels), (test_data, test_labels) = imdb.load_data(\n",
    "    num_words = 10000)"
   ]
  },
  {
   "cell_type": "code",
   "execution_count": 3,
   "id": "6b966a54-784d-4b12-a7af-262dad9556aa",
   "metadata": {
    "execution": {
     "iopub.execute_input": "2022-12-05T06:33:34.236526Z",
     "iopub.status.busy": "2022-12-05T06:33:34.236526Z",
     "iopub.status.idle": "2022-12-05T06:33:34.250329Z",
     "shell.execute_reply": "2022-12-05T06:33:34.250329Z",
     "shell.execute_reply.started": "2022-12-05T06:33:34.236526Z"
    },
    "tags": []
   },
   "outputs": [
    {
     "data": {
      "text/plain": [
       "array([list([1, 14, 22, 16, 43, 530, 973, 1622, 1385, 65, 458, 4468, 66, 3941, 4, 173, 36, 256, 5, 25, 100, 43, 838, 112, 50, 670, 2, 9, 35, 480, 284, 5, 150, 4, 172, 112, 167, 2, 336, 385, 39, 4, 172, 4536, 1111, 17, 546, 38, 13, 447, 4, 192, 50, 16, 6, 147, 2025, 19, 14, 22, 4, 1920, 4613, 469, 4, 22, 71, 87, 12, 16, 43, 530, 38, 76, 15, 13, 1247, 4, 22, 17, 515, 17, 12, 16, 626, 18, 2, 5, 62, 386, 12, 8, 316, 8, 106, 5, 4, 2223, 5244, 16, 480, 66, 3785, 33, 4, 130, 12, 16, 38, 619, 5, 25, 124, 51, 36, 135, 48, 25, 1415, 33, 6, 22, 12, 215, 28, 77, 52, 5, 14, 407, 16, 82, 2, 8, 4, 107, 117, 5952, 15, 256, 4, 2, 7, 3766, 5, 723, 36, 71, 43, 530, 476, 26, 400, 317, 46, 7, 4, 2, 1029, 13, 104, 88, 4, 381, 15, 297, 98, 32, 2071, 56, 26, 141, 6, 194, 7486, 18, 4, 226, 22, 21, 134, 476, 26, 480, 5, 144, 30, 5535, 18, 51, 36, 28, 224, 92, 25, 104, 4, 226, 65, 16, 38, 1334, 88, 12, 16, 283, 5, 16, 4472, 113, 103, 32, 15, 16, 5345, 19, 178, 32]),\n",
       "       list([1, 194, 1153, 194, 8255, 78, 228, 5, 6, 1463, 4369, 5012, 134, 26, 4, 715, 8, 118, 1634, 14, 394, 20, 13, 119, 954, 189, 102, 5, 207, 110, 3103, 21, 14, 69, 188, 8, 30, 23, 7, 4, 249, 126, 93, 4, 114, 9, 2300, 1523, 5, 647, 4, 116, 9, 35, 8163, 4, 229, 9, 340, 1322, 4, 118, 9, 4, 130, 4901, 19, 4, 1002, 5, 89, 29, 952, 46, 37, 4, 455, 9, 45, 43, 38, 1543, 1905, 398, 4, 1649, 26, 6853, 5, 163, 11, 3215, 2, 4, 1153, 9, 194, 775, 7, 8255, 2, 349, 2637, 148, 605, 2, 8003, 15, 123, 125, 68, 2, 6853, 15, 349, 165, 4362, 98, 5, 4, 228, 9, 43, 2, 1157, 15, 299, 120, 5, 120, 174, 11, 220, 175, 136, 50, 9, 4373, 228, 8255, 5, 2, 656, 245, 2350, 5, 4, 9837, 131, 152, 491, 18, 2, 32, 7464, 1212, 14, 9, 6, 371, 78, 22, 625, 64, 1382, 9, 8, 168, 145, 23, 4, 1690, 15, 16, 4, 1355, 5, 28, 6, 52, 154, 462, 33, 89, 78, 285, 16, 145, 95]),\n",
       "       list([1, 14, 47, 8, 30, 31, 7, 4, 249, 108, 7, 4, 5974, 54, 61, 369, 13, 71, 149, 14, 22, 112, 4, 2401, 311, 12, 16, 3711, 33, 75, 43, 1829, 296, 4, 86, 320, 35, 534, 19, 263, 4821, 1301, 4, 1873, 33, 89, 78, 12, 66, 16, 4, 360, 7, 4, 58, 316, 334, 11, 4, 1716, 43, 645, 662, 8, 257, 85, 1200, 42, 1228, 2578, 83, 68, 3912, 15, 36, 165, 1539, 278, 36, 69, 2, 780, 8, 106, 14, 6905, 1338, 18, 6, 22, 12, 215, 28, 610, 40, 6, 87, 326, 23, 2300, 21, 23, 22, 12, 272, 40, 57, 31, 11, 4, 22, 47, 6, 2307, 51, 9, 170, 23, 595, 116, 595, 1352, 13, 191, 79, 638, 89, 2, 14, 9, 8, 106, 607, 624, 35, 534, 6, 227, 7, 129, 113]),\n",
       "       ...,\n",
       "       list([1, 11, 6, 230, 245, 6401, 9, 6, 1225, 446, 2, 45, 2174, 84, 8322, 4007, 21, 4, 912, 84, 2, 325, 725, 134, 2, 1715, 84, 5, 36, 28, 57, 1099, 21, 8, 140, 8, 703, 5, 2, 84, 56, 18, 1644, 14, 9, 31, 7, 4, 9406, 1209, 2295, 2, 1008, 18, 6, 20, 207, 110, 563, 12, 8, 2901, 2, 8, 97, 6, 20, 53, 4767, 74, 4, 460, 364, 1273, 29, 270, 11, 960, 108, 45, 40, 29, 2961, 395, 11, 6, 4065, 500, 7, 2, 89, 364, 70, 29, 140, 4, 64, 4780, 11, 4, 2678, 26, 178, 4, 529, 443, 2, 5, 27, 710, 117, 2, 8123, 165, 47, 84, 37, 131, 818, 14, 595, 10, 10, 61, 1242, 1209, 10, 10, 288, 2260, 1702, 34, 2901, 2, 4, 65, 496, 4, 231, 7, 790, 5, 6, 320, 234, 2766, 234, 1119, 1574, 7, 496, 4, 139, 929, 2901, 2, 7750, 5, 4241, 18, 4, 8497, 2, 250, 11, 1818, 7561, 4, 4217, 5408, 747, 1115, 372, 1890, 1006, 541, 9303, 7, 4, 59, 2, 4, 3586, 2]),\n",
       "       list([1, 1446, 7079, 69, 72, 3305, 13, 610, 930, 8, 12, 582, 23, 5, 16, 484, 685, 54, 349, 11, 4120, 2959, 45, 58, 1466, 13, 197, 12, 16, 43, 23, 2, 5, 62, 30, 145, 402, 11, 4131, 51, 575, 32, 61, 369, 71, 66, 770, 12, 1054, 75, 100, 2198, 8, 4, 105, 37, 69, 147, 712, 75, 3543, 44, 257, 390, 5, 69, 263, 514, 105, 50, 286, 1814, 23, 4, 123, 13, 161, 40, 5, 421, 4, 116, 16, 897, 13, 2, 40, 319, 5872, 112, 6700, 11, 4803, 121, 25, 70, 3468, 4, 719, 3798, 13, 18, 31, 62, 40, 8, 7200, 4, 2, 7, 14, 123, 5, 942, 25, 8, 721, 12, 145, 5, 202, 12, 160, 580, 202, 12, 6, 52, 58, 2, 92, 401, 728, 12, 39, 14, 251, 8, 15, 251, 5, 2, 12, 38, 84, 80, 124, 12, 9, 23]),\n",
       "       list([1, 17, 6, 194, 337, 7, 4, 204, 22, 45, 254, 8, 106, 14, 123, 4, 2, 270, 2, 5, 2, 2, 732, 2098, 101, 405, 39, 14, 1034, 4, 1310, 9, 115, 50, 305, 12, 47, 4, 168, 5, 235, 7, 38, 111, 699, 102, 7, 4, 4039, 9245, 9, 24, 6, 78, 1099, 17, 2345, 2, 21, 27, 9685, 6139, 5, 2, 1603, 92, 1183, 4, 1310, 7, 4, 204, 42, 97, 90, 35, 221, 109, 29, 127, 27, 118, 8, 97, 12, 157, 21, 6789, 2, 9, 6, 66, 78, 1099, 4, 631, 1191, 5, 2642, 272, 191, 1070, 6, 7585, 8, 2197, 2, 2, 544, 5, 383, 1271, 848, 1468, 2, 497, 2, 8, 1597, 8778, 2, 21, 60, 27, 239, 9, 43, 8368, 209, 405, 10, 10, 12, 764, 40, 4, 248, 20, 12, 16, 5, 174, 1791, 72, 7, 51, 6, 1739, 22, 4, 204, 131, 9])],\n",
       "      dtype=object)"
      ]
     },
     "execution_count": 3,
     "metadata": {},
     "output_type": "execute_result"
    }
   ],
   "source": [
    "train_data"
   ]
  },
  {
   "cell_type": "markdown",
   "id": "6a1d544e-4da2-46b4-b338-b4856fdc6163",
   "metadata": {},
   "source": [
    "## 리뷰 하나를 다시 텍스트로 디코딩하기"
   ]
  },
  {
   "cell_type": "code",
   "execution_count": 4,
   "id": "d963fd77-c15c-408d-b099-cfc290df2243",
   "metadata": {
    "execution": {
     "iopub.execute_input": "2022-12-05T06:33:34.252332Z",
     "iopub.status.busy": "2022-12-05T06:33:34.252332Z",
     "iopub.status.idle": "2022-12-05T06:33:34.330124Z",
     "shell.execute_reply": "2022-12-05T06:33:34.329373Z",
     "shell.execute_reply.started": "2022-12-05T06:33:34.252332Z"
    },
    "tags": []
   },
   "outputs": [],
   "source": [
    "# 리뷰를 다시 텍스트로 디코딩하기\n",
    "word_index = imdb.get_word_index()\n",
    "reverse_word_index = dict(\n",
    "    [(value, key) for (key, value) in word_index.items()])\n",
    "decoded_review = \" \".join(\n",
    "    [reverse_word_index.get(i - 3, \"?\") for i in train_data[0]])"
   ]
  },
  {
   "cell_type": "code",
   "execution_count": 5,
   "id": "3130cdbc-5cf5-4b0f-9bfc-ce3d90e7c1f1",
   "metadata": {
    "execution": {
     "iopub.execute_input": "2022-12-05T06:33:34.332120Z",
     "iopub.status.busy": "2022-12-05T06:33:34.331121Z",
     "iopub.status.idle": "2022-12-05T06:33:34.346082Z",
     "shell.execute_reply": "2022-12-05T06:33:34.345083Z",
     "shell.execute_reply.started": "2022-12-05T06:33:34.332120Z"
    },
    "tags": []
   },
   "outputs": [
    {
     "data": {
      "text/plain": [
       "\"? this film was just brilliant casting location scenery story direction everyone's really suited the part they played and you could just imagine being there robert ? is an amazing actor and now the same being director ? father came from the same scottish island as myself so i loved the fact there was a real connection with this film the witty remarks throughout the film were great it was just brilliant so much that i bought the film as soon as it was released for ? and would recommend it to everyone to watch and the fly fishing was amazing really cried at the end it was so sad and you know what they say if you cry at a film it must have been good and this definitely was also ? to the two little boy's that played the ? of norman and paul they were just brilliant children are often left out of the ? list i think because the stars that play them all grown up are such a big profile for the whole film but these children are amazing and should be praised for what they have done don't you think the whole story was so lovely because it was true and was someone's life after all that was shared with us all\""
      ]
     },
     "execution_count": 5,
     "metadata": {},
     "output_type": "execute_result"
    }
   ],
   "source": [
    "decoded_review"
   ]
  },
  {
   "cell_type": "markdown",
   "id": "634aebfb-b08c-45b7-8e4a-e503e9c6ce57",
   "metadata": {},
   "source": [
    "# 데이터 준비"
   ]
  },
  {
   "cell_type": "markdown",
   "id": "fd23667e-c2bf-4f6f-8b12-fb28ef28b274",
   "metadata": {},
   "source": [
    "## 정수 시퀀스를 멀티-핫 인코딩으로 인코딩하기"
   ]
  },
  {
   "cell_type": "code",
   "execution_count": 6,
   "id": "05dec1e0-1131-48bf-8823-74f3a47bd5cc",
   "metadata": {
    "execution": {
     "iopub.execute_input": "2022-12-05T06:33:34.348076Z",
     "iopub.status.busy": "2022-12-05T06:33:34.347079Z",
     "iopub.status.idle": "2022-12-05T06:33:36.364993Z",
     "shell.execute_reply": "2022-12-05T06:33:36.363992Z",
     "shell.execute_reply.started": "2022-12-05T06:33:34.348076Z"
    },
    "tags": []
   },
   "outputs": [],
   "source": [
    "import numpy as np\n",
    "\n",
    "def vectorize_sequences(sequences, dimension = 10000):\n",
    "    results = np.zeros((len(sequences), dimension))\n",
    "    for i, sequences in enumerate(sequences):\n",
    "        for j in sequences:\n",
    "            results[i, j] = 1.\n",
    "    return results\n",
    "x_train = vectorize_sequences(train_data)\n",
    "x_test = vectorize_sequences(test_data)"
   ]
  },
  {
   "cell_type": "code",
   "execution_count": 7,
   "id": "786423ed-a5ba-45ee-a490-f4327ec0aa0b",
   "metadata": {
    "execution": {
     "iopub.execute_input": "2022-12-05T06:33:36.365989Z",
     "iopub.status.busy": "2022-12-05T06:33:36.365989Z",
     "iopub.status.idle": "2022-12-05T06:33:36.392514Z",
     "shell.execute_reply": "2022-12-05T06:33:36.392514Z",
     "shell.execute_reply.started": "2022-12-05T06:33:36.365989Z"
    },
    "tags": []
   },
   "outputs": [],
   "source": [
    "y_train = np.asarray(train_labels).astype('float32')\n",
    "y_test = np.asarray(test_labels).astype('float32')"
   ]
  },
  {
   "cell_type": "markdown",
   "id": "cc3552aa-5bcf-4d74-8f15-317bb281fdb5",
   "metadata": {
    "execution": {
     "iopub.execute_input": "2022-12-02T07:49:59.325455Z",
     "iopub.status.busy": "2022-12-02T07:49:59.325455Z",
     "iopub.status.idle": "2022-12-02T07:49:59.340415Z",
     "shell.execute_reply": "2022-12-02T07:49:59.340415Z",
     "shell.execute_reply.started": "2022-12-02T07:49:59.325455Z"
    },
    "tags": []
   },
   "source": [
    "# 신경망 모델 만들기"
   ]
  },
  {
   "cell_type": "markdown",
   "id": "2241dd39-ebb7-4bf2-8200-d9459ddcd29c",
   "metadata": {},
   "source": [
    "## 모델 정의하기"
   ]
  },
  {
   "cell_type": "code",
   "execution_count": 8,
   "id": "e0f0e41e-cf8b-409c-bda5-ef960e09fe50",
   "metadata": {
    "execution": {
     "iopub.execute_input": "2022-12-05T06:33:36.392514Z",
     "iopub.status.busy": "2022-12-05T06:33:36.392514Z",
     "iopub.status.idle": "2022-12-05T06:33:36.439860Z",
     "shell.execute_reply": "2022-12-05T06:33:36.439860Z",
     "shell.execute_reply.started": "2022-12-05T06:33:36.392514Z"
    },
    "tags": []
   },
   "outputs": [],
   "source": [
    "from tensorflow import keras\n",
    "from tensorflow.keras import layers\n",
    "\n",
    "model = keras.Sequential([\n",
    "    layers.Dense(16, activation = 'relu'),\n",
    "    layers.Dense(16, activation = 'relu'),\n",
    "    layers.Dense(1, activation = 'sigmoid')\n",
    "])"
   ]
  },
  {
   "cell_type": "markdown",
   "id": "4358a1b7-10a3-438a-8f32-dc5ffe1cb040",
   "metadata": {},
   "source": [
    "## 모델 컴파일하기"
   ]
  },
  {
   "cell_type": "code",
   "execution_count": 9,
   "id": "49e0d4f7-9810-4559-ab38-a8df7e950e21",
   "metadata": {
    "execution": {
     "iopub.execute_input": "2022-12-05T06:33:36.440858Z",
     "iopub.status.busy": "2022-12-05T06:33:36.440858Z",
     "iopub.status.idle": "2022-12-05T06:33:36.467846Z",
     "shell.execute_reply": "2022-12-05T06:33:36.466818Z",
     "shell.execute_reply.started": "2022-12-05T06:33:36.440858Z"
    },
    "tags": []
   },
   "outputs": [],
   "source": [
    "model.compile(optimizer = 'rmsprop',\n",
    "             loss = 'binary_crossentropy',\n",
    "             metrics = ['accuracy'])"
   ]
  },
  {
   "cell_type": "markdown",
   "id": "8cfa9b01-707d-49cc-903c-5c8212c2e1c2",
   "metadata": {},
   "source": [
    "# 훈련검증"
   ]
  },
  {
   "cell_type": "markdown",
   "id": "9b1d20f9-4dac-484a-aaa1-6112d751fd3d",
   "metadata": {},
   "source": [
    "## 검증 세트 준비하기"
   ]
  },
  {
   "cell_type": "code",
   "execution_count": 10,
   "id": "6a8f7679-e0fe-421b-84e8-82a4cb642d07",
   "metadata": {
    "execution": {
     "iopub.execute_input": "2022-12-05T06:33:36.471837Z",
     "iopub.status.busy": "2022-12-05T06:33:36.470838Z",
     "iopub.status.idle": "2022-12-05T06:33:36.482447Z",
     "shell.execute_reply": "2022-12-05T06:33:36.482447Z",
     "shell.execute_reply.started": "2022-12-05T06:33:36.471837Z"
    },
    "tags": []
   },
   "outputs": [],
   "source": [
    "x_val = x_train[:10000]\n",
    "partial_x_train = x_train[10000:]\n",
    "y_val = y_train[:10000]\n",
    "partial_y_train = y_train[10000:]"
   ]
  },
  {
   "cell_type": "markdown",
   "id": "84d77e96-e8fb-4db9-b2a6-ffe796e81593",
   "metadata": {},
   "source": [
    "## 모델 훈련하기"
   ]
  },
  {
   "cell_type": "code",
   "execution_count": 11,
   "id": "4122ec95-b986-4a70-bef0-b27d7703948b",
   "metadata": {
    "execution": {
     "iopub.execute_input": "2022-12-05T06:33:36.484453Z",
     "iopub.status.busy": "2022-12-05T06:33:36.483457Z",
     "iopub.status.idle": "2022-12-05T06:33:46.178233Z",
     "shell.execute_reply": "2022-12-05T06:33:46.178233Z",
     "shell.execute_reply.started": "2022-12-05T06:33:36.484453Z"
    },
    "tags": []
   },
   "outputs": [
    {
     "name": "stdout",
     "output_type": "stream",
     "text": [
      "Epoch 1/20\n",
      "30/30 [==============================] - 1s 28ms/step - loss: 0.5411 - accuracy: 0.7652 - val_loss: 0.4128 - val_accuracy: 0.8499\n",
      "Epoch 2/20\n",
      "30/30 [==============================] - 0s 14ms/step - loss: 0.3353 - accuracy: 0.8908 - val_loss: 0.3249 - val_accuracy: 0.8790\n",
      "Epoch 3/20\n",
      "30/30 [==============================] - 0s 15ms/step - loss: 0.2515 - accuracy: 0.9146 - val_loss: 0.2838 - val_accuracy: 0.8885\n",
      "Epoch 4/20\n",
      "30/30 [==============================] - 0s 14ms/step - loss: 0.2047 - accuracy: 0.9309 - val_loss: 0.2751 - val_accuracy: 0.8882\n",
      "Epoch 5/20\n",
      "30/30 [==============================] - 0s 14ms/step - loss: 0.1699 - accuracy: 0.9449 - val_loss: 0.3424 - val_accuracy: 0.8647\n",
      "Epoch 6/20\n",
      "30/30 [==============================] - 0s 14ms/step - loss: 0.1450 - accuracy: 0.9549 - val_loss: 0.3083 - val_accuracy: 0.8798\n",
      "Epoch 7/20\n",
      "30/30 [==============================] - 0s 14ms/step - loss: 0.1270 - accuracy: 0.9600 - val_loss: 0.3028 - val_accuracy: 0.8772\n",
      "Epoch 8/20\n",
      "30/30 [==============================] - 0s 14ms/step - loss: 0.1095 - accuracy: 0.9672 - val_loss: 0.3086 - val_accuracy: 0.8785\n",
      "Epoch 9/20\n",
      "30/30 [==============================] - 0s 14ms/step - loss: 0.0952 - accuracy: 0.9711 - val_loss: 0.3266 - val_accuracy: 0.8763\n",
      "Epoch 10/20\n",
      "30/30 [==============================] - 0s 15ms/step - loss: 0.0827 - accuracy: 0.9761 - val_loss: 0.3297 - val_accuracy: 0.8809\n",
      "Epoch 11/20\n",
      "30/30 [==============================] - 0s 14ms/step - loss: 0.0687 - accuracy: 0.9820 - val_loss: 0.3483 - val_accuracy: 0.8794\n",
      "Epoch 12/20\n",
      "30/30 [==============================] - 0s 14ms/step - loss: 0.0601 - accuracy: 0.9845 - val_loss: 0.3778 - val_accuracy: 0.8722\n",
      "Epoch 13/20\n",
      "30/30 [==============================] - 0s 14ms/step - loss: 0.0514 - accuracy: 0.9882 - val_loss: 0.3879 - val_accuracy: 0.8771\n",
      "Epoch 14/20\n",
      "30/30 [==============================] - 0s 14ms/step - loss: 0.0446 - accuracy: 0.9899 - val_loss: 0.4103 - val_accuracy: 0.8756\n",
      "Epoch 15/20\n",
      "30/30 [==============================] - 0s 14ms/step - loss: 0.0373 - accuracy: 0.9925 - val_loss: 0.4266 - val_accuracy: 0.8766\n",
      "Epoch 16/20\n",
      "30/30 [==============================] - 0s 14ms/step - loss: 0.0312 - accuracy: 0.9939 - val_loss: 0.4494 - val_accuracy: 0.8749\n",
      "Epoch 17/20\n",
      "30/30 [==============================] - 0s 14ms/step - loss: 0.0264 - accuracy: 0.9962 - val_loss: 0.5368 - val_accuracy: 0.8567\n",
      "Epoch 18/20\n",
      "30/30 [==============================] - 0s 14ms/step - loss: 0.0223 - accuracy: 0.9968 - val_loss: 0.5313 - val_accuracy: 0.8702\n",
      "Epoch 19/20\n",
      "30/30 [==============================] - 0s 14ms/step - loss: 0.0180 - accuracy: 0.9983 - val_loss: 0.5674 - val_accuracy: 0.8664\n",
      "Epoch 20/20\n",
      "30/30 [==============================] - 0s 13ms/step - loss: 0.0177 - accuracy: 0.9979 - val_loss: 0.5464 - val_accuracy: 0.8697\n"
     ]
    }
   ],
   "source": [
    "history = model.fit(partial_x_train, \n",
    "                   partial_y_train, \n",
    "                   epochs = 20, \n",
    "                   batch_size = 512,\n",
    "                   validation_data = (x_val, y_val))"
   ]
  },
  {
   "cell_type": "markdown",
   "id": "484bf225-7a10-4593-afec-39096c12804b",
   "metadata": {},
   "source": [
    "## 훈련과 검증 손실 그리기"
   ]
  },
  {
   "cell_type": "code",
   "execution_count": 12,
   "id": "93bb5941-fcd0-4926-89b7-8df0423a6979",
   "metadata": {
    "execution": {
     "iopub.execute_input": "2022-12-05T06:33:46.179234Z",
     "iopub.status.busy": "2022-12-05T06:33:46.179234Z",
     "iopub.status.idle": "2022-12-05T06:33:46.895114Z",
     "shell.execute_reply": "2022-12-05T06:33:46.895114Z",
     "shell.execute_reply.started": "2022-12-05T06:33:46.179234Z"
    },
    "tags": []
   },
   "outputs": [
    {
     "data": {
      "image/png": "[encoded data removed]",
      "text/plain": [
       "<Figure size 640x480 with 1 Axes>"
      ]
     },
     "metadata": {},
     "output_type": "display_data"
    }
   ],
   "source": [
    "import matplotlib.pyplot as plt\n",
    "\n",
    "history_dict = history.history\n",
    "loss_values = history_dict['loss']\n",
    "val_loss_values = history_dict['val_loss']\n",
    "epochs = range(1, len(loss_values) + 1)\n",
    "plt.plot(epochs, loss_values, 'bo', label = 'Training loss')\n",
    "plt.plot(epochs, val_loss_values, 'b', label = 'Validation loss')\n",
    "plt.title('Training and validation loss')\n",
    "plt.xlabel('Epochs')\n",
    "plt.ylabel('Loss')\n",
    "plt.legend()\n",
    "plt.show()"
   ]
  },
  {
   "cell_type": "markdown",
   "id": "1ab758d5-3794-4396-9ded-4151cdb5f5c4",
   "metadata": {
    "execution": {
     "iopub.execute_input": "2022-12-05T05:15:55.258380Z",
     "iopub.status.busy": "2022-12-05T05:15:55.258380Z",
     "iopub.status.idle": "2022-12-05T05:15:55.264365Z",
     "shell.execute_reply": "2022-12-05T05:15:55.264365Z",
     "shell.execute_reply.started": "2022-12-05T05:15:55.258380Z"
    },
    "tags": []
   },
   "source": [
    "## 훈련과 검증 정확도 그리기"
   ]
  },
  {
   "cell_type": "code",
   "execution_count": 13,
   "id": "59c83f27-6bb4-4d9b-b57b-379dee5b8a1e",
   "metadata": {
    "execution": {
     "iopub.execute_input": "2022-12-05T06:33:46.897112Z",
     "iopub.status.busy": "2022-12-05T06:33:46.896135Z",
     "iopub.status.idle": "2022-12-05T06:33:47.022318Z",
     "shell.execute_reply": "2022-12-05T06:33:47.022318Z",
     "shell.execute_reply.started": "2022-12-05T06:33:46.897112Z"
    },
    "tags": []
   },
   "outputs": [
    {
     "data": {
      "image/png": "[encoded data removed]",
      "text/plain": [
       "<Figure size 640x480 with 1 Axes>"
      ]
     },
     "metadata": {},
     "output_type": "display_data"
    }
   ],
   "source": [
    "plt.clf()\n",
    "acc = history_dict['accuracy']\n",
    "val_acc = history_dict['val_accuracy']\n",
    "plt.plot(epochs, acc, 'bo', label = 'Training acc')\n",
    "plt.plot(epochs, val_acc, 'b', label = 'Validation acc')\n",
    "plt.title('Training and validaiton accuracy')\n",
    "plt.xlabel('Epochs')\n",
    "plt.ylabel('Accuracy')\n",
    "plt.legend()\n",
    "plt.show()"
   ]
  },
  {
   "cell_type": "markdown",
   "id": "d863f74e-ab6d-4bbd-a038-e6d845b8b6cd",
   "metadata": {},
   "source": [
    "## 모델을 처음부터 다시 훈련하기"
   ]
  },
  {
   "cell_type": "code",
   "execution_count": 16,
   "id": "f5d3e0ef-2d4f-4cac-9211-0caa070c7dc0",
   "metadata": {
    "execution": {
     "iopub.execute_input": "2022-12-05T06:34:37.167222Z",
     "iopub.status.busy": "2022-12-05T06:34:37.167222Z",
     "iopub.status.idle": "2022-12-05T06:34:41.803005Z",
     "shell.execute_reply": "2022-12-05T06:34:41.802180Z",
     "shell.execute_reply.started": "2022-12-05T06:34:37.167222Z"
    },
    "tags": []
   },
   "outputs": [
    {
     "name": "stdout",
     "output_type": "stream",
     "text": [
      "Epoch 1/4\n",
      "49/49 [==============================] - 1s 9ms/step - loss: 0.4832 - accuracy: 0.8050\n",
      "Epoch 2/4\n",
      "49/49 [==============================] - 0s 9ms/step - loss: 0.2474 - accuracy: 0.9114\n",
      "Epoch 3/4\n",
      "49/49 [==============================] - 0s 9ms/step - loss: 0.1828 - accuracy: 0.9350\n",
      "Epoch 4/4\n",
      "49/49 [==============================] - 0s 9ms/step - loss: 0.1457 - accuracy: 0.9506\n",
      "782/782 [==============================] - 1s 1ms/step - loss: 0.3082 - accuracy: 0.8806\n"
     ]
    },
    {
     "data": {
      "text/plain": [
       "[0.3081951439380646, 0.8805599808692932]"
      ]
     },
     "execution_count": 16,
     "metadata": {},
     "output_type": "execute_result"
    }
   ],
   "source": [
    "model = keras.Sequential([\n",
    "    layers.Dense(16, activation='relu'),\n",
    "    layers.Dense(16, activation='relu'),\n",
    "    layers.Dense(1, activation='sigmoid')\n",
    "])\n",
    "model.compile(optimizer='adam',\n",
    "             loss = 'binary_crossentropy',\n",
    "             metrics = ['accuracy'])\n",
    "history = model.fit(x_train, y_train, epochs = 4, batch_size = 512)\n",
    "results = model.evaluate(x_test, y_test)\n",
    "results"
   ]
  },
  {
   "cell_type": "code",
   "execution_count": 30,
   "id": "45521a23-5562-46b3-8e00-b33464b65af9",
   "metadata": {
    "execution": {
     "iopub.execute_input": "2022-12-05T05:31:51.310198Z",
     "iopub.status.busy": "2022-12-05T05:31:51.310198Z",
     "iopub.status.idle": "2022-12-05T05:31:51.319174Z",
     "shell.execute_reply": "2022-12-05T05:31:51.318177Z",
     "shell.execute_reply.started": "2022-12-05T05:31:51.310198Z"
    },
    "tags": []
   },
   "outputs": [
    {
     "data": {
      "text/plain": [
       "{'loss': [0.48872214555740356,\n",
       "  0.28180602192878723,\n",
       "  0.21839027106761932,\n",
       "  0.1855430006980896],\n",
       " 'accuracy': [0.8047599792480469,\n",
       "  0.902999997138977,\n",
       "  0.9232800006866455,\n",
       "  0.9338799715042114]}"
      ]
     },
     "execution_count": 30,
     "metadata": {},
     "output_type": "execute_result"
    }
   ],
   "source": [
    "history.history"
   ]
  },
  {
   "cell_type": "code",
   "execution_count": null,
   "id": "d38acfbf-133d-464d-8afa-37dac7317861",
   "metadata": {},
   "outputs": [],
   "source": []
  }
 ],
 "metadata": {
  "kernelspec": {
   "display_name": "Python 3 (ipykernel)",
   "language": "python",
   "name": "python3"
  },
  "language_info": {
   "codemirror_mode": {
    "name": "ipython",
    "version": 3
   },
   "file_extension": ".py",
   "mimetype": "text/x-python",
   "name": "python",
   "nbconvert_exporter": "python",
   "pygments_lexer": "ipython3",
   "version": "3.9.7"
  },
  "toc-autonumbering": true
 },
 "nbformat": 4,
 "nbformat_minor": 5
}
