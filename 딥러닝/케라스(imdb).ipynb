{
 "cells": [
  {
   "cell_type": "markdown",
   "id": "3dacb3e1-5e79-4cc0-8c52-a7ab2e1dd2a4",
   "metadata": {},
   "source": [
    "# 데이터 로딩"
   ]
  }
 ],
 "metadata": {
  "kernelspec": {
   "display_name": "Python 3 (ipykernel)",
   "language": "python",
   "name": "python3"
  },
  "language_info": {
   "codemirror_mode": {
    "name": "ipython",
    "version": 3
   },
   "file_extension": ".py",
   "mimetype": "text/x-python",
   "name": "python",
   "nbconvert_exporter": "python",
   "pygments_lexer": "ipython3",
   "version": "3.9.7"
  }
 },
 "nbformat": 4,
 "nbformat_minor": 5
}
