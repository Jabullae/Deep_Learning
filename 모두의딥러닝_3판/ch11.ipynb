{
 "cells": [
  {
   "cell_type": "markdown",
   "metadata": {},
   "source": [
    "# 11장 데이터 다루기"
   ]
  },
  {
   "cell_type": "markdown",
   "metadata": {},
   "source": [
    "[<img src=\"https://raw.githubusercontent.com/taehojo/taehojo.github.io/master/assets/images/linktocolab.png\" align=\"left\"/> ](https://colab.research.google.com/github/taehojo/deeplearning/blob/master/colab/ch11-colab.ipynb)"
   ]
  },
  {
   "cell_type": "code",
   "execution_count": 1,
   "metadata": {
    "ExecuteTime": {
     "end_time": "2022-12-08T01:32:50.032389Z",
     "start_time": "2022-12-08T01:32:42.214981Z"
    }
   },
   "outputs": [
    {
     "name": "stdout",
     "output_type": "stream",
     "text": [
      "Requirement already satisfied: pandas in c:\\ananconda3\\lib\\site-packages (1.5.1)\n",
      "Requirement already satisfied: pytz>=2020.1 in c:\\ananconda3\\lib\\site-packages (from pandas) (2022.1)\n",
      "Requirement already satisfied: python-dateutil>=2.8.1 in c:\\ananconda3\\lib\\site-packages (from pandas) (2.8.2)\n",
      "Requirement already satisfied: numpy>=1.20.3 in c:\\ananconda3\\lib\\site-packages (from pandas) (1.21.5)\n",
      "Requirement already satisfied: six>=1.5 in c:\\ananconda3\\lib\\site-packages (from python-dateutil>=2.8.1->pandas) (1.16.0)\n",
      "Requirement already satisfied: seaborn in c:\\ananconda3\\lib\\site-packages (0.12.1)\n",
      "Requirement already satisfied: matplotlib!=3.6.1,>=3.1 in c:\\ananconda3\\lib\\site-packages (from seaborn) (3.5.3)\n",
      "Requirement already satisfied: numpy>=1.17 in c:\\ananconda3\\lib\\site-packages (from seaborn) (1.21.5)\n",
      "Requirement already satisfied: pandas>=0.25 in c:\\ananconda3\\lib\\site-packages (from seaborn) (1.5.1)\n",
      "Requirement already satisfied: cycler>=0.10 in c:\\ananconda3\\lib\\site-packages (from matplotlib!=3.6.1,>=3.1->seaborn) (0.11.0)\n",
      "Requirement already satisfied: kiwisolver>=1.0.1 in c:\\ananconda3\\lib\\site-packages (from matplotlib!=3.6.1,>=3.1->seaborn) (1.4.2)\n",
      "Requirement already satisfied: pyparsing>=2.2.1 in c:\\ananconda3\\lib\\site-packages (from matplotlib!=3.6.1,>=3.1->seaborn) (3.0.9)\n",
      "Requirement already satisfied: fonttools>=4.22.0 in c:\\ananconda3\\lib\\site-packages (from matplotlib!=3.6.1,>=3.1->seaborn) (4.25.0)\n",
      "Requirement already satisfied: packaging>=20.0 in c:\\ananconda3\\lib\\site-packages (from matplotlib!=3.6.1,>=3.1->seaborn) (21.3)\n",
      "Requirement already satisfied: pillow>=6.2.0 in c:\\ananconda3\\lib\\site-packages (from matplotlib!=3.6.1,>=3.1->seaborn) (9.2.0)\n",
      "Requirement already satisfied: python-dateutil>=2.7 in c:\\ananconda3\\lib\\site-packages (from matplotlib!=3.6.1,>=3.1->seaborn) (2.8.2)\n",
      "Requirement already satisfied: pytz>=2020.1 in c:\\ananconda3\\lib\\site-packages (from pandas>=0.25->seaborn) (2022.1)\n",
      "Requirement already satisfied: six>=1.5 in c:\\ananconda3\\lib\\site-packages (from python-dateutil>=2.7->matplotlib!=3.6.1,>=3.1->seaborn) (1.16.0)\n"
     ]
    }
   ],
   "source": [
    "#실행에 필요한 pandas와 seaborn 라이브러리를 설치합니다. (이미 설치되어 있으면 이 과정은 생략합니다.)\n",
    "!pip install pandas\n",
    "!pip install seaborn"
   ]
  },
  {
   "cell_type": "code",
   "execution_count": 2,
   "metadata": {
    "ExecuteTime": {
     "end_time": "2022-12-08T01:32:51.465503Z",
     "start_time": "2022-12-08T01:32:50.049612Z"
    }
   },
   "outputs": [],
   "source": [
    "#필요한 라이브러리를 불러옵니다.\n",
    "import pandas as pd\n",
    "import matplotlib.pyplot as plt\n",
    "import seaborn as sns\n",
    "\n",
    "# 피마 인디언 당뇨병 데이터셋을 불러옵니다. \n",
    "df = pd.read_csv('./data/pima-indians-diabetes3.csv')"
   ]
  },
  {
   "cell_type": "code",
   "execution_count": 3,
   "metadata": {
    "ExecuteTime": {
     "end_time": "2022-12-08T01:32:51.496490Z",
     "start_time": "2022-12-08T01:32:51.481529Z"
    }
   },
   "outputs": [
    {
     "data": {
      "text/html": [
       "<div>\n",
       "<style scoped>\n",
       "    .dataframe tbody tr th:only-of-type {\n",
       "        vertical-align: middle;\n",
       "    }\n",
       "\n",
       "    .dataframe tbody tr th {\n",
       "        vertical-align: top;\n",
       "    }\n",
       "\n",
       "    .dataframe thead th {\n",
       "        text-align: right;\n",
       "    }\n",
       "</style>\n",
       "<table border=\"1\" class=\"dataframe\">\n",
       "  <thead>\n",
       "    <tr style=\"text-align: right;\">\n",
       "      <th></th>\n",
       "      <th>pregnant</th>\n",
       "      <th>plasma</th>\n",
       "      <th>pressure</th>\n",
       "      <th>thickness</th>\n",
       "      <th>insulin</th>\n",
       "      <th>bmi</th>\n",
       "      <th>pedigree</th>\n",
       "      <th>age</th>\n",
       "      <th>diabetes</th>\n",
       "    </tr>\n",
       "  </thead>\n",
       "  <tbody>\n",
       "    <tr>\n",
       "      <th>0</th>\n",
       "      <td>6</td>\n",
       "      <td>148</td>\n",
       "      <td>72</td>\n",
       "      <td>35</td>\n",
       "      <td>0</td>\n",
       "      <td>33.6</td>\n",
       "      <td>0.627</td>\n",
       "      <td>50</td>\n",
       "      <td>1</td>\n",
       "    </tr>\n",
       "    <tr>\n",
       "      <th>1</th>\n",
       "      <td>1</td>\n",
       "      <td>85</td>\n",
       "      <td>66</td>\n",
       "      <td>29</td>\n",
       "      <td>0</td>\n",
       "      <td>26.6</td>\n",
       "      <td>0.351</td>\n",
       "      <td>31</td>\n",
       "      <td>0</td>\n",
       "    </tr>\n",
       "    <tr>\n",
       "      <th>2</th>\n",
       "      <td>8</td>\n",
       "      <td>183</td>\n",
       "      <td>64</td>\n",
       "      <td>0</td>\n",
       "      <td>0</td>\n",
       "      <td>23.3</td>\n",
       "      <td>0.672</td>\n",
       "      <td>32</td>\n",
       "      <td>1</td>\n",
       "    </tr>\n",
       "    <tr>\n",
       "      <th>3</th>\n",
       "      <td>1</td>\n",
       "      <td>89</td>\n",
       "      <td>66</td>\n",
       "      <td>23</td>\n",
       "      <td>94</td>\n",
       "      <td>28.1</td>\n",
       "      <td>0.167</td>\n",
       "      <td>21</td>\n",
       "      <td>0</td>\n",
       "    </tr>\n",
       "    <tr>\n",
       "      <th>4</th>\n",
       "      <td>0</td>\n",
       "      <td>137</td>\n",
       "      <td>40</td>\n",
       "      <td>35</td>\n",
       "      <td>168</td>\n",
       "      <td>43.1</td>\n",
       "      <td>2.288</td>\n",
       "      <td>33</td>\n",
       "      <td>1</td>\n",
       "    </tr>\n",
       "  </tbody>\n",
       "</table>\n",
       "</div>"
      ],
      "text/plain": [
       "   pregnant  plasma  pressure  thickness  insulin   bmi  pedigree  age  \\\n",
       "0         6     148        72         35        0  33.6     0.627   50   \n",
       "1         1      85        66         29        0  26.6     0.351   31   \n",
       "2         8     183        64          0        0  23.3     0.672   32   \n",
       "3         1      89        66         23       94  28.1     0.167   21   \n",
       "4         0     137        40         35      168  43.1     2.288   33   \n",
       "\n",
       "   diabetes  \n",
       "0         1  \n",
       "1         0  \n",
       "2         1  \n",
       "3         0  \n",
       "4         1  "
      ]
     },
     "execution_count": 3,
     "metadata": {},
     "output_type": "execute_result"
    }
   ],
   "source": [
    "# 처음 5줄을 봅니다.\n",
    "df.head(5)"
   ]
  },
  {
   "cell_type": "code",
   "execution_count": 4,
   "metadata": {
    "ExecuteTime": {
     "end_time": "2022-12-08T01:32:51.526795Z",
     "start_time": "2022-12-08T01:32:51.512446Z"
    }
   },
   "outputs": [
    {
     "data": {
      "text/plain": [
       "0    500\n",
       "1    268\n",
       "Name: diabetes, dtype: int64"
      ]
     },
     "execution_count": 4,
     "metadata": {},
     "output_type": "execute_result"
    }
   ],
   "source": [
    "# 정상과 당뇨 환자가 각각 몇 명씩인지 조사해 봅니다.\n",
    "df[\"diabetes\"].value_counts()"
   ]
  },
  {
   "cell_type": "code",
   "execution_count": 5,
   "metadata": {
    "ExecuteTime": {
     "end_time": "2022-12-08T01:32:51.574151Z",
     "start_time": "2022-12-08T01:32:51.543233Z"
    }
   },
   "outputs": [
    {
     "data": {
      "text/html": [
       "<div>\n",
       "<style scoped>\n",
       "    .dataframe tbody tr th:only-of-type {\n",
       "        vertical-align: middle;\n",
       "    }\n",
       "\n",
       "    .dataframe tbody tr th {\n",
       "        vertical-align: top;\n",
       "    }\n",
       "\n",
       "    .dataframe thead th {\n",
       "        text-align: right;\n",
       "    }\n",
       "</style>\n",
       "<table border=\"1\" class=\"dataframe\">\n",
       "  <thead>\n",
       "    <tr style=\"text-align: right;\">\n",
       "      <th></th>\n",
       "      <th>pregnant</th>\n",
       "      <th>plasma</th>\n",
       "      <th>pressure</th>\n",
       "      <th>thickness</th>\n",
       "      <th>insulin</th>\n",
       "      <th>bmi</th>\n",
       "      <th>pedigree</th>\n",
       "      <th>age</th>\n",
       "      <th>diabetes</th>\n",
       "    </tr>\n",
       "  </thead>\n",
       "  <tbody>\n",
       "    <tr>\n",
       "      <th>count</th>\n",
       "      <td>768.000000</td>\n",
       "      <td>768.000000</td>\n",
       "      <td>768.000000</td>\n",
       "      <td>768.000000</td>\n",
       "      <td>768.000000</td>\n",
       "      <td>768.000000</td>\n",
       "      <td>768.000000</td>\n",
       "      <td>768.000000</td>\n",
       "      <td>768.000000</td>\n",
       "    </tr>\n",
       "    <tr>\n",
       "      <th>mean</th>\n",
       "      <td>3.845052</td>\n",
       "      <td>120.894531</td>\n",
       "      <td>69.105469</td>\n",
       "      <td>20.536458</td>\n",
       "      <td>79.799479</td>\n",
       "      <td>31.992578</td>\n",
       "      <td>0.471876</td>\n",
       "      <td>33.240885</td>\n",
       "      <td>0.348958</td>\n",
       "    </tr>\n",
       "    <tr>\n",
       "      <th>std</th>\n",
       "      <td>3.369578</td>\n",
       "      <td>31.972618</td>\n",
       "      <td>19.355807</td>\n",
       "      <td>15.952218</td>\n",
       "      <td>115.244002</td>\n",
       "      <td>7.884160</td>\n",
       "      <td>0.331329</td>\n",
       "      <td>11.760232</td>\n",
       "      <td>0.476951</td>\n",
       "    </tr>\n",
       "    <tr>\n",
       "      <th>min</th>\n",
       "      <td>0.000000</td>\n",
       "      <td>0.000000</td>\n",
       "      <td>0.000000</td>\n",
       "      <td>0.000000</td>\n",
       "      <td>0.000000</td>\n",
       "      <td>0.000000</td>\n",
       "      <td>0.078000</td>\n",
       "      <td>21.000000</td>\n",
       "      <td>0.000000</td>\n",
       "    </tr>\n",
       "    <tr>\n",
       "      <th>25%</th>\n",
       "      <td>1.000000</td>\n",
       "      <td>99.000000</td>\n",
       "      <td>62.000000</td>\n",
       "      <td>0.000000</td>\n",
       "      <td>0.000000</td>\n",
       "      <td>27.300000</td>\n",
       "      <td>0.243750</td>\n",
       "      <td>24.000000</td>\n",
       "      <td>0.000000</td>\n",
       "    </tr>\n",
       "    <tr>\n",
       "      <th>50%</th>\n",
       "      <td>3.000000</td>\n",
       "      <td>117.000000</td>\n",
       "      <td>72.000000</td>\n",
       "      <td>23.000000</td>\n",
       "      <td>30.500000</td>\n",
       "      <td>32.000000</td>\n",
       "      <td>0.372500</td>\n",
       "      <td>29.000000</td>\n",
       "      <td>0.000000</td>\n",
       "    </tr>\n",
       "    <tr>\n",
       "      <th>75%</th>\n",
       "      <td>6.000000</td>\n",
       "      <td>140.250000</td>\n",
       "      <td>80.000000</td>\n",
       "      <td>32.000000</td>\n",
       "      <td>127.250000</td>\n",
       "      <td>36.600000</td>\n",
       "      <td>0.626250</td>\n",
       "      <td>41.000000</td>\n",
       "      <td>1.000000</td>\n",
       "    </tr>\n",
       "    <tr>\n",
       "      <th>max</th>\n",
       "      <td>17.000000</td>\n",
       "      <td>199.000000</td>\n",
       "      <td>122.000000</td>\n",
       "      <td>99.000000</td>\n",
       "      <td>846.000000</td>\n",
       "      <td>67.100000</td>\n",
       "      <td>2.420000</td>\n",
       "      <td>81.000000</td>\n",
       "      <td>1.000000</td>\n",
       "    </tr>\n",
       "  </tbody>\n",
       "</table>\n",
       "</div>"
      ],
      "text/plain": [
       "         pregnant      plasma    pressure   thickness     insulin         bmi  \\\n",
       "count  768.000000  768.000000  768.000000  768.000000  768.000000  768.000000   \n",
       "mean     3.845052  120.894531   69.105469   20.536458   79.799479   31.992578   \n",
       "std      3.369578   31.972618   19.355807   15.952218  115.244002    7.884160   \n",
       "min      0.000000    0.000000    0.000000    0.000000    0.000000    0.000000   \n",
       "25%      1.000000   99.000000   62.000000    0.000000    0.000000   27.300000   \n",
       "50%      3.000000  117.000000   72.000000   23.000000   30.500000   32.000000   \n",
       "75%      6.000000  140.250000   80.000000   32.000000  127.250000   36.600000   \n",
       "max     17.000000  199.000000  122.000000   99.000000  846.000000   67.100000   \n",
       "\n",
       "         pedigree         age    diabetes  \n",
       "count  768.000000  768.000000  768.000000  \n",
       "mean     0.471876   33.240885    0.348958  \n",
       "std      0.331329   11.760232    0.476951  \n",
       "min      0.078000   21.000000    0.000000  \n",
       "25%      0.243750   24.000000    0.000000  \n",
       "50%      0.372500   29.000000    0.000000  \n",
       "75%      0.626250   41.000000    1.000000  \n",
       "max      2.420000   81.000000    1.000000  "
      ]
     },
     "execution_count": 5,
     "metadata": {},
     "output_type": "execute_result"
    }
   ],
   "source": [
    "# 각 정보별 특징을 좀 더 자세히 출력합니다.\n",
    "df.describe()"
   ]
  },
  {
   "cell_type": "code",
   "execution_count": 6,
   "metadata": {
    "ExecuteTime": {
     "end_time": "2022-12-08T01:32:51.606001Z",
     "start_time": "2022-12-08T01:32:51.592041Z"
    }
   },
   "outputs": [
    {
     "data": {
      "text/html": [
       "<div>\n",
       "<style scoped>\n",
       "    .dataframe tbody tr th:only-of-type {\n",
       "        vertical-align: middle;\n",
       "    }\n",
       "\n",
       "    .dataframe tbody tr th {\n",
       "        vertical-align: top;\n",
       "    }\n",
       "\n",
       "    .dataframe thead th {\n",
       "        text-align: right;\n",
       "    }\n",
       "</style>\n",
       "<table border=\"1\" class=\"dataframe\">\n",
       "  <thead>\n",
       "    <tr style=\"text-align: right;\">\n",
       "      <th></th>\n",
       "      <th>pregnant</th>\n",
       "      <th>plasma</th>\n",
       "      <th>pressure</th>\n",
       "      <th>thickness</th>\n",
       "      <th>insulin</th>\n",
       "      <th>bmi</th>\n",
       "      <th>pedigree</th>\n",
       "      <th>age</th>\n",
       "      <th>diabetes</th>\n",
       "    </tr>\n",
       "  </thead>\n",
       "  <tbody>\n",
       "    <tr>\n",
       "      <th>pregnant</th>\n",
       "      <td>1.000000</td>\n",
       "      <td>0.129459</td>\n",
       "      <td>0.141282</td>\n",
       "      <td>-0.081672</td>\n",
       "      <td>-0.073535</td>\n",
       "      <td>0.017683</td>\n",
       "      <td>-0.033523</td>\n",
       "      <td>0.544341</td>\n",
       "      <td>0.221898</td>\n",
       "    </tr>\n",
       "    <tr>\n",
       "      <th>plasma</th>\n",
       "      <td>0.129459</td>\n",
       "      <td>1.000000</td>\n",
       "      <td>0.152590</td>\n",
       "      <td>0.057328</td>\n",
       "      <td>0.331357</td>\n",
       "      <td>0.221071</td>\n",
       "      <td>0.137337</td>\n",
       "      <td>0.263514</td>\n",
       "      <td>0.466581</td>\n",
       "    </tr>\n",
       "    <tr>\n",
       "      <th>pressure</th>\n",
       "      <td>0.141282</td>\n",
       "      <td>0.152590</td>\n",
       "      <td>1.000000</td>\n",
       "      <td>0.207371</td>\n",
       "      <td>0.088933</td>\n",
       "      <td>0.281805</td>\n",
       "      <td>0.041265</td>\n",
       "      <td>0.239528</td>\n",
       "      <td>0.065068</td>\n",
       "    </tr>\n",
       "    <tr>\n",
       "      <th>thickness</th>\n",
       "      <td>-0.081672</td>\n",
       "      <td>0.057328</td>\n",
       "      <td>0.207371</td>\n",
       "      <td>1.000000</td>\n",
       "      <td>0.436783</td>\n",
       "      <td>0.392573</td>\n",
       "      <td>0.183928</td>\n",
       "      <td>-0.113970</td>\n",
       "      <td>0.074752</td>\n",
       "    </tr>\n",
       "    <tr>\n",
       "      <th>insulin</th>\n",
       "      <td>-0.073535</td>\n",
       "      <td>0.331357</td>\n",
       "      <td>0.088933</td>\n",
       "      <td>0.436783</td>\n",
       "      <td>1.000000</td>\n",
       "      <td>0.197859</td>\n",
       "      <td>0.185071</td>\n",
       "      <td>-0.042163</td>\n",
       "      <td>0.130548</td>\n",
       "    </tr>\n",
       "    <tr>\n",
       "      <th>bmi</th>\n",
       "      <td>0.017683</td>\n",
       "      <td>0.221071</td>\n",
       "      <td>0.281805</td>\n",
       "      <td>0.392573</td>\n",
       "      <td>0.197859</td>\n",
       "      <td>1.000000</td>\n",
       "      <td>0.140647</td>\n",
       "      <td>0.036242</td>\n",
       "      <td>0.292695</td>\n",
       "    </tr>\n",
       "    <tr>\n",
       "      <th>pedigree</th>\n",
       "      <td>-0.033523</td>\n",
       "      <td>0.137337</td>\n",
       "      <td>0.041265</td>\n",
       "      <td>0.183928</td>\n",
       "      <td>0.185071</td>\n",
       "      <td>0.140647</td>\n",
       "      <td>1.000000</td>\n",
       "      <td>0.033561</td>\n",
       "      <td>0.173844</td>\n",
       "    </tr>\n",
       "    <tr>\n",
       "      <th>age</th>\n",
       "      <td>0.544341</td>\n",
       "      <td>0.263514</td>\n",
       "      <td>0.239528</td>\n",
       "      <td>-0.113970</td>\n",
       "      <td>-0.042163</td>\n",
       "      <td>0.036242</td>\n",
       "      <td>0.033561</td>\n",
       "      <td>1.000000</td>\n",
       "      <td>0.238356</td>\n",
       "    </tr>\n",
       "    <tr>\n",
       "      <th>diabetes</th>\n",
       "      <td>0.221898</td>\n",
       "      <td>0.466581</td>\n",
       "      <td>0.065068</td>\n",
       "      <td>0.074752</td>\n",
       "      <td>0.130548</td>\n",
       "      <td>0.292695</td>\n",
       "      <td>0.173844</td>\n",
       "      <td>0.238356</td>\n",
       "      <td>1.000000</td>\n",
       "    </tr>\n",
       "  </tbody>\n",
       "</table>\n",
       "</div>"
      ],
      "text/plain": [
       "           pregnant    plasma  pressure  thickness   insulin       bmi  \\\n",
       "pregnant   1.000000  0.129459  0.141282  -0.081672 -0.073535  0.017683   \n",
       "plasma     0.129459  1.000000  0.152590   0.057328  0.331357  0.221071   \n",
       "pressure   0.141282  0.152590  1.000000   0.207371  0.088933  0.281805   \n",
       "thickness -0.081672  0.057328  0.207371   1.000000  0.436783  0.392573   \n",
       "insulin   -0.073535  0.331357  0.088933   0.436783  1.000000  0.197859   \n",
       "bmi        0.017683  0.221071  0.281805   0.392573  0.197859  1.000000   \n",
       "pedigree  -0.033523  0.137337  0.041265   0.183928  0.185071  0.140647   \n",
       "age        0.544341  0.263514  0.239528  -0.113970 -0.042163  0.036242   \n",
       "diabetes   0.221898  0.466581  0.065068   0.074752  0.130548  0.292695   \n",
       "\n",
       "           pedigree       age  diabetes  \n",
       "pregnant  -0.033523  0.544341  0.221898  \n",
       "plasma     0.137337  0.263514  0.466581  \n",
       "pressure   0.041265  0.239528  0.065068  \n",
       "thickness  0.183928 -0.113970  0.074752  \n",
       "insulin    0.185071 -0.042163  0.130548  \n",
       "bmi        0.140647  0.036242  0.292695  \n",
       "pedigree   1.000000  0.033561  0.173844  \n",
       "age        0.033561  1.000000  0.238356  \n",
       "diabetes   0.173844  0.238356  1.000000  "
      ]
     },
     "execution_count": 6,
     "metadata": {},
     "output_type": "execute_result"
    }
   ],
   "source": [
    "# 각 항목이 어느정도의 상관 관계를 가지고 있는지 알아봅니다. \n",
    "df.corr()"
   ]
  },
  {
   "cell_type": "code",
   "execution_count": 7,
   "metadata": {
    "ExecuteTime": {
     "end_time": "2022-12-08T01:32:52.112698Z",
     "start_time": "2022-12-08T01:32:51.623954Z"
    }
   },
   "outputs": [
    {
     "data": {
      "image/png": "[encoded data removed]",
      "text/plain": [
       "<Figure size 1200x1200 with 2 Axes>"
      ]
     },
     "metadata": {},
     "output_type": "display_data"
    }
   ],
   "source": [
    "# 데이터 간의 상관 관계를 그래프로 표현해 봅니다.\n",
    "colormap = plt.cm.gist_heat   #그래프의 색상 구성을 정합니다.\n",
    "plt.figure(figsize=(12,12))   #그래프의 크기를 정합니다.\n",
    "\n",
    "# 그래프의 속성을 결정합니다. vmax의 값을 0.5로 지정해 0.5에 가까울수록 밝은색으로 표시되게 합니다.\n",
    "sns.heatmap(df.corr(),linewidths=0.1,vmax=0.5, cmap='Blues', linecolor='white', annot=True)\n",
    "plt.show()"
   ]
  },
  {
   "cell_type": "markdown",
   "metadata": {},
   "source": [
    "## 4. 중요한 데이터 추출하기"
   ]
  },
  {
   "cell_type": "code",
   "execution_count": 9,
   "metadata": {
    "ExecuteTime": {
     "end_time": "2022-12-08T01:33:04.859302Z",
     "start_time": "2022-12-08T01:33:04.623786Z"
    }
   },
   "outputs": [
    {
     "data": {
      "text/plain": [
       "<matplotlib.legend.Legend at 0x1a8ebb5bee0>"
      ]
     },
     "execution_count": 9,
     "metadata": {},
     "output_type": "execute_result"
    },
    {
     "data": {
      "image/png": "[encoded data removed]",
      "text/plain": [
       "<Figure size 640x480 with 1 Axes>"
      ]
     },
     "metadata": {},
     "output_type": "display_data"
    }
   ],
   "source": [
    "#plasma를 기준으로 각각 정상과 당뇨가 어느 정도 비율로 분포하는지 살펴봅니다. \n",
    "plt.hist(x=[df.plasma[df.diabetes==0], df.plasma[df.diabetes==1]], bins=30, histtype='barstacked', label=['normal','diabetes'])\n",
    "plt.legend()"
   ]
  },
  {
   "cell_type": "code",
   "execution_count": 10,
   "metadata": {
    "ExecuteTime": {
     "end_time": "2022-12-07T07:28:56.955920Z",
     "start_time": "2022-12-07T07:28:56.732518Z"
    }
   },
   "outputs": [
    {
     "data": {
      "text/plain": [
       "<matplotlib.legend.Legend at 0x1f78c67a520>"
      ]
     },
     "execution_count": 10,
     "metadata": {},
     "output_type": "execute_result"
    },
    {
     "data": {
      "image/png": "[encoded data removed]",
      "text/plain": [
       "<Figure size 640x480 with 1 Axes>"
      ]
     },
     "metadata": {},
     "output_type": "display_data"
    }
   ],
   "source": [
    "#BMI를 기준으로 각각 정상과 당뇨가 어느 정도 비율로 분포하는지 살펴봅니다. \n",
    "plt.hist(x=[df.bmi[df.diabetes==0], df.bmi[df.diabetes==1]], bins=30, histtype='barstacked', label=['normal','diabetes'])\n",
    "plt.legend()"
   ]
  },
  {
   "cell_type": "markdown",
   "metadata": {},
   "source": [
    "## 5. 피마 인디언 당뇨병 예측 실행"
   ]
  },
  {
   "cell_type": "code",
   "execution_count": 11,
   "metadata": {
    "ExecuteTime": {
     "end_time": "2022-12-07T07:29:06.034514Z",
     "start_time": "2022-12-07T07:29:03.337635Z"
    }
   },
   "outputs": [],
   "source": [
    "from tensorflow.keras.models import Sequential\n",
    "from tensorflow.keras.layers import Dense\n",
    "\n",
    "# pandas 라이브러리를 불러옵니다.\n",
    "import pandas as pd\n",
    "\n",
    "# 피마 인디언 당뇨병 데이터셋을 불러옵니다. \n",
    "df = pd.read_csv('./data/pima-indians-diabetes3.csv')"
   ]
  },
  {
   "cell_type": "code",
   "execution_count": 12,
   "metadata": {
    "ExecuteTime": {
     "end_time": "2022-12-07T07:29:06.082385Z",
     "start_time": "2022-12-07T07:29:06.068423Z"
    }
   },
   "outputs": [],
   "source": [
    "# 세부 정보를 X로 지정합니다.\n",
    "X = df.iloc[:,0:8]\n",
    "# 당뇨병 여부를 Y로 지정합니다.\n",
    "y = df.iloc[:,8]"
   ]
  },
  {
   "cell_type": "code",
   "execution_count": 13,
   "metadata": {
    "ExecuteTime": {
     "end_time": "2022-12-07T07:29:06.253928Z",
     "start_time": "2022-12-07T07:29:06.132252Z"
    }
   },
   "outputs": [
    {
     "name": "stdout",
     "output_type": "stream",
     "text": [
      "Model: \"sequential\"\n",
      "_________________________________________________________________\n",
      " Layer (type)                Output Shape              Param #   \n",
      "=================================================================\n",
      " Dense_1 (Dense)             (None, 12)                108       \n",
      "                                                                 \n",
      " Dense_2 (Dense)             (None, 8)                 104       \n",
      "                                                                 \n",
      " Dense_3 (Dense)             (None, 1)                 9         \n",
      "                                                                 \n",
      "=================================================================\n",
      "Total params: 221\n",
      "Trainable params: 221\n",
      "Non-trainable params: 0\n",
      "_________________________________________________________________\n"
     ]
    }
   ],
   "source": [
    "# 모델을 설정합니다.\n",
    "model = Sequential()\n",
    "model.add(Dense(12, input_dim=8, activation='relu', name='Dense_1'))\n",
    "model.add(Dense(8, activation='relu', name='Dense_2'))\n",
    "model.add(Dense(1, activation='sigmoid',name='Dense_3'))\n",
    "model.summary()"
   ]
  },
  {
   "cell_type": "code",
   "execution_count": 16,
   "metadata": {
    "ExecuteTime": {
     "end_time": "2022-12-07T08:14:57.113908Z",
     "start_time": "2022-12-07T08:14:57.103935Z"
    }
   },
   "outputs": [
    {
     "name": "stdout",
     "output_type": "stream",
     "text": [
      "108\n",
      "104\n",
      "9\n"
     ]
    }
   ],
   "source": [
    "print(8 * 12 + 12)\n",
    "print(8 * 12 + 8)\n",
    "print(8 + 1)"
   ]
  },
  {
   "cell_type": "code",
   "execution_count": 14,
   "metadata": {
    "ExecuteTime": {
     "end_time": "2022-12-07T07:29:22.375736Z",
     "start_time": "2022-12-07T07:29:06.322743Z"
    }
   },
   "outputs": [
    {
     "name": "stdout",
     "output_type": "stream",
     "text": [
      "Epoch 1/100\n",
      "154/154 [==============================] - 1s 961us/step - loss: 9.8676 - accuracy: 0.4219\n",
      "Epoch 2/100\n",
      "154/154 [==============================] - 0s 1ms/step - loss: 3.8529 - accuracy: 0.4518\n",
      "Epoch 3/100\n",
      "154/154 [==============================] - 0s 1ms/step - loss: 2.3686 - accuracy: 0.5026\n",
      "Epoch 4/100\n",
      "154/154 [==============================] - 0s 1ms/step - loss: 1.3394 - accuracy: 0.5924\n",
      "Epoch 5/100\n",
      "154/154 [==============================] - 0s 1ms/step - loss: 1.0882 - accuracy: 0.6302\n",
      "Epoch 6/100\n",
      "154/154 [==============================] - 0s 1ms/step - loss: 1.0100 - accuracy: 0.6328\n",
      "Epoch 7/100\n",
      "154/154 [==============================] - 0s 1ms/step - loss: 0.8816 - accuracy: 0.6393\n",
      "Epoch 8/100\n",
      "154/154 [==============================] - 0s 1ms/step - loss: 0.8558 - accuracy: 0.6667\n",
      "Epoch 9/100\n",
      "154/154 [==============================] - 0s 983us/step - loss: 0.7940 - accuracy: 0.6510\n",
      "Epoch 10/100\n",
      "154/154 [==============================] - 0s 956us/step - loss: 0.7802 - accuracy: 0.6562\n",
      "Epoch 11/100\n",
      "154/154 [==============================] - 0s 1ms/step - loss: 0.7405 - accuracy: 0.6562\n",
      "Epoch 12/100\n",
      "154/154 [==============================] - 0s 1ms/step - loss: 0.7612 - accuracy: 0.6615\n",
      "Epoch 13/100\n",
      "154/154 [==============================] - 0s 985us/step - loss: 0.7354 - accuracy: 0.6706\n",
      "Epoch 14/100\n",
      "154/154 [==============================] - 0s 1ms/step - loss: 0.6804 - accuracy: 0.6966\n",
      "Epoch 15/100\n",
      "154/154 [==============================] - 0s 1ms/step - loss: 0.6649 - accuracy: 0.6602\n",
      "Epoch 16/100\n",
      "154/154 [==============================] - 0s 1ms/step - loss: 0.6542 - accuracy: 0.6888\n",
      "Epoch 17/100\n",
      "154/154 [==============================] - 0s 1ms/step - loss: 0.7256 - accuracy: 0.6823\n",
      "Epoch 18/100\n",
      "154/154 [==============================] - 0s 1ms/step - loss: 0.6474 - accuracy: 0.6901\n",
      "Epoch 19/100\n",
      "154/154 [==============================] - 0s 893us/step - loss: 0.6497 - accuracy: 0.6784\n",
      "Epoch 20/100\n",
      "154/154 [==============================] - 0s 906us/step - loss: 0.6311 - accuracy: 0.6953\n",
      "Epoch 21/100\n",
      "154/154 [==============================] - 0s 1ms/step - loss: 0.6175 - accuracy: 0.6849\n",
      "Epoch 22/100\n",
      "154/154 [==============================] - 0s 1ms/step - loss: 0.7443 - accuracy: 0.6680\n",
      "Epoch 23/100\n",
      "154/154 [==============================] - 0s 976us/step - loss: 0.5934 - accuracy: 0.7031\n",
      "Epoch 24/100\n",
      "154/154 [==============================] - 0s 932us/step - loss: 0.6342 - accuracy: 0.6823\n",
      "Epoch 25/100\n",
      "154/154 [==============================] - 0s 916us/step - loss: 0.6199 - accuracy: 0.7109\n",
      "Epoch 26/100\n",
      "154/154 [==============================] - 0s 900us/step - loss: 0.6224 - accuracy: 0.7174\n",
      "Epoch 27/100\n",
      "154/154 [==============================] - 0s 939us/step - loss: 0.6213 - accuracy: 0.7148\n",
      "Epoch 28/100\n",
      "154/154 [==============================] - 0s 906us/step - loss: 0.5829 - accuracy: 0.7227\n",
      "Epoch 29/100\n",
      "154/154 [==============================] - 0s 945us/step - loss: 0.6034 - accuracy: 0.7044\n",
      "Epoch 30/100\n",
      "154/154 [==============================] - 0s 887us/step - loss: 0.6001 - accuracy: 0.7018\n",
      "Epoch 31/100\n",
      "154/154 [==============================] - 0s 893us/step - loss: 0.6158 - accuracy: 0.7201\n",
      "Epoch 32/100\n",
      "154/154 [==============================] - 0s 880us/step - loss: 0.5554 - accuracy: 0.7227\n",
      "Epoch 33/100\n",
      "154/154 [==============================] - 0s 900us/step - loss: 0.5984 - accuracy: 0.7174\n",
      "Epoch 34/100\n",
      "154/154 [==============================] - 0s 887us/step - loss: 0.6056 - accuracy: 0.7188\n",
      "Epoch 35/100\n",
      "154/154 [==============================] - 0s 1ms/step - loss: 0.5781 - accuracy: 0.7292\n",
      "Epoch 36/100\n",
      "154/154 [==============================] - 0s 945us/step - loss: 0.5940 - accuracy: 0.7005\n",
      "Epoch 37/100\n",
      "154/154 [==============================] - 0s 971us/step - loss: 0.5896 - accuracy: 0.7266\n",
      "Epoch 38/100\n",
      "154/154 [==============================] - 0s 960us/step - loss: 0.6080 - accuracy: 0.7135\n",
      "Epoch 39/100\n",
      "154/154 [==============================] - 0s 913us/step - loss: 0.5633 - accuracy: 0.7214\n",
      "Epoch 40/100\n",
      "154/154 [==============================] - 0s 901us/step - loss: 0.5689 - accuracy: 0.7279\n",
      "Epoch 41/100\n",
      "154/154 [==============================] - 0s 900us/step - loss: 0.5699 - accuracy: 0.7279\n",
      "Epoch 42/100\n",
      "154/154 [==============================] - 0s 900us/step - loss: 0.5744 - accuracy: 0.7331\n",
      "Epoch 43/100\n",
      "154/154 [==============================] - 0s 900us/step - loss: 0.5752 - accuracy: 0.7266\n",
      "Epoch 44/100\n",
      "154/154 [==============================] - 0s 887us/step - loss: 0.5937 - accuracy: 0.7240\n",
      "Epoch 45/100\n",
      "154/154 [==============================] - 0s 932us/step - loss: 0.5694 - accuracy: 0.7370\n",
      "Epoch 46/100\n",
      "154/154 [==============================] - 0s 834us/step - loss: 0.6018 - accuracy: 0.7044\n",
      "Epoch 47/100\n",
      "154/154 [==============================] - 0s 842us/step - loss: 0.6002 - accuracy: 0.7161\n",
      "Epoch 48/100\n",
      "154/154 [==============================] - 0s 854us/step - loss: 0.5875 - accuracy: 0.7240\n",
      "Epoch 49/100\n",
      "154/154 [==============================] - 0s 867us/step - loss: 0.5708 - accuracy: 0.7396\n",
      "Epoch 50/100\n",
      "154/154 [==============================] - 0s 873us/step - loss: 0.5834 - accuracy: 0.7135\n",
      "Epoch 51/100\n",
      "154/154 [==============================] - 0s 880us/step - loss: 0.5421 - accuracy: 0.7318\n",
      "Epoch 52/100\n",
      "154/154 [==============================] - 0s 873us/step - loss: 0.5416 - accuracy: 0.7461\n",
      "Epoch 53/100\n",
      "154/154 [==============================] - 0s 885us/step - loss: 0.5732 - accuracy: 0.7174\n",
      "Epoch 54/100\n",
      "154/154 [==============================] - 0s 876us/step - loss: 0.5620 - accuracy: 0.7396\n",
      "Epoch 55/100\n",
      "154/154 [==============================] - 0s 880us/step - loss: 0.5756 - accuracy: 0.7122\n",
      "Epoch 56/100\n",
      "154/154 [==============================] - 0s 886us/step - loss: 0.5829 - accuracy: 0.7201\n",
      "Epoch 57/100\n",
      "154/154 [==============================] - 0s 1ms/step - loss: 0.5559 - accuracy: 0.7292\n",
      "Epoch 58/100\n",
      "154/154 [==============================] - 0s 965us/step - loss: 0.5712 - accuracy: 0.7292\n",
      "Epoch 59/100\n",
      "154/154 [==============================] - 0s 924us/step - loss: 0.5434 - accuracy: 0.7422\n",
      "Epoch 60/100\n",
      "154/154 [==============================] - 0s 860us/step - loss: 0.5630 - accuracy: 0.7487\n",
      "Epoch 61/100\n",
      "154/154 [==============================] - 0s 854us/step - loss: 0.5418 - accuracy: 0.7461\n",
      "Epoch 62/100\n",
      "154/154 [==============================] - 0s 913us/step - loss: 0.5285 - accuracy: 0.7344\n",
      "Epoch 63/100\n",
      "154/154 [==============================] - 0s 913us/step - loss: 0.5740 - accuracy: 0.7292\n",
      "Epoch 64/100\n",
      "154/154 [==============================] - 0s 983us/step - loss: 0.5399 - accuracy: 0.7344\n",
      "Epoch 65/100\n",
      "154/154 [==============================] - 0s 1ms/step - loss: 0.5386 - accuracy: 0.7474\n",
      "Epoch 66/100\n",
      "154/154 [==============================] - 0s 990us/step - loss: 0.5304 - accuracy: 0.7565\n",
      "Epoch 67/100\n",
      "154/154 [==============================] - 0s 906us/step - loss: 0.5607 - accuracy: 0.7279\n",
      "Epoch 68/100\n",
      "154/154 [==============================] - 0s 1ms/step - loss: 0.5224 - accuracy: 0.7474\n",
      "Epoch 69/100\n",
      "154/154 [==============================] - 0s 1ms/step - loss: 0.5760 - accuracy: 0.7214\n",
      "Epoch 70/100\n",
      "154/154 [==============================] - 0s 957us/step - loss: 0.5238 - accuracy: 0.7552\n",
      "Epoch 71/100\n",
      "154/154 [==============================] - 0s 939us/step - loss: 0.5352 - accuracy: 0.7305\n",
      "Epoch 72/100\n",
      "154/154 [==============================] - 0s 952us/step - loss: 0.5564 - accuracy: 0.7331\n",
      "Epoch 73/100\n",
      "154/154 [==============================] - 0s 1ms/step - loss: 0.5581 - accuracy: 0.7396\n",
      "Epoch 74/100\n",
      "154/154 [==============================] - 0s 867us/step - loss: 0.5615 - accuracy: 0.7253\n",
      "Epoch 75/100\n",
      "154/154 [==============================] - 0s 934us/step - loss: 0.5529 - accuracy: 0.7292\n",
      "Epoch 76/100\n",
      "154/154 [==============================] - 0s 1ms/step - loss: 0.5766 - accuracy: 0.7461\n",
      "Epoch 77/100\n",
      "154/154 [==============================] - 0s 1ms/step - loss: 0.5287 - accuracy: 0.7487\n",
      "Epoch 78/100\n",
      "154/154 [==============================] - 0s 926us/step - loss: 0.5594 - accuracy: 0.7474\n",
      "Epoch 79/100\n",
      "154/154 [==============================] - 0s 1ms/step - loss: 0.5190 - accuracy: 0.7422\n",
      "Epoch 80/100\n",
      "154/154 [==============================] - 0s 929us/step - loss: 0.5223 - accuracy: 0.7500\n",
      "Epoch 81/100\n",
      "154/154 [==============================] - 0s 886us/step - loss: 0.5107 - accuracy: 0.7513\n",
      "Epoch 82/100\n",
      "154/154 [==============================] - 0s 880us/step - loss: 0.5251 - accuracy: 0.7500\n",
      "Epoch 83/100\n",
      "154/154 [==============================] - 0s 867us/step - loss: 0.5709 - accuracy: 0.7370\n",
      "Epoch 84/100\n",
      "154/154 [==============================] - 0s 860us/step - loss: 0.5101 - accuracy: 0.7448\n",
      "Epoch 85/100\n",
      "154/154 [==============================] - 0s 873us/step - loss: 0.5261 - accuracy: 0.7474\n",
      "Epoch 86/100\n",
      "154/154 [==============================] - 0s 932us/step - loss: 0.5074 - accuracy: 0.7669\n",
      "Epoch 87/100\n",
      "154/154 [==============================] - 0s 958us/step - loss: 0.5356 - accuracy: 0.7279\n",
      "Epoch 88/100\n",
      "154/154 [==============================] - 0s 880us/step - loss: 0.5105 - accuracy: 0.7591\n",
      "Epoch 89/100\n",
      "154/154 [==============================] - 0s 860us/step - loss: 0.5133 - accuracy: 0.7422\n",
      "Epoch 90/100\n",
      "154/154 [==============================] - 0s 860us/step - loss: 0.5304 - accuracy: 0.7396\n",
      "Epoch 91/100\n",
      "154/154 [==============================] - 0s 873us/step - loss: 0.5384 - accuracy: 0.7461\n",
      "Epoch 92/100\n",
      "154/154 [==============================] - 0s 880us/step - loss: 0.5283 - accuracy: 0.7643\n",
      "Epoch 93/100\n",
      "154/154 [==============================] - 0s 1ms/step - loss: 0.5258 - accuracy: 0.7760\n",
      "Epoch 94/100\n",
      "154/154 [==============================] - 0s 913us/step - loss: 0.5305 - accuracy: 0.7552\n",
      "Epoch 95/100\n",
      "154/154 [==============================] - 0s 873us/step - loss: 0.5215 - accuracy: 0.7604\n",
      "Epoch 96/100\n",
      "154/154 [==============================] - 0s 893us/step - loss: 0.5274 - accuracy: 0.7383\n",
      "Epoch 97/100\n",
      "154/154 [==============================] - 0s 1ms/step - loss: 0.5404 - accuracy: 0.7435\n",
      "Epoch 98/100\n",
      "154/154 [==============================] - 0s 1ms/step - loss: 0.5107 - accuracy: 0.7448\n",
      "Epoch 99/100\n",
      "154/154 [==============================] - 0s 1ms/step - loss: 0.5231 - accuracy: 0.7500\n",
      "Epoch 100/100\n",
      "154/154 [==============================] - 0s 1ms/step - loss: 0.5438 - accuracy: 0.7604\n"
     ]
    }
   ],
   "source": [
    "# 모델을 컴파일합니다.\n",
    "model.compile(loss='binary_crossentropy', optimizer='adam', metrics=['accuracy'])\n",
    "\n",
    "# 모델을 실행합니다.\n",
    "history=model.fit(X, y, epochs=100, batch_size=5)"
   ]
  },
  {
   "cell_type": "code",
   "execution_count": null,
   "metadata": {},
   "outputs": [],
   "source": []
  }
 ],
 "metadata": {
  "kernelspec": {
   "display_name": "Python 3 (ipykernel)",
   "language": "python",
   "name": "python3"
  },
  "language_info": {
   "codemirror_mode": {
    "name": "ipython",
    "version": 3
   },
   "file_extension": ".py",
   "mimetype": "text/x-python",
   "name": "python",
   "nbconvert_exporter": "python",
   "pygments_lexer": "ipython3",
   "version": "3.9.7"
  },
  "toc": {
   "base_numbering": 1,
   "nav_menu": {},
   "number_sections": true,
   "sideBar": true,
   "skip_h1_title": false,
   "title_cell": "Table of Contents",
   "title_sidebar": "Contents",
   "toc_cell": false,
   "toc_position": {},
   "toc_section_display": true,
   "toc_window_display": false
  },
  "varInspector": {
   "cols": {
    "lenName": 16,
    "lenType": 16,
    "lenVar": 40
   },
   "kernels_config": {
    "python": {
     "delete_cmd_postfix": "",
     "delete_cmd_prefix": "del ",
     "library": "var_list.py",
     "varRefreshCmd": "print(var_dic_list())"
    },
    "r": {
     "delete_cmd_postfix": ") ",
     "delete_cmd_prefix": "rm(",
     "library": "var_list.r",
     "varRefreshCmd": "cat(var_dic_list()) "
    }
   },
   "types_to_exclude": [
    "module",
    "function",
    "builtin_function_or_method",
    "instance",
    "_Feature"
   ],
   "window_display": false
  }
 },
 "nbformat": 4,
 "nbformat_minor": 2
}
