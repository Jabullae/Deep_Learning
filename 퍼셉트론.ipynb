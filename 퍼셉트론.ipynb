{
 "cells": [
  {
   "cell_type": "markdown",
   "id": "a88072a4-208b-4573-aa00-df4138f5fd82",
   "metadata": {},
   "source": [
    "# 퍼셉트론"
   ]
  },
  {
   "cell_type": "code",
   "execution_count": 2,
   "id": "1bee5164-5356-4d70-98cd-5999f43933f3",
   "metadata": {
    "execution": {
     "iopub.execute_input": "2022-12-01T00:47:13.937173Z",
     "iopub.status.busy": "2022-12-01T00:47:13.936173Z",
     "iopub.status.idle": "2022-12-01T00:47:16.808571Z",
     "shell.execute_reply": "2022-12-01T00:47:16.807574Z",
     "shell.execute_reply.started": "2022-12-01T00:47:13.937173Z"
    },
    "tags": []
   },
   "outputs": [
    {
     "name": "stdout",
     "output_type": "stream",
     "text": [
      "Requirement already satisfied: mglearn in c:\\ananconda3\\lib\\site-packages (0.1.9)\n",
      "Requirement already satisfied: joblib in c:\\ananconda3\\lib\\site-packages (from mglearn) (1.1.1)\n",
      "Requirement already satisfied: pillow in c:\\ananconda3\\lib\\site-packages (from mglearn) (9.2.0)\n",
      "Requirement already satisfied: scikit-learn in c:\\ananconda3\\lib\\site-packages (from mglearn) (1.1.3)\n",
      "Requirement already satisfied: cycler in c:\\ananconda3\\lib\\site-packages (from mglearn) (0.11.0)\n",
      "Requirement already satisfied: matplotlib in c:\\ananconda3\\lib\\site-packages (from mglearn) (3.5.3)\n",
      "Requirement already satisfied: imageio in c:\\ananconda3\\lib\\site-packages (from mglearn) (2.19.3)\n",
      "Requirement already satisfied: pandas in c:\\ananconda3\\lib\\site-packages (from mglearn) (1.5.1)\n",
      "Requirement already satisfied: numpy in c:\\ananconda3\\lib\\site-packages (from mglearn) (1.21.5)\n",
      "Requirement already satisfied: fonttools>=4.22.0 in c:\\ananconda3\\lib\\site-packages (from matplotlib->mglearn) (4.25.0)\n",
      "Requirement already satisfied: kiwisolver>=1.0.1 in c:\\ananconda3\\lib\\site-packages (from matplotlib->mglearn) (1.4.2)\n",
      "Requirement already satisfied: pyparsing>=2.2.1 in c:\\ananconda3\\lib\\site-packages (from matplotlib->mglearn) (3.0.9)\n",
      "Requirement already satisfied: python-dateutil>=2.7 in c:\\ananconda3\\lib\\site-packages (from matplotlib->mglearn) (2.8.2)\n",
      "Requirement already satisfied: packaging>=20.0 in c:\\ananconda3\\lib\\site-packages (from matplotlib->mglearn) (21.3)\n",
      "Requirement already satisfied: pytz>=2020.1 in c:\\ananconda3\\lib\\site-packages (from pandas->mglearn) (2022.1)\n",
      "Requirement already satisfied: threadpoolctl>=2.0.0 in c:\\ananconda3\\lib\\site-packages (from scikit-learn->mglearn) (2.2.0)\n",
      "Requirement already satisfied: scipy>=1.3.2 in c:\\ananconda3\\lib\\site-packages (from scikit-learn->mglearn) (1.8.1)\n",
      "Requirement already satisfied: six>=1.5 in c:\\ananconda3\\lib\\site-packages (from python-dateutil>=2.7->matplotlib->mglearn) (1.16.0)\n"
     ]
    }
   ],
   "source": [
    "! pip install mglearn"
   ]
  },
  {
   "cell_type": "code",
   "execution_count": 1,
   "id": "b5837cbd-b984-4b86-8b3e-cf8bef700ecf",
   "metadata": {
    "execution": {
     "iopub.execute_input": "2022-11-30T03:15:10.614350Z",
     "iopub.status.busy": "2022-11-30T03:15:10.613354Z",
     "iopub.status.idle": "2022-11-30T03:15:10.761920Z",
     "shell.execute_reply": "2022-11-30T03:15:10.761920Z",
     "shell.execute_reply.started": "2022-11-30T03:15:10.614350Z"
    },
    "tags": []
   },
   "outputs": [],
   "source": [
    "import numpy as np\n",
    "\n",
    "def AND(x1, x2):\n",
    "    w1, w2, theta = 0.4, 0.4, 0.7\n",
    "    tmp = x1*w1 + x2*w2\n",
    "    if tmp <= theta:\n",
    "        return 0 \n",
    "    else:\n",
    "        return 1\n",
    "\n",
    "def NAND(x1, x2):\n",
    "    w1, w2, theta = -0.4, -0.4, -0.7\n",
    "    tmp = x1*w1 + x2*w2\n",
    "    if tmp <= theta:\n",
    "        return 0 \n",
    "    else:\n",
    "        return 1\n",
    "    \n",
    "def OR(x1, x2):\n",
    "    w1, w2, theta = 0.4, 0.4, 0.3\n",
    "    tmp = x1*w1 + x2*w2\n",
    "    if tmp <= theta:\n",
    "        return 0 \n",
    "    else:\n",
    "        return 1   "
   ]
  },
  {
   "cell_type": "code",
   "execution_count": 2,
   "id": "ffb65c1a-9c1c-411b-af7e-f50bc4db269d",
   "metadata": {
    "execution": {
     "iopub.execute_input": "2022-11-30T03:15:11.215121Z",
     "iopub.status.busy": "2022-11-30T03:15:11.214125Z",
     "iopub.status.idle": "2022-11-30T03:15:11.228087Z",
     "shell.execute_reply": "2022-11-30T03:15:11.227089Z",
     "shell.execute_reply.started": "2022-11-30T03:15:11.215121Z"
    },
    "tags": []
   },
   "outputs": [
    {
     "name": "stdout",
     "output_type": "stream",
     "text": [
      "0\n",
      "0\n",
      "0\n",
      "1\n"
     ]
    }
   ],
   "source": [
    "print(AND(0, 0))\n",
    "print(AND(1, 0))\n",
    "print(AND(0, 1))\n",
    "print(AND(1, 1))"
   ]
  },
  {
   "cell_type": "code",
   "execution_count": 3,
   "id": "6c28b3a0-6686-4085-b41f-7b3833c1b762",
   "metadata": {
    "execution": {
     "iopub.execute_input": "2022-11-30T03:15:11.817538Z",
     "iopub.status.busy": "2022-11-30T03:15:11.817538Z",
     "iopub.status.idle": "2022-11-30T03:15:11.836488Z",
     "shell.execute_reply": "2022-11-30T03:15:11.835489Z",
     "shell.execute_reply.started": "2022-11-30T03:15:11.817538Z"
    },
    "tags": []
   },
   "outputs": [
    {
     "name": "stdout",
     "output_type": "stream",
     "text": [
      "1\n",
      "1\n",
      "1\n",
      "0\n"
     ]
    }
   ],
   "source": [
    "print(NAND(0, 0))\n",
    "print(NAND(1, 0))\n",
    "print(NAND(0, 1))\n",
    "print(NAND(1, 1))"
   ]
  },
  {
   "cell_type": "code",
   "execution_count": 4,
   "id": "9edad7a9-39d5-476a-bd8c-9978d52ad54d",
   "metadata": {
    "execution": {
     "iopub.execute_input": "2022-11-30T03:15:11.900804Z",
     "iopub.status.busy": "2022-11-30T03:15:11.899808Z",
     "iopub.status.idle": "2022-11-30T03:15:11.913772Z",
     "shell.execute_reply": "2022-11-30T03:15:11.912774Z",
     "shell.execute_reply.started": "2022-11-30T03:15:11.900804Z"
    },
    "tags": []
   },
   "outputs": [
    {
     "name": "stdout",
     "output_type": "stream",
     "text": [
      "0\n",
      "1\n",
      "1\n",
      "1\n"
     ]
    }
   ],
   "source": [
    "print(OR(0, 0))\n",
    "print(OR(1, 0))\n",
    "print(OR(0, 1))\n",
    "print(OR(1, 1))"
   ]
  },
  {
   "cell_type": "code",
   "execution_count": 5,
   "id": "eb083fba-6c29-4a22-bd35-c763290a2f2a",
   "metadata": {
    "execution": {
     "iopub.execute_input": "2022-11-30T03:15:11.986869Z",
     "iopub.status.busy": "2022-11-30T03:15:11.986869Z",
     "iopub.status.idle": "2022-11-30T03:15:12.006583Z",
     "shell.execute_reply": "2022-11-30T03:15:12.005584Z",
     "shell.execute_reply.started": "2022-11-30T03:15:11.986869Z"
    },
    "tags": []
   },
   "outputs": [],
   "source": [
    "def GATE(x1, x2):\n",
    "    w1, w2, theta = -0.4, -0.4, -0.7\n",
    "    tmp = x1*w1 + x2*w2\n",
    "    if tmp <= theta:\n",
    "        return 0 \n",
    "    else:\n",
    "        return 1"
   ]
  },
  {
   "cell_type": "code",
   "execution_count": 6,
   "id": "0c502d18-b7c6-4058-8a8d-b03c2c5b7440",
   "metadata": {
    "execution": {
     "iopub.execute_input": "2022-11-30T03:15:12.174825Z",
     "iopub.status.busy": "2022-11-30T03:15:12.174825Z",
     "iopub.status.idle": "2022-11-30T03:15:12.194773Z",
     "shell.execute_reply": "2022-11-30T03:15:12.193774Z",
     "shell.execute_reply.started": "2022-11-30T03:15:12.174825Z"
    },
    "tags": []
   },
   "outputs": [
    {
     "name": "stdout",
     "output_type": "stream",
     "text": [
      "1\n",
      "1\n",
      "1\n",
      "0\n"
     ]
    }
   ],
   "source": [
    "print(GATE(0, 0))\n",
    "print(GATE(1, 0))\n",
    "print(GATE(0, 1))\n",
    "print(GATE(1, 1))"
   ]
  },
  {
   "cell_type": "code",
   "execution_count": 7,
   "id": "f2033ca3-a5b3-49b4-b150-9203eda40913",
   "metadata": {
    "execution": {
     "iopub.execute_input": "2022-11-30T03:15:12.264539Z",
     "iopub.status.busy": "2022-11-30T03:15:12.263540Z",
     "iopub.status.idle": "2022-11-30T03:15:12.271518Z",
     "shell.execute_reply": "2022-11-30T03:15:12.270521Z",
     "shell.execute_reply.started": "2022-11-30T03:15:12.264539Z"
    },
    "tags": []
   },
   "outputs": [],
   "source": [
    "def XOR(x1, x2):\n",
    "    y1 = NAND(x1, x2)\n",
    "    y2 = OR(x1, x2)\n",
    "    return AND(y1, y2)"
   ]
  },
  {
   "cell_type": "code",
   "execution_count": 8,
   "id": "dd46715d-2526-45f4-a897-1eab51f65cb2",
   "metadata": {
    "execution": {
     "iopub.execute_input": "2022-11-30T03:15:12.374297Z",
     "iopub.status.busy": "2022-11-30T03:15:12.374297Z",
     "iopub.status.idle": "2022-11-30T03:15:12.395240Z",
     "shell.execute_reply": "2022-11-30T03:15:12.394243Z",
     "shell.execute_reply.started": "2022-11-30T03:15:12.374297Z"
    },
    "tags": []
   },
   "outputs": [
    {
     "name": "stdout",
     "output_type": "stream",
     "text": [
      "1\n",
      "1\n",
      "1\n",
      "0\n"
     ]
    }
   ],
   "source": [
    "# NAND\n",
    "print(NAND(0, 0))\n",
    "print(NAND(1, 0))\n",
    "print(NAND(0, 1))\n",
    "print(NAND(1, 1))"
   ]
  },
  {
   "cell_type": "code",
   "execution_count": 9,
   "id": "69c3ded0-24ca-422e-b88d-4a04e2ffebdf",
   "metadata": {
    "execution": {
     "iopub.execute_input": "2022-11-30T03:15:12.481128Z",
     "iopub.status.busy": "2022-11-30T03:15:12.481128Z",
     "iopub.status.idle": "2022-11-30T03:15:12.488109Z",
     "shell.execute_reply": "2022-11-30T03:15:12.487110Z",
     "shell.execute_reply.started": "2022-11-30T03:15:12.481128Z"
    },
    "tags": []
   },
   "outputs": [
    {
     "name": "stdout",
     "output_type": "stream",
     "text": [
      "0\n",
      "1\n",
      "1\n",
      "1\n"
     ]
    }
   ],
   "source": [
    "# OR\n",
    "print(OR(0, 0))\n",
    "print(OR(1, 0))\n",
    "print(OR(0, 1))\n",
    "print(OR(1, 1))"
   ]
  },
  {
   "cell_type": "code",
   "execution_count": 10,
   "id": "85620de6-fc06-48b7-b23a-81853d192654",
   "metadata": {
    "execution": {
     "iopub.execute_input": "2022-11-30T03:15:12.585623Z",
     "iopub.status.busy": "2022-11-30T03:15:12.585623Z",
     "iopub.status.idle": "2022-11-30T03:15:12.598586Z",
     "shell.execute_reply": "2022-11-30T03:15:12.596593Z",
     "shell.execute_reply.started": "2022-11-30T03:15:12.585623Z"
    },
    "tags": []
   },
   "outputs": [
    {
     "name": "stdout",
     "output_type": "stream",
     "text": [
      "0\n",
      "1\n",
      "1\n",
      "0\n"
     ]
    }
   ],
   "source": [
    "print(XOR(0, 0))\n",
    "print(XOR(1, 0))\n",
    "print(XOR(0, 1))\n",
    "print(XOR(1, 1))"
   ]
  },
  {
   "cell_type": "code",
   "execution_count": 11,
   "id": "17d91a92-ad23-417a-931c-52c5f9728566",
   "metadata": {
    "execution": {
     "iopub.execute_input": "2022-11-30T03:15:12.685181Z",
     "iopub.status.busy": "2022-11-30T03:15:12.685181Z",
     "iopub.status.idle": "2022-11-30T03:15:12.706573Z",
     "shell.execute_reply": "2022-11-30T03:15:12.705575Z",
     "shell.execute_reply.started": "2022-11-30T03:15:12.685181Z"
    },
    "tags": []
   },
   "outputs": [
    {
     "name": "stdout",
     "output_type": "stream",
     "text": [
      "1 AND 0 => 0\n",
      "1 AND 1 => 1\n",
      "1 AND 1 => 1\n",
      "0 AND 1 => 0\n"
     ]
    }
   ],
   "source": [
    "print(NAND(0, 0), 'AND', OR(0, 0), '=>', XOR(0, 0))\n",
    "print(NAND(1, 0), 'AND', OR(1, 0), '=>', XOR(1, 0))\n",
    "print(NAND(0, 1), 'AND', OR(0, 1), '=>', XOR(0, 1))\n",
    "print(NAND(1, 1), 'AND', OR(1, 1), '=>', XOR(1, 1))"
   ]
  },
  {
   "cell_type": "code",
   "execution_count": 12,
   "id": "8517d873-8699-42ff-bfeb-d0e1cfb1f90a",
   "metadata": {
    "execution": {
     "iopub.execute_input": "2022-11-30T03:15:12.782853Z",
     "iopub.status.busy": "2022-11-30T03:15:12.782853Z",
     "iopub.status.idle": "2022-11-30T03:15:12.799806Z",
     "shell.execute_reply": "2022-11-30T03:15:12.799806Z",
     "shell.execute_reply.started": "2022-11-30T03:15:12.782853Z"
    },
    "tags": []
   },
   "outputs": [
    {
     "name": "stdout",
     "output_type": "stream",
     "text": [
      "1 AND 1 => 1\n"
     ]
    }
   ],
   "source": [
    "print(NAND(0, 1), 'AND', OR(0, 1), '=>', XOR(0, 1))\n"
   ]
  },
  {
   "cell_type": "code",
   "execution_count": 13,
   "id": "42b3a734-8b6d-4a7f-8c94-bdd8de1789a9",
   "metadata": {
    "execution": {
     "iopub.execute_input": "2022-11-30T03:15:12.887579Z",
     "iopub.status.busy": "2022-11-30T03:15:12.887579Z",
     "iopub.status.idle": "2022-11-30T03:15:12.895557Z",
     "shell.execute_reply": "2022-11-30T03:15:12.894560Z",
     "shell.execute_reply.started": "2022-11-30T03:15:12.887579Z"
    },
    "tags": []
   },
   "outputs": [],
   "source": [
    "# 시그모이드 함수\n",
    "def Sig(x):\n",
    "    y = 1 / (1 + np.exp(-x))\n",
    "    print(y)"
   ]
  },
  {
   "cell_type": "code",
   "execution_count": 14,
   "id": "dff99b33-5da9-49f2-ad1b-96057b81951a",
   "metadata": {
    "execution": {
     "iopub.execute_input": "2022-11-30T03:15:12.994494Z",
     "iopub.status.busy": "2022-11-30T03:15:12.994494Z",
     "iopub.status.idle": "2022-11-30T03:15:13.002474Z",
     "shell.execute_reply": "2022-11-30T03:15:13.002474Z",
     "shell.execute_reply.started": "2022-11-30T03:15:12.994494Z"
    },
    "tags": []
   },
   "outputs": [
    {
     "name": "stdout",
     "output_type": "stream",
     "text": [
      "0.9999999979388463\n"
     ]
    }
   ],
   "source": [
    "Sig(20)"
   ]
  },
  {
   "cell_type": "code",
   "execution_count": null,
   "id": "3eda451d-ebc8-4c29-9558-549d477c7cd1",
   "metadata": {},
   "outputs": [],
   "source": []
  },
  {
   "cell_type": "code",
   "execution_count": null,
   "id": "9afad734-a19d-4d17-aadf-2a891384fa99",
   "metadata": {},
   "outputs": [],
   "source": []
  },
  {
   "cell_type": "code",
   "execution_count": null,
   "id": "360e18f7-5aae-4bd7-820b-ef245fdbab67",
   "metadata": {},
   "outputs": [],
   "source": []
  },
  {
   "cell_type": "code",
   "execution_count": null,
   "id": "4e277ab4-80bd-4fd4-bff9-6c1ccaca85d9",
   "metadata": {},
   "outputs": [],
   "source": []
  }
 ],
 "metadata": {
  "kernelspec": {
   "display_name": "Python 3 (ipykernel)",
   "language": "python",
   "name": "python3"
  },
  "language_info": {
   "codemirror_mode": {
    "name": "ipython",
    "version": 3
   },
   "file_extension": ".py",
   "mimetype": "text/x-python",
   "name": "python",
   "nbconvert_exporter": "python",
   "pygments_lexer": "ipython3",
   "version": "3.9.7"
  },
  "toc-autonumbering": true
 },
 "nbformat": 4,
 "nbformat_minor": 5
}
