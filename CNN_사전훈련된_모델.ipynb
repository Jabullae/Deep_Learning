{
  "cells": [
    {
      "cell_type": "markdown",
      "metadata": {
        "id": "view-in-github",
        "colab_type": "text"
      },
      "source": [
        "<a href=\"https://colab.research.google.com/github/Jabullae/Deep_Learning/blob/main/CNN_%EC%82%AC%EC%A0%84%ED%9B%88%EB%A0%A8%EB%90%9C_%EB%AA%A8%EB%8D%B8.ipynb\" target=\"_parent\"><img src=\"https://colab.research.google.com/assets/colab-badge.svg\" alt=\"Open In Colab\"/></a>"
      ]
    },
    {
      "cell_type": "code",
      "source": [
        "import tensorflow as tf\n",
        "import os\n",
        "\n",
        "resolver = tf.distribute.cluster_resolver.TPUClusterResolver(tpu='grpc://' + os.environ['COLAB_TPU_ADDR'])\n",
        "\n",
        "tf.config.experimental_connect_to_cluster(resolver)\n",
        "tf.tpu.experimental.initialize_tpu_system(resolver)"
      ],
      "metadata": {
        "colab": {
          "base_uri": "https://localhost:8080/",
          "height": 359
        },
        "id": "McTCxXUyu429",
        "outputId": "828e11c0-cbe2-4c61-a677-8e20efb99a73"
      },
      "id": "McTCxXUyu429",
      "execution_count": null,
      "outputs": [
        {
          "output_type": "error",
          "ename": "KeyError",
          "evalue": "ignored",
          "traceback": [
            "\u001b[0;31m---------------------------------------------------------------------------\u001b[0m",
            "\u001b[0;31mKeyError\u001b[0m                                  Traceback (most recent call last)",
            "\u001b[0;32m<ipython-input-1-9a3987a9ae78>\u001b[0m in \u001b[0;36m<module>\u001b[0;34m\u001b[0m\n\u001b[1;32m      2\u001b[0m \u001b[0;32mimport\u001b[0m \u001b[0mos\u001b[0m\u001b[0;34m\u001b[0m\u001b[0;34m\u001b[0m\u001b[0m\n\u001b[1;32m      3\u001b[0m \u001b[0;34m\u001b[0m\u001b[0m\n\u001b[0;32m----> 4\u001b[0;31m \u001b[0mresolver\u001b[0m \u001b[0;34m=\u001b[0m \u001b[0mtf\u001b[0m\u001b[0;34m.\u001b[0m\u001b[0mdistribute\u001b[0m\u001b[0;34m.\u001b[0m\u001b[0mcluster_resolver\u001b[0m\u001b[0;34m.\u001b[0m\u001b[0mTPUClusterResolver\u001b[0m\u001b[0;34m(\u001b[0m\u001b[0mtpu\u001b[0m\u001b[0;34m=\u001b[0m\u001b[0;34m'grpc://'\u001b[0m \u001b[0;34m+\u001b[0m \u001b[0mos\u001b[0m\u001b[0;34m.\u001b[0m\u001b[0menviron\u001b[0m\u001b[0;34m[\u001b[0m\u001b[0;34m'COLAB_TPU_ADDR'\u001b[0m\u001b[0;34m]\u001b[0m\u001b[0;34m)\u001b[0m\u001b[0;34m\u001b[0m\u001b[0;34m\u001b[0m\u001b[0m\n\u001b[0m\u001b[1;32m      5\u001b[0m \u001b[0;34m\u001b[0m\u001b[0m\n\u001b[1;32m      6\u001b[0m \u001b[0mtf\u001b[0m\u001b[0;34m.\u001b[0m\u001b[0mconfig\u001b[0m\u001b[0;34m.\u001b[0m\u001b[0mexperimental_connect_to_cluster\u001b[0m\u001b[0;34m(\u001b[0m\u001b[0mresolver\u001b[0m\u001b[0;34m)\u001b[0m\u001b[0;34m\u001b[0m\u001b[0;34m\u001b[0m\u001b[0m\n",
            "\u001b[0;32m/usr/lib/python3.8/os.py\u001b[0m in \u001b[0;36m__getitem__\u001b[0;34m(self, key)\u001b[0m\n\u001b[1;32m    673\u001b[0m         \u001b[0;32mexcept\u001b[0m \u001b[0mKeyError\u001b[0m\u001b[0;34m:\u001b[0m\u001b[0;34m\u001b[0m\u001b[0;34m\u001b[0m\u001b[0m\n\u001b[1;32m    674\u001b[0m             \u001b[0;31m# raise KeyError with the original key value\u001b[0m\u001b[0;34m\u001b[0m\u001b[0;34m\u001b[0m\u001b[0;34m\u001b[0m\u001b[0m\n\u001b[0;32m--> 675\u001b[0;31m             \u001b[0;32mraise\u001b[0m \u001b[0mKeyError\u001b[0m\u001b[0;34m(\u001b[0m\u001b[0mkey\u001b[0m\u001b[0;34m)\u001b[0m \u001b[0;32mfrom\u001b[0m \u001b[0;32mNone\u001b[0m\u001b[0;34m\u001b[0m\u001b[0;34m\u001b[0m\u001b[0m\n\u001b[0m\u001b[1;32m    676\u001b[0m         \u001b[0;32mreturn\u001b[0m \u001b[0mself\u001b[0m\u001b[0;34m.\u001b[0m\u001b[0mdecodevalue\u001b[0m\u001b[0;34m(\u001b[0m\u001b[0mvalue\u001b[0m\u001b[0;34m)\u001b[0m\u001b[0;34m\u001b[0m\u001b[0;34m\u001b[0m\u001b[0m\n\u001b[1;32m    677\u001b[0m \u001b[0;34m\u001b[0m\u001b[0m\n",
            "\u001b[0;31mKeyError\u001b[0m: 'COLAB_TPU_ADDR'"
          ]
        }
      ]
    },
    {
      "cell_type": "code",
      "source": [
        "strategy = tf.distribute.TPUStrategy(resolver)"
      ],
      "metadata": {
        "id": "qceGTePpvDvS"
      },
      "id": "qceGTePpvDvS",
      "execution_count": null,
      "outputs": []
    },
    {
      "cell_type": "code",
      "source": [
        "from google.colab import files\n",
        "files.upload()"
      ],
      "metadata": {
        "colab": {
          "base_uri": "https://localhost:8080/",
          "height": 93
        },
        "id": "LZMOq9ar1mzQ",
        "outputId": "161321d6-a96a-480d-bee5-0b6d00b76aee"
      },
      "id": "LZMOq9ar1mzQ",
      "execution_count": 4,
      "outputs": [
        {
          "output_type": "display_data",
          "data": {
            "text/plain": [
              "<IPython.core.display.HTML object>"
            ],
            "text/html": [
              "\n",
              "     <input type=\"file\" id=\"files-d2096e27-ca8e-418f-bba0-d04fe75c6237\" name=\"files[]\" multiple disabled\n",
              "        style=\"border:none\" />\n",
              "     <output id=\"result-d2096e27-ca8e-418f-bba0-d04fe75c6237\">\n",
              "      Upload widget is only available when the cell has been executed in the\n",
              "      current browser session. Please rerun this cell to enable.\n",
              "      </output>\n",
              "      <script>// Copyright 2017 Google LLC\n",
              "//\n",
              "// Licensed under the Apache License, Version 2.0 (the \"License\");\n",
              "// you may not use this file except in compliance with the License.\n",
              "// You may obtain a copy of the License at\n",
              "//\n",
              "//      http://www.apache.org/licenses/LICENSE-2.0\n",
              "//\n",
              "// Unless required by applicable law or agreed to in writing, software\n",
              "// distributed under the License is distributed on an \"AS IS\" BASIS,\n",
              "// WITHOUT WARRANTIES OR CONDITIONS OF ANY KIND, either express or implied.\n",
              "// See the License for the specific language governing permissions and\n",
              "// limitations under the License.\n",
              "\n",
              "/**\n",
              " * @fileoverview Helpers for google.colab Python module.\n",
              " */\n",
              "(function(scope) {\n",
              "function span(text, styleAttributes = {}) {\n",
              "  const element = document.createElement('span');\n",
              "  element.textContent = text;\n",
              "  for (const key of Object.keys(styleAttributes)) {\n",
              "    element.style[key] = styleAttributes[key];\n",
              "  }\n",
              "  return element;\n",
              "}\n",
              "\n",
              "// Max number of bytes which will be uploaded at a time.\n",
              "const MAX_PAYLOAD_SIZE = 100 * 1024;\n",
              "\n",
              "function _uploadFiles(inputId, outputId) {\n",
              "  const steps = uploadFilesStep(inputId, outputId);\n",
              "  const outputElement = document.getElementById(outputId);\n",
              "  // Cache steps on the outputElement to make it available for the next call\n",
              "  // to uploadFilesContinue from Python.\n",
              "  outputElement.steps = steps;\n",
              "\n",
              "  return _uploadFilesContinue(outputId);\n",
              "}\n",
              "\n",
              "// This is roughly an async generator (not supported in the browser yet),\n",
              "// where there are multiple asynchronous steps and the Python side is going\n",
              "// to poll for completion of each step.\n",
              "// This uses a Promise to block the python side on completion of each step,\n",
              "// then passes the result of the previous step as the input to the next step.\n",
              "function _uploadFilesContinue(outputId) {\n",
              "  const outputElement = document.getElementById(outputId);\n",
              "  const steps = outputElement.steps;\n",
              "\n",
              "  const next = steps.next(outputElement.lastPromiseValue);\n",
              "  return Promise.resolve(next.value.promise).then((value) => {\n",
              "    // Cache the last promise value to make it available to the next\n",
              "    // step of the generator.\n",
              "    outputElement.lastPromiseValue = value;\n",
              "    return next.value.response;\n",
              "  });\n",
              "}\n",
              "\n",
              "/**\n",
              " * Generator function which is called between each async step of the upload\n",
              " * process.\n",
              " * @param {string} inputId Element ID of the input file picker element.\n",
              " * @param {string} outputId Element ID of the output display.\n",
              " * @return {!Iterable<!Object>} Iterable of next steps.\n",
              " */\n",
              "function* uploadFilesStep(inputId, outputId) {\n",
              "  const inputElement = document.getElementById(inputId);\n",
              "  inputElement.disabled = false;\n",
              "\n",
              "  const outputElement = document.getElementById(outputId);\n",
              "  outputElement.innerHTML = '';\n",
              "\n",
              "  const pickedPromise = new Promise((resolve) => {\n",
              "    inputElement.addEventListener('change', (e) => {\n",
              "      resolve(e.target.files);\n",
              "    });\n",
              "  });\n",
              "\n",
              "  const cancel = document.createElement('button');\n",
              "  inputElement.parentElement.appendChild(cancel);\n",
              "  cancel.textContent = 'Cancel upload';\n",
              "  const cancelPromise = new Promise((resolve) => {\n",
              "    cancel.onclick = () => {\n",
              "      resolve(null);\n",
              "    };\n",
              "  });\n",
              "\n",
              "  // Wait for the user to pick the files.\n",
              "  const files = yield {\n",
              "    promise: Promise.race([pickedPromise, cancelPromise]),\n",
              "    response: {\n",
              "      action: 'starting',\n",
              "    }\n",
              "  };\n",
              "\n",
              "  cancel.remove();\n",
              "\n",
              "  // Disable the input element since further picks are not allowed.\n",
              "  inputElement.disabled = true;\n",
              "\n",
              "  if (!files) {\n",
              "    return {\n",
              "      response: {\n",
              "        action: 'complete',\n",
              "      }\n",
              "    };\n",
              "  }\n",
              "\n",
              "  for (const file of files) {\n",
              "    const li = document.createElement('li');\n",
              "    li.append(span(file.name, {fontWeight: 'bold'}));\n",
              "    li.append(span(\n",
              "        `(${file.type || 'n/a'}) - ${file.size} bytes, ` +\n",
              "        `last modified: ${\n",
              "            file.lastModifiedDate ? file.lastModifiedDate.toLocaleDateString() :\n",
              "                                    'n/a'} - `));\n",
              "    const percent = span('0% done');\n",
              "    li.appendChild(percent);\n",
              "\n",
              "    outputElement.appendChild(li);\n",
              "\n",
              "    const fileDataPromise = new Promise((resolve) => {\n",
              "      const reader = new FileReader();\n",
              "      reader.onload = (e) => {\n",
              "        resolve(e.target.result);\n",
              "      };\n",
              "      reader.readAsArrayBuffer(file);\n",
              "    });\n",
              "    // Wait for the data to be ready.\n",
              "    let fileData = yield {\n",
              "      promise: fileDataPromise,\n",
              "      response: {\n",
              "        action: 'continue',\n",
              "      }\n",
              "    };\n",
              "\n",
              "    // Use a chunked sending to avoid message size limits. See b/62115660.\n",
              "    let position = 0;\n",
              "    do {\n",
              "      const length = Math.min(fileData.byteLength - position, MAX_PAYLOAD_SIZE);\n",
              "      const chunk = new Uint8Array(fileData, position, length);\n",
              "      position += length;\n",
              "\n",
              "      const base64 = btoa(String.fromCharCode.apply(null, chunk));\n",
              "      yield {\n",
              "        response: {\n",
              "          action: 'append',\n",
              "          file: file.name,\n",
              "          data: base64,\n",
              "        },\n",
              "      };\n",
              "\n",
              "      let percentDone = fileData.byteLength === 0 ?\n",
              "          100 :\n",
              "          Math.round((position / fileData.byteLength) * 100);\n",
              "      percent.textContent = `${percentDone}% done`;\n",
              "\n",
              "    } while (position < fileData.byteLength);\n",
              "  }\n",
              "\n",
              "  // All done.\n",
              "  yield {\n",
              "    response: {\n",
              "      action: 'complete',\n",
              "    }\n",
              "  };\n",
              "}\n",
              "\n",
              "scope.google = scope.google || {};\n",
              "scope.google.colab = scope.google.colab || {};\n",
              "scope.google.colab._files = {\n",
              "  _uploadFiles,\n",
              "  _uploadFilesContinue,\n",
              "};\n",
              "})(self);\n",
              "</script> "
            ]
          },
          "metadata": {}
        },
        {
          "output_type": "stream",
          "name": "stdout",
          "text": [
            "Saving kaggle.json to kaggle.json\n"
          ]
        },
        {
          "output_type": "execute_result",
          "data": {
            "text/plain": [
              "{'kaggle.json': b'{\"username\":\"jabullae\",\"key\":\"9615fe6e84855ac0d22aa288ab5d10bd\"}'}"
            ]
          },
          "metadata": {},
          "execution_count": 4
        }
      ]
    },
    {
      "cell_type": "code",
      "source": [
        "! mkdir ~/.kaggle\n",
        "! cp kaggle.json ~/.kaggle/\n",
        "! chmod 600 ~/.kaggle/kaggle.json"
      ],
      "metadata": {
        "id": "CKhGxh7s1nho"
      },
      "id": "CKhGxh7s1nho",
      "execution_count": 5,
      "outputs": []
    },
    {
      "cell_type": "code",
      "source": [
        "! kaggle competitions download -c dogs-vs-cats"
      ],
      "metadata": {
        "colab": {
          "base_uri": "https://localhost:8080/"
        },
        "id": "6p85rzfW1npA",
        "outputId": "1dc27e7c-1bab-405e-bd77-d511c6a3b850"
      },
      "id": "6p85rzfW1npA",
      "execution_count": 6,
      "outputs": [
        {
          "output_type": "stream",
          "name": "stdout",
          "text": [
            "Downloading dogs-vs-cats.zip to /content\n",
            " 98% 798M/812M [00:06<00:00, 190MB/s]\n",
            "100% 812M/812M [00:06<00:00, 123MB/s]\n"
          ]
        }
      ]
    },
    {
      "cell_type": "code",
      "source": [
        "! unzip -qq dogs-vs-cats.zip\n",
        "! unzip -qq train.zip"
      ],
      "metadata": {
        "id": "OfZe6EpG1nvL"
      },
      "id": "OfZe6EpG1nvL",
      "execution_count": 7,
      "outputs": []
    },
    {
      "cell_type": "markdown",
      "id": "f7df675d-2d63-440d-9f06-85976c731aae",
      "metadata": {
        "id": "f7df675d-2d63-440d-9f06-85976c731aae"
      },
      "source": [
        "# 사전 훈련된 모델을 사용한 특성 추출"
      ]
    },
    {
      "cell_type": "markdown",
      "id": "c0b1a972-cad2-4d52-8221-85f46ea6fa3e",
      "metadata": {
        "id": "c0b1a972-cad2-4d52-8221-85f46ea6fa3e"
      },
      "source": [
        "## VGG16 합성곱 기반 층 만들기"
      ]
    },
    {
      "cell_type": "code",
      "execution_count": 8,
      "id": "6981c534-192b-4605-8b73-7dfc2fb2f09f",
      "metadata": {
        "execution": {
          "iopub.execute_input": "2022-12-12T02:42:13.091930Z",
          "iopub.status.busy": "2022-12-12T02:42:13.090933Z",
          "iopub.status.idle": "2022-12-12T02:42:18.428225Z",
          "shell.execute_reply": "2022-12-12T02:42:18.428225Z",
          "shell.execute_reply.started": "2022-12-12T02:42:13.091930Z"
        },
        "tags": [],
        "id": "6981c534-192b-4605-8b73-7dfc2fb2f09f"
      },
      "outputs": [],
      "source": [
        "from tensorflow import keras"
      ]
    },
    {
      "cell_type": "code",
      "execution_count": 9,
      "id": "fb89ed6f-94ec-413e-be50-77eb355fd854",
      "metadata": {
        "execution": {
          "iopub.execute_input": "2022-12-12T02:42:53.353300Z",
          "iopub.status.busy": "2022-12-12T02:42:53.353300Z",
          "iopub.status.idle": "2022-12-12T02:42:56.510995Z",
          "shell.execute_reply": "2022-12-12T02:42:56.509992Z",
          "shell.execute_reply.started": "2022-12-12T02:42:53.353300Z"
        },
        "id": "fb89ed6f-94ec-413e-be50-77eb355fd854"
      },
      "outputs": [],
      "source": [
        "conv_base = keras.applications.vgg16.VGG16(\n",
        "    weights = 'imagenet',\n",
        "    include_top = False,\n",
        "    input_shape = (180, 180, 3))"
      ]
    },
    {
      "cell_type": "code",
      "execution_count": 10,
      "id": "60338722-4d00-42e1-b39d-e2bd1be82a1d",
      "metadata": {
        "execution": {
          "iopub.execute_input": "2022-12-12T02:43:19.541478Z",
          "iopub.status.busy": "2022-12-12T02:43:19.541478Z",
          "iopub.status.idle": "2022-12-12T02:43:19.579377Z",
          "shell.execute_reply": "2022-12-12T02:43:19.579377Z",
          "shell.execute_reply.started": "2022-12-12T02:43:19.541478Z"
        },
        "tags": [],
        "colab": {
          "base_uri": "https://localhost:8080/"
        },
        "id": "60338722-4d00-42e1-b39d-e2bd1be82a1d",
        "outputId": "92d2f1f1-02ef-4c32-e6b8-0da695bd0c57"
      },
      "outputs": [
        {
          "output_type": "stream",
          "name": "stdout",
          "text": [
            "Model: \"vgg16\"\n",
            "_________________________________________________________________\n",
            " Layer (type)                Output Shape              Param #   \n",
            "=================================================================\n",
            " input_2 (InputLayer)        [(None, 180, 180, 3)]     0         \n",
            "                                                                 \n",
            " block1_conv1 (Conv2D)       (None, 180, 180, 64)      1792      \n",
            "                                                                 \n",
            " block1_conv2 (Conv2D)       (None, 180, 180, 64)      36928     \n",
            "                                                                 \n",
            " block1_pool (MaxPooling2D)  (None, 90, 90, 64)        0         \n",
            "                                                                 \n",
            " block2_conv1 (Conv2D)       (None, 90, 90, 128)       73856     \n",
            "                                                                 \n",
            " block2_conv2 (Conv2D)       (None, 90, 90, 128)       147584    \n",
            "                                                                 \n",
            " block2_pool (MaxPooling2D)  (None, 45, 45, 128)       0         \n",
            "                                                                 \n",
            " block3_conv1 (Conv2D)       (None, 45, 45, 256)       295168    \n",
            "                                                                 \n",
            " block3_conv2 (Conv2D)       (None, 45, 45, 256)       590080    \n",
            "                                                                 \n",
            " block3_conv3 (Conv2D)       (None, 45, 45, 256)       590080    \n",
            "                                                                 \n",
            " block3_pool (MaxPooling2D)  (None, 22, 22, 256)       0         \n",
            "                                                                 \n",
            " block4_conv1 (Conv2D)       (None, 22, 22, 512)       1180160   \n",
            "                                                                 \n",
            " block4_conv2 (Conv2D)       (None, 22, 22, 512)       2359808   \n",
            "                                                                 \n",
            " block4_conv3 (Conv2D)       (None, 22, 22, 512)       2359808   \n",
            "                                                                 \n",
            " block4_pool (MaxPooling2D)  (None, 11, 11, 512)       0         \n",
            "                                                                 \n",
            " block5_conv1 (Conv2D)       (None, 11, 11, 512)       2359808   \n",
            "                                                                 \n",
            " block5_conv2 (Conv2D)       (None, 11, 11, 512)       2359808   \n",
            "                                                                 \n",
            " block5_conv3 (Conv2D)       (None, 11, 11, 512)       2359808   \n",
            "                                                                 \n",
            " block5_pool (MaxPooling2D)  (None, 5, 5, 512)         0         \n",
            "                                                                 \n",
            "=================================================================\n",
            "Total params: 14,714,688\n",
            "Trainable params: 14,714,688\n",
            "Non-trainable params: 0\n",
            "_________________________________________________________________\n"
          ]
        }
      ],
      "source": [
        "conv_base.summary()"
      ]
    },
    {
      "cell_type": "markdown",
      "id": "e8c9ff84-7827-40d1-977e-448c3a8e889a",
      "metadata": {
        "id": "e8c9ff84-7827-40d1-977e-448c3a8e889a"
      },
      "source": [
        "# 데이터 증식을 사용하지 않는 빠른 특성 추출"
      ]
    },
    {
      "cell_type": "markdown",
      "id": "c8819445-3227-4755-ba11-b5f963e518e8",
      "metadata": {
        "id": "c8819445-3227-4755-ba11-b5f963e518e8"
      },
      "source": [
        "## VGG16 특성과 해당 레이블 추출하기"
      ]
    },
    {
      "cell_type": "code",
      "execution_count": 11,
      "id": "c9c2b4ef-6a60-4dc0-9839-1bc8e7f8c7b2",
      "metadata": {
        "execution": {
          "iopub.execute_input": "2022-12-12T02:51:18.308963Z",
          "iopub.status.busy": "2022-12-12T02:51:18.307964Z",
          "iopub.status.idle": "2022-12-12T02:51:18.313949Z",
          "shell.execute_reply": "2022-12-12T02:51:18.312952Z",
          "shell.execute_reply.started": "2022-12-12T02:51:18.308963Z"
        },
        "tags": [],
        "id": "c9c2b4ef-6a60-4dc0-9839-1bc8e7f8c7b2"
      },
      "outputs": [],
      "source": [
        "import os, shutil, pathlib\n",
        "\n",
        "original_dir = pathlib.Path('train')\n",
        "new_base_dir = pathlib.Path('cats_vs_dogs_small')\n",
        "def make_subset(subset_name, start_index, end_index):\n",
        "    for category in('cat', 'dog'):\n",
        "        dir = new_base_dir / subset_name / category\n",
        "        os.makedirs(dir)\n",
        "        fnames = [f'{category}.{i}.jpg'\n",
        "                 for i in range(start_index, end_index)]\n",
        "        for fname in fnames:\n",
        "            shutil.copyfile(src = original_dir / fname, \n",
        "                           dst = dir / fname)\n",
        "            \n",
        "make_subset('train', start_index = 0, end_index = 1000)\n",
        "make_subset('validation', start_index = 1000, end_index = 1500)\n",
        "make_subset('test', start_index = 1500, end_index = 2500)"
      ]
    },
    {
      "cell_type": "code",
      "execution_count": 12,
      "id": "bf31fd00-87f6-4f02-b580-5ec5f9493b52",
      "metadata": {
        "execution": {
          "iopub.execute_input": "2022-12-12T02:51:19.241995Z",
          "iopub.status.busy": "2022-12-12T02:51:19.240997Z",
          "iopub.status.idle": "2022-12-12T02:51:19.764893Z",
          "shell.execute_reply": "2022-12-12T02:51:19.764893Z",
          "shell.execute_reply.started": "2022-12-12T02:51:19.241995Z"
        },
        "colab": {
          "base_uri": "https://localhost:8080/"
        },
        "id": "bf31fd00-87f6-4f02-b580-5ec5f9493b52",
        "outputId": "08c668b3-422b-4131-af1b-75c185386d02"
      },
      "outputs": [
        {
          "output_type": "stream",
          "name": "stdout",
          "text": [
            "Found 2000 files belonging to 2 classes.\n",
            "Found 1000 files belonging to 2 classes.\n",
            "Found 2000 files belonging to 2 classes.\n"
          ]
        }
      ],
      "source": [
        "from tensorflow.keras.utils import image_dataset_from_directory\n",
        "\n",
        "train_dataset = image_dataset_from_directory(\n",
        "    new_base_dir / 'train',\n",
        "    image_size = (180, 180),\n",
        "    batch_size = 32)\n",
        "validation_dataset = image_dataset_from_directory(\n",
        "    new_base_dir / 'validation',\n",
        "    image_size = (180, 180),\n",
        "    batch_size = 32)\n",
        "test_dataset = image_dataset_from_directory(\n",
        "    new_base_dir / 'test',\n",
        "    image_size = (180, 180),\n",
        "    batch_size = 32)"
      ]
    },
    {
      "cell_type": "code",
      "source": [
        "from tensorflow import keras"
      ],
      "metadata": {
        "id": "tKX5y24H5fuH"
      },
      "id": "tKX5y24H5fuH",
      "execution_count": 13,
      "outputs": []
    },
    {
      "cell_type": "code",
      "execution_count": 14,
      "id": "d24264b7-cd0b-481c-b68e-0bbf786cbca5",
      "metadata": {
        "execution": {
          "iopub.execute_input": "2022-12-12T02:51:56.765370Z",
          "iopub.status.busy": "2022-12-12T02:51:56.765370Z",
          "iopub.status.idle": "2022-12-12T03:00:17.101354Z",
          "shell.execute_reply": "2022-12-12T03:00:17.101354Z",
          "shell.execute_reply.started": "2022-12-12T02:51:56.765370Z"
        },
        "tags": [],
        "colab": {
          "base_uri": "https://localhost:8080/"
        },
        "id": "d24264b7-cd0b-481c-b68e-0bbf786cbca5",
        "outputId": "daf35590-1608-4254-a204-72b9ed076e2a"
      },
      "outputs": [
        {
          "output_type": "stream",
          "name": "stdout",
          "text": [
            "1/1 [==============================] - 9s 9s/step\n",
            "1/1 [==============================] - 0s 34ms/step\n",
            "1/1 [==============================] - 0s 25ms/step\n",
            "1/1 [==============================] - 0s 26ms/step\n",
            "1/1 [==============================] - 0s 25ms/step\n",
            "1/1 [==============================] - 0s 21ms/step\n",
            "1/1 [==============================] - 0s 22ms/step\n",
            "1/1 [==============================] - 0s 22ms/step\n",
            "1/1 [==============================] - 0s 41ms/step\n",
            "1/1 [==============================] - 0s 25ms/step\n",
            "1/1 [==============================] - 0s 27ms/step\n",
            "1/1 [==============================] - 0s 28ms/step\n",
            "1/1 [==============================] - 0s 28ms/step\n",
            "1/1 [==============================] - 0s 29ms/step\n",
            "1/1 [==============================] - 0s 30ms/step\n",
            "1/1 [==============================] - 0s 28ms/step\n",
            "1/1 [==============================] - 0s 23ms/step\n",
            "1/1 [==============================] - 0s 27ms/step\n",
            "1/1 [==============================] - 0s 25ms/step\n",
            "1/1 [==============================] - 0s 27ms/step\n",
            "1/1 [==============================] - 0s 22ms/step\n",
            "1/1 [==============================] - 0s 28ms/step\n",
            "1/1 [==============================] - 0s 23ms/step\n",
            "1/1 [==============================] - 0s 26ms/step\n",
            "1/1 [==============================] - 0s 22ms/step\n",
            "1/1 [==============================] - 0s 30ms/step\n",
            "1/1 [==============================] - 0s 24ms/step\n",
            "1/1 [==============================] - 0s 22ms/step\n",
            "1/1 [==============================] - 0s 23ms/step\n",
            "1/1 [==============================] - 0s 23ms/step\n",
            "1/1 [==============================] - 0s 30ms/step\n",
            "1/1 [==============================] - 0s 23ms/step\n",
            "1/1 [==============================] - 0s 26ms/step\n",
            "1/1 [==============================] - 0s 25ms/step\n",
            "1/1 [==============================] - 0s 31ms/step\n",
            "1/1 [==============================] - 0s 31ms/step\n",
            "1/1 [==============================] - 0s 28ms/step\n",
            "1/1 [==============================] - 0s 22ms/step\n",
            "1/1 [==============================] - 0s 22ms/step\n",
            "1/1 [==============================] - 0s 23ms/step\n",
            "1/1 [==============================] - 0s 24ms/step\n",
            "1/1 [==============================] - 0s 22ms/step\n",
            "1/1 [==============================] - 0s 21ms/step\n",
            "1/1 [==============================] - 0s 23ms/step\n",
            "1/1 [==============================] - 0s 24ms/step\n",
            "1/1 [==============================] - 0s 32ms/step\n",
            "1/1 [==============================] - 0s 29ms/step\n",
            "1/1 [==============================] - 0s 32ms/step\n",
            "1/1 [==============================] - 0s 24ms/step\n",
            "1/1 [==============================] - 0s 23ms/step\n",
            "1/1 [==============================] - 0s 23ms/step\n",
            "1/1 [==============================] - 0s 23ms/step\n",
            "1/1 [==============================] - 0s 26ms/step\n",
            "1/1 [==============================] - 0s 26ms/step\n",
            "1/1 [==============================] - 0s 25ms/step\n",
            "1/1 [==============================] - 0s 25ms/step\n",
            "1/1 [==============================] - 0s 26ms/step\n",
            "1/1 [==============================] - 0s 28ms/step\n",
            "1/1 [==============================] - 0s 24ms/step\n",
            "1/1 [==============================] - 0s 22ms/step\n",
            "1/1 [==============================] - 0s 23ms/step\n",
            "1/1 [==============================] - 0s 27ms/step\n",
            "1/1 [==============================] - 1s 1s/step\n",
            "1/1 [==============================] - 0s 30ms/step\n",
            "1/1 [==============================] - 0s 23ms/step\n",
            "1/1 [==============================] - 0s 23ms/step\n",
            "1/1 [==============================] - 0s 27ms/step\n",
            "1/1 [==============================] - 0s 23ms/step\n",
            "1/1 [==============================] - 0s 27ms/step\n",
            "1/1 [==============================] - 0s 24ms/step\n",
            "1/1 [==============================] - 0s 23ms/step\n",
            "1/1 [==============================] - 0s 23ms/step\n",
            "1/1 [==============================] - 0s 30ms/step\n",
            "1/1 [==============================] - 0s 23ms/step\n",
            "1/1 [==============================] - 0s 23ms/step\n",
            "1/1 [==============================] - 0s 22ms/step\n",
            "1/1 [==============================] - 0s 23ms/step\n",
            "1/1 [==============================] - 0s 21ms/step\n",
            "1/1 [==============================] - 0s 25ms/step\n",
            "1/1 [==============================] - 0s 23ms/step\n",
            "1/1 [==============================] - 0s 25ms/step\n",
            "1/1 [==============================] - 0s 25ms/step\n",
            "1/1 [==============================] - 0s 22ms/step\n",
            "1/1 [==============================] - 0s 21ms/step\n",
            "1/1 [==============================] - 0s 26ms/step\n",
            "1/1 [==============================] - 0s 23ms/step\n",
            "1/1 [==============================] - 0s 26ms/step\n",
            "1/1 [==============================] - 0s 27ms/step\n",
            "1/1 [==============================] - 0s 27ms/step\n",
            "1/1 [==============================] - 0s 23ms/step\n",
            "1/1 [==============================] - 0s 26ms/step\n",
            "1/1 [==============================] - 0s 27ms/step\n",
            "1/1 [==============================] - 0s 24ms/step\n",
            "1/1 [==============================] - 0s 24ms/step\n",
            "1/1 [==============================] - 1s 851ms/step\n",
            "1/1 [==============================] - 0s 26ms/step\n",
            "1/1 [==============================] - 0s 28ms/step\n",
            "1/1 [==============================] - 0s 24ms/step\n",
            "1/1 [==============================] - 0s 26ms/step\n",
            "1/1 [==============================] - 0s 26ms/step\n",
            "1/1 [==============================] - 0s 28ms/step\n",
            "1/1 [==============================] - 0s 24ms/step\n",
            "1/1 [==============================] - 0s 26ms/step\n",
            "1/1 [==============================] - 0s 26ms/step\n",
            "1/1 [==============================] - 0s 24ms/step\n",
            "1/1 [==============================] - 0s 22ms/step\n",
            "1/1 [==============================] - 0s 27ms/step\n",
            "1/1 [==============================] - 0s 24ms/step\n",
            "1/1 [==============================] - 0s 23ms/step\n",
            "1/1 [==============================] - 0s 24ms/step\n",
            "1/1 [==============================] - 0s 28ms/step\n",
            "1/1 [==============================] - 0s 25ms/step\n",
            "1/1 [==============================] - 0s 22ms/step\n",
            "1/1 [==============================] - 0s 25ms/step\n",
            "1/1 [==============================] - 0s 22ms/step\n",
            "1/1 [==============================] - 0s 50ms/step\n",
            "1/1 [==============================] - 0s 35ms/step\n",
            "1/1 [==============================] - 0s 35ms/step\n",
            "1/1 [==============================] - 0s 33ms/step\n",
            "1/1 [==============================] - 0s 31ms/step\n",
            "1/1 [==============================] - 0s 23ms/step\n",
            "1/1 [==============================] - 0s 24ms/step\n",
            "1/1 [==============================] - 0s 23ms/step\n",
            "1/1 [==============================] - 0s 23ms/step\n",
            "1/1 [==============================] - 0s 22ms/step\n",
            "1/1 [==============================] - 0s 22ms/step\n",
            "1/1 [==============================] - 0s 23ms/step\n",
            "1/1 [==============================] - 0s 22ms/step\n",
            "1/1 [==============================] - 0s 22ms/step\n",
            "1/1 [==============================] - 0s 23ms/step\n",
            "1/1 [==============================] - 0s 24ms/step\n",
            "1/1 [==============================] - 0s 30ms/step\n",
            "1/1 [==============================] - 0s 23ms/step\n",
            "1/1 [==============================] - 0s 23ms/step\n",
            "1/1 [==============================] - 0s 23ms/step\n",
            "1/1 [==============================] - 0s 25ms/step\n",
            "1/1 [==============================] - 0s 25ms/step\n",
            "1/1 [==============================] - 0s 22ms/step\n",
            "1/1 [==============================] - 0s 26ms/step\n",
            "1/1 [==============================] - 0s 22ms/step\n",
            "1/1 [==============================] - 0s 24ms/step\n",
            "1/1 [==============================] - 0s 24ms/step\n",
            "1/1 [==============================] - 0s 34ms/step\n",
            "1/1 [==============================] - 0s 24ms/step\n",
            "1/1 [==============================] - 0s 24ms/step\n",
            "1/1 [==============================] - 0s 24ms/step\n",
            "1/1 [==============================] - 0s 22ms/step\n",
            "1/1 [==============================] - 0s 33ms/step\n",
            "1/1 [==============================] - 0s 22ms/step\n",
            "1/1 [==============================] - 0s 23ms/step\n",
            "1/1 [==============================] - 0s 21ms/step\n",
            "1/1 [==============================] - 0s 21ms/step\n",
            "1/1 [==============================] - 0s 25ms/step\n",
            "1/1 [==============================] - 0s 25ms/step\n",
            "1/1 [==============================] - 0s 22ms/step\n",
            "1/1 [==============================] - 0s 22ms/step\n",
            "1/1 [==============================] - 0s 22ms/step\n",
            "1/1 [==============================] - 0s 23ms/step\n"
          ]
        }
      ],
      "source": [
        "import numpy as np\n",
        "\n",
        "def get_features_and_labels(dataset):\n",
        "    all_features = []\n",
        "    all_labels = []\n",
        "    for images, labels in dataset:\n",
        "        preprocessed_images = keras.applications.vgg16.preprocess_input(images)\n",
        "        features = conv_base.predict(preprocessed_images)\n",
        "        all_features.append(features)\n",
        "        all_labels.append(labels)\n",
        "    return np.concatenate(all_features), np.concatenate(all_labels)\n",
        "\n",
        "train_features, train_labels = get_features_and_labels(train_dataset)\n",
        "val_features, val_labels = get_features_and_labels(validation_dataset)\n",
        "test_features, test_labels = get_features_and_labels(test_dataset)"
      ]
    },
    {
      "cell_type": "markdown",
      "id": "6a8e85ae-3bc5-4add-a17f-700bdd72f233",
      "metadata": {
        "id": "6a8e85ae-3bc5-4add-a17f-700bdd72f233"
      },
      "source": [
        "## 밀집 연결 분류기 정의하고 훈련하기"
      ]
    },
    {
      "cell_type": "code",
      "execution_count": 15,
      "id": "a1ff8028-671c-43f5-96d0-c8b260563faf",
      "metadata": {
        "execution": {
          "iopub.execute_input": "2022-12-12T03:01:07.488919Z",
          "iopub.status.busy": "2022-12-12T03:01:07.487921Z",
          "iopub.status.idle": "2022-12-12T03:01:07.502881Z",
          "shell.execute_reply": "2022-12-12T03:01:07.501882Z",
          "shell.execute_reply.started": "2022-12-12T03:01:07.488919Z"
        },
        "id": "a1ff8028-671c-43f5-96d0-c8b260563faf"
      },
      "outputs": [],
      "source": [
        "from keras import layers"
      ]
    },
    {
      "cell_type": "code",
      "execution_count": 16,
      "id": "ef03098d-a79c-44d3-ac8a-7b90f5a97b0e",
      "metadata": {
        "execution": {
          "iopub.execute_input": "2022-12-12T03:01:08.627789Z",
          "iopub.status.busy": "2022-12-12T03:01:08.626784Z",
          "iopub.status.idle": "2022-12-12T03:01:49.103703Z",
          "shell.execute_reply": "2022-12-12T03:01:49.103703Z",
          "shell.execute_reply.started": "2022-12-12T03:01:08.627789Z"
        },
        "tags": [],
        "colab": {
          "base_uri": "https://localhost:8080/"
        },
        "id": "ef03098d-a79c-44d3-ac8a-7b90f5a97b0e",
        "outputId": "5ccef3f6-403f-41fa-d5a9-4a310e76edca"
      },
      "outputs": [
        {
          "output_type": "stream",
          "name": "stdout",
          "text": [
            "Epoch 1/20\n",
            "63/63 [==============================] - 1s 11ms/step - loss: 29.0897 - accuracy: 0.9150 - val_loss: 3.4908 - val_accuracy: 0.9740\n",
            "Epoch 2/20\n",
            "63/63 [==============================] - 0s 6ms/step - loss: 3.5324 - accuracy: 0.9770 - val_loss: 4.2555 - val_accuracy: 0.9700\n",
            "Epoch 3/20\n",
            "63/63 [==============================] - 0s 6ms/step - loss: 3.3949 - accuracy: 0.9775 - val_loss: 3.4982 - val_accuracy: 0.9770\n",
            "Epoch 4/20\n",
            "63/63 [==============================] - 0s 6ms/step - loss: 0.8340 - accuracy: 0.9935 - val_loss: 3.6672 - val_accuracy: 0.9800\n",
            "Epoch 5/20\n",
            "63/63 [==============================] - 0s 6ms/step - loss: 0.9188 - accuracy: 0.9930 - val_loss: 4.6066 - val_accuracy: 0.9760\n",
            "Epoch 6/20\n",
            "63/63 [==============================] - 0s 6ms/step - loss: 1.1099 - accuracy: 0.9920 - val_loss: 7.8851 - val_accuracy: 0.9650\n",
            "Epoch 7/20\n",
            "63/63 [==============================] - 0s 6ms/step - loss: 0.2057 - accuracy: 0.9965 - val_loss: 5.8482 - val_accuracy: 0.9730\n",
            "Epoch 8/20\n",
            "63/63 [==============================] - 0s 7ms/step - loss: 0.7849 - accuracy: 0.9950 - val_loss: 5.4499 - val_accuracy: 0.9780\n",
            "Epoch 9/20\n",
            "63/63 [==============================] - 0s 6ms/step - loss: 0.5985 - accuracy: 0.9960 - val_loss: 5.4624 - val_accuracy: 0.9740\n",
            "Epoch 10/20\n",
            "63/63 [==============================] - 0s 7ms/step - loss: 0.3116 - accuracy: 0.9975 - val_loss: 6.8384 - val_accuracy: 0.9680\n",
            "Epoch 11/20\n",
            "63/63 [==============================] - 0s 7ms/step - loss: 0.3976 - accuracy: 0.9965 - val_loss: 6.9727 - val_accuracy: 0.9720\n",
            "Epoch 12/20\n",
            "63/63 [==============================] - 0s 6ms/step - loss: 0.5661 - accuracy: 0.9950 - val_loss: 4.7762 - val_accuracy: 0.9760\n",
            "Epoch 13/20\n",
            "63/63 [==============================] - 0s 7ms/step - loss: 0.1347 - accuracy: 0.9990 - val_loss: 5.0391 - val_accuracy: 0.9770\n",
            "Epoch 14/20\n",
            "63/63 [==============================] - 0s 6ms/step - loss: 0.1998 - accuracy: 0.9975 - val_loss: 5.2399 - val_accuracy: 0.9770\n",
            "Epoch 15/20\n",
            "63/63 [==============================] - 0s 6ms/step - loss: 0.1814 - accuracy: 0.9980 - val_loss: 4.2383 - val_accuracy: 0.9780\n",
            "Epoch 16/20\n",
            "63/63 [==============================] - 0s 8ms/step - loss: 0.1710 - accuracy: 0.9990 - val_loss: 4.3557 - val_accuracy: 0.9780\n",
            "Epoch 17/20\n",
            "63/63 [==============================] - 0s 6ms/step - loss: 8.6782e-04 - accuracy: 0.9995 - val_loss: 5.1752 - val_accuracy: 0.9780\n",
            "Epoch 18/20\n",
            "63/63 [==============================] - 0s 7ms/step - loss: 0.0417 - accuracy: 0.9990 - val_loss: 5.1382 - val_accuracy: 0.9760\n",
            "Epoch 19/20\n",
            "63/63 [==============================] - 0s 6ms/step - loss: 0.2115 - accuracy: 0.9975 - val_loss: 6.9277 - val_accuracy: 0.9730\n",
            "Epoch 20/20\n",
            "63/63 [==============================] - 0s 7ms/step - loss: 0.1345 - accuracy: 0.9990 - val_loss: 5.8740 - val_accuracy: 0.9790\n"
          ]
        }
      ],
      "source": [
        "inputs = keras.Input(shape = (5, 5, 512))\n",
        "x = layers.Flatten()(inputs)\n",
        "x = layers.Dense(256)(x)\n",
        "x = layers.Dropout(0.5)(x)\n",
        "outputs = layers.Dense(1, activation = 'sigmoid')(x)\n",
        "model = keras.Model(inputs, outputs)\n",
        "model.compile(loss = 'binary_crossentropy',\n",
        "             optimizer = 'rmsprop',\n",
        "             metrics = ['accuracy'])\n",
        "\n",
        "callbacks = [\n",
        "    keras.callbacks.ModelCheckpoint(\n",
        "        filepath = 'feature_extraction.keras',\n",
        "        save_best_only = True,\n",
        "        monitor = 'val_loss')\n",
        "]\n",
        "\n",
        "history = model.fit(\n",
        "    train_features, train_labels,\n",
        "    epochs = 20,\n",
        "    validation_data = (val_features, val_labels),\n",
        "    callbacks = callbacks)"
      ]
    },
    {
      "cell_type": "markdown",
      "id": "f03bf397-a4a7-4d2f-a30d-5a5b6a420521",
      "metadata": {
        "id": "f03bf397-a4a7-4d2f-a30d-5a5b6a420521"
      },
      "source": [
        "## 결과를 그래프로 나타내기"
      ]
    },
    {
      "cell_type": "code",
      "execution_count": 17,
      "id": "5fb2f64c-6388-4886-a8f1-3a78ef0a1363",
      "metadata": {
        "execution": {
          "iopub.execute_input": "2022-12-12T03:03:10.653270Z",
          "iopub.status.busy": "2022-12-12T03:03:10.653270Z",
          "iopub.status.idle": "2022-12-12T03:03:10.964138Z",
          "shell.execute_reply": "2022-12-12T03:03:10.964138Z",
          "shell.execute_reply.started": "2022-12-12T03:03:10.653270Z"
        },
        "tags": [],
        "id": "5fb2f64c-6388-4886-a8f1-3a78ef0a1363",
        "outputId": "72863d63-84af-4a35-a837-e5a3c873b7dc",
        "colab": {
          "base_uri": "https://localhost:8080/",
          "height": 168
        }
      },
      "outputs": [
        {
          "output_type": "error",
          "ename": "NameError",
          "evalue": "ignored",
          "traceback": [
            "\u001b[0;31m---------------------------------------------------------------------------\u001b[0m",
            "\u001b[0;31mNameError\u001b[0m                                 Traceback (most recent call last)",
            "\u001b[0;32m<ipython-input-17-4e9c69879ff9>\u001b[0m in \u001b[0;36m<module>\u001b[0;34m\u001b[0m\n\u001b[0;32m----> 1\u001b[0;31m \u001b[0mmodel\u001b[0m\u001b[0;34m.\u001b[0m\u001b[0mevaluate\u001b[0m\u001b[0;34m(\u001b[0m\u001b[0mtest_featrues\u001b[0m\u001b[0;34m,\u001b[0m \u001b[0mtest_labels\u001b[0m\u001b[0;34m)\u001b[0m\u001b[0;34m\u001b[0m\u001b[0;34m\u001b[0m\u001b[0m\n\u001b[0m",
            "\u001b[0;31mNameError\u001b[0m: name 'test_featrues' is not defined"
          ]
        }
      ],
      "source": [
        "model.evaluate(test_featrues, test_labels)"
      ]
    },
    {
      "cell_type": "code",
      "execution_count": 18,
      "id": "8ceb1d55-8cce-4aad-afe5-04f420353f92",
      "metadata": {
        "execution": {
          "iopub.execute_input": "2022-12-12T03:02:06.990058Z",
          "iopub.status.busy": "2022-12-12T03:02:06.990058Z",
          "iopub.status.idle": "2022-12-12T03:02:07.300095Z",
          "shell.execute_reply": "2022-12-12T03:02:07.299099Z",
          "shell.execute_reply.started": "2022-12-12T03:02:06.990058Z"
        },
        "tags": [],
        "id": "8ceb1d55-8cce-4aad-afe5-04f420353f92",
        "outputId": "94625e93-ee7e-441d-bf1e-9bb6e781e0bf",
        "colab": {
          "base_uri": "https://localhost:8080/",
          "height": 545
        }
      },
      "outputs": [
        {
          "output_type": "display_data",
          "data": {
            "text/plain": [
              "<Figure size 432x288 with 1 Axes>"
            ],
            "image/png": "[encoded data removed]"
          },
          "metadata": {
            "needs_background": "light"
          }
        },
        {
          "output_type": "display_data",
          "data": {
            "text/plain": [
              "<Figure size 432x288 with 1 Axes>"
            ],
            "image/png": "[encoded data removed]"
          },
          "metadata": {
            "needs_background": "light"
          }
        }
      ],
      "source": [
        "import matplotlib.pyplot as plt\n",
        "\n",
        "acc = history.history['accuracy']\n",
        "val_acc = history.history['val_accuracy']\n",
        "loss = history.history['loss']\n",
        "val_loss = history.history['val_loss']\n",
        "epochs = range(1, len(acc) + 1)\n",
        "plt.plot(epochs, acc, 'bo', label = 'Training accuracy')\n",
        "plt.plot(epochs, val_acc, 'b', label = 'Validation accuracy')\n",
        "plt.title('Training and validation accuracy')\n",
        "plt.legend()\n",
        "plt.figure()\n",
        "plt.plot(epochs, loss, 'bo', label = 'Training loss')\n",
        "plt.plot(epochs, val_loss, 'b', label = 'Validation loss')\n",
        "plt.title('Training and validation loss')\n",
        "plt.legend()\n",
        "plt.show()"
      ]
    },
    {
      "cell_type": "markdown",
      "id": "715acf88-f940-491f-bfe4-6b7134c4bc7f",
      "metadata": {
        "id": "715acf88-f940-491f-bfe4-6b7134c4bc7f"
      },
      "source": [
        "# 데이터 증식을 사용한 특성 추출"
      ]
    },
    {
      "cell_type": "markdown",
      "id": "a6f5627a-b414-4962-9f04-e010f7f1ceb1",
      "metadata": {
        "id": "a6f5627a-b414-4962-9f04-e010f7f1ceb1"
      },
      "source": [
        "## VGG16 합성곱 기반 층을 만들고 동결하기"
      ]
    },
    {
      "cell_type": "code",
      "execution_count": 19,
      "id": "8d159a28-5178-4d2a-9ca1-2867ff8d79a0",
      "metadata": {
        "execution": {
          "iopub.execute_input": "2022-12-12T03:05:11.014497Z",
          "iopub.status.busy": "2022-12-12T03:05:11.014497Z",
          "iopub.status.idle": "2022-12-12T03:05:11.362621Z",
          "shell.execute_reply": "2022-12-12T03:05:11.362621Z",
          "shell.execute_reply.started": "2022-12-12T03:05:11.014497Z"
        },
        "id": "8d159a28-5178-4d2a-9ca1-2867ff8d79a0"
      },
      "outputs": [],
      "source": [
        "conv_base = keras.applications.vgg16.VGG16(\n",
        "    weights = 'imagenet',\n",
        "    include_top = False)\n",
        "conv_base.trainable = False"
      ]
    },
    {
      "cell_type": "markdown",
      "id": "a1292c3e-1673-4bea-8bdd-3d10687ea6dc",
      "metadata": {
        "id": "a1292c3e-1673-4bea-8bdd-3d10687ea6dc"
      },
      "source": [
        "## 동결하기 전과 후에 훈련 가능한 가중치 리스트 출력하기"
      ]
    },
    {
      "cell_type": "code",
      "execution_count": 20,
      "id": "5dea7b10-eafb-4649-8c8d-8589cf7abc70",
      "metadata": {
        "execution": {
          "iopub.execute_input": "2022-12-12T03:20:30.838854Z",
          "iopub.status.busy": "2022-12-12T03:20:30.838854Z",
          "iopub.status.idle": "2022-12-12T03:20:30.848829Z",
          "shell.execute_reply": "2022-12-12T03:20:30.847832Z",
          "shell.execute_reply.started": "2022-12-12T03:20:30.838854Z"
        },
        "tags": [],
        "colab": {
          "base_uri": "https://localhost:8080/"
        },
        "id": "5dea7b10-eafb-4649-8c8d-8589cf7abc70",
        "outputId": "52ff91c9-020f-432f-bf0a-7a0dc4893738"
      },
      "outputs": [
        {
          "output_type": "stream",
          "name": "stdout",
          "text": [
            "합성곱 기반 층을 동결하기 전의 훈련 가능한 가중치 개수 :  26\n",
            "합성곱 기반 층을 동결한 후의 훈련 가능한 가중치 개수 :  0\n"
          ]
        }
      ],
      "source": [
        "conv_base.trainable = True\n",
        "print('합성곱 기반 층을 동결하기 전의 훈련 가능한 가중치 개수 : ',\n",
        "     len(conv_base.trainable_weights))\n",
        "\n",
        "conv_base.trainable = False\n",
        "print('합성곱 기반 층을 동결한 후의 훈련 가능한 가중치 개수 : ',\n",
        "     len(conv_base.trainable_weights))"
      ]
    },
    {
      "cell_type": "markdown",
      "id": "8541fc8d-70c0-4a89-965b-181225113d66",
      "metadata": {
        "id": "8541fc8d-70c0-4a89-965b-181225113d66"
      },
      "source": [
        "## 데이터 증식 단계와 밀집 분류기를 합성곱 기반 층에 추가하기"
      ]
    },
    {
      "cell_type": "code",
      "execution_count": 21,
      "id": "8eebf5bb-aac0-4c78-9af7-e1bc9a7d5a14",
      "metadata": {
        "execution": {
          "iopub.execute_input": "2022-12-12T03:24:09.936404Z",
          "iopub.status.busy": "2022-12-12T03:24:09.936404Z",
          "iopub.status.idle": "2022-12-12T03:24:11.477620Z",
          "shell.execute_reply": "2022-12-12T03:24:11.476614Z",
          "shell.execute_reply.started": "2022-12-12T03:24:09.936404Z"
        },
        "id": "8eebf5bb-aac0-4c78-9af7-e1bc9a7d5a14"
      },
      "outputs": [],
      "source": [
        "data_augmentation = keras.Sequential(\n",
        "    [\n",
        "        layers.RandomFlip('horizontal'),\n",
        "        layers.RandomRotation(0.1),\n",
        "        layers.RandomZoom(0.2)\n",
        "    ]\n",
        ")\n",
        "\n",
        "inputs = keras.Input(shape = (180, 180, 3))\n",
        "x = data_augmentation(inputs)\n",
        "x = keras.applications.vgg16.preprocess_input(x)\n",
        "x = conv_base(x)\n",
        "x = layers.Flatten()(x)\n",
        "x = layers.Dense(256)(x)\n",
        "x = layers.Dropout(0.5)(x)\n",
        "outputs = layers.Dense(1, activation = 'sigmoid')(x)\n",
        "model = keras.Model(inputs, outputs)\n",
        "model.compile(loss = 'binary_crossentropy',\n",
        "             optimizer = 'rmsprop',\n",
        "             metrics = ['accuracy'])"
      ]
    },
    {
      "cell_type": "code",
      "execution_count": null,
      "id": "5f57f5c3-f6e3-49c9-80ff-28eaef1e20e1",
      "metadata": {
        "execution": {
          "iopub.execute_input": "2022-12-12T05:04:38.659000Z",
          "iopub.status.busy": "2022-12-12T05:04:38.658004Z",
          "iopub.status.idle": "2022-12-12T05:05:30.332600Z",
          "shell.execute_reply": "2022-12-12T05:05:30.329607Z",
          "shell.execute_reply.started": "2022-12-12T05:04:38.659000Z"
        },
        "tags": [],
        "colab": {
          "base_uri": "https://localhost:8080/"
        },
        "id": "5f57f5c3-f6e3-49c9-80ff-28eaef1e20e1",
        "outputId": "ada31175-326a-4497-ad11-4be36155b0a8"
      },
      "outputs": [
        {
          "output_type": "stream",
          "name": "stdout",
          "text": [
            "Epoch 1/50\n",
            "63/63 [==============================] - 14s 202ms/step - loss: 17.3219 - accuracy: 0.8995 - val_loss: 2.9021 - val_accuracy: 0.9790\n",
            "Epoch 2/50\n",
            "63/63 [==============================] - 13s 198ms/step - loss: 7.5096 - accuracy: 0.9435 - val_loss: 4.7002 - val_accuracy: 0.9770\n",
            "Epoch 3/50\n",
            "63/63 [==============================] - 14s 212ms/step - loss: 7.4559 - accuracy: 0.9515 - val_loss: 6.4811 - val_accuracy: 0.9680\n",
            "Epoch 4/50\n",
            "63/63 [==============================] - 13s 201ms/step - loss: 5.3618 - accuracy: 0.9580 - val_loss: 3.7103 - val_accuracy: 0.9790\n",
            "Epoch 5/50\n",
            "63/63 [==============================] - 13s 204ms/step - loss: 4.9807 - accuracy: 0.9600 - val_loss: 4.7062 - val_accuracy: 0.9770\n",
            "Epoch 6/50\n",
            "63/63 [==============================] - 13s 207ms/step - loss: 3.4645 - accuracy: 0.9685 - val_loss: 5.2643 - val_accuracy: 0.9730\n",
            "Epoch 7/50\n",
            "63/63 [==============================] - 13s 207ms/step - loss: 3.0804 - accuracy: 0.9735 - val_loss: 3.2366 - val_accuracy: 0.9820\n",
            "Epoch 8/50\n",
            "63/63 [==============================] - 13s 204ms/step - loss: 3.1807 - accuracy: 0.9700 - val_loss: 4.6472 - val_accuracy: 0.9800\n",
            "Epoch 9/50\n",
            "63/63 [==============================] - 13s 205ms/step - loss: 2.9128 - accuracy: 0.9720 - val_loss: 4.4599 - val_accuracy: 0.9790\n",
            "Epoch 10/50\n",
            "63/63 [==============================] - 13s 207ms/step - loss: 2.7173 - accuracy: 0.9760 - val_loss: 3.5781 - val_accuracy: 0.9810\n",
            "Epoch 11/50\n",
            "63/63 [==============================] - 13s 205ms/step - loss: 3.0931 - accuracy: 0.9700 - val_loss: 4.0688 - val_accuracy: 0.9780\n",
            "Epoch 12/50\n",
            "63/63 [==============================] - 13s 208ms/step - loss: 2.7002 - accuracy: 0.9740 - val_loss: 4.9548 - val_accuracy: 0.9780\n",
            "Epoch 13/50\n",
            "63/63 [==============================] - 13s 202ms/step - loss: 1.9411 - accuracy: 0.9800 - val_loss: 3.8967 - val_accuracy: 0.9800\n",
            "Epoch 14/50\n",
            "63/63 [==============================] - 14s 214ms/step - loss: 1.9703 - accuracy: 0.9775 - val_loss: 3.6073 - val_accuracy: 0.9810\n",
            "Epoch 15/50\n",
            "63/63 [==============================] - 13s 206ms/step - loss: 1.2827 - accuracy: 0.9850 - val_loss: 3.6450 - val_accuracy: 0.9790\n",
            "Epoch 16/50\n",
            "63/63 [==============================] - 13s 205ms/step - loss: 2.2777 - accuracy: 0.9740 - val_loss: 3.9806 - val_accuracy: 0.9790\n",
            "Epoch 17/50\n",
            "63/63 [==============================] - 13s 203ms/step - loss: 2.5773 - accuracy: 0.9675 - val_loss: 4.4742 - val_accuracy: 0.9750\n",
            "Epoch 18/50\n",
            "63/63 [==============================] - 13s 204ms/step - loss: 0.9640 - accuracy: 0.9885 - val_loss: 6.3022 - val_accuracy: 0.9640\n",
            "Epoch 19/50\n",
            "63/63 [==============================] - 13s 207ms/step - loss: 1.7258 - accuracy: 0.9800 - val_loss: 3.1217 - val_accuracy: 0.9800\n",
            "Epoch 20/50\n",
            "63/63 [==============================] - 13s 204ms/step - loss: 1.0987 - accuracy: 0.9815 - val_loss: 3.9362 - val_accuracy: 0.9770\n"
          ]
        }
      ],
      "source": [
        "callbacks = [\n",
        "    keras.callbacks.ModelCheckpoint(\n",
        "        filepath = 'feature_extraction_with_data_augmentation.keras',\n",
        "        save_best_only = True,\n",
        "        monitor = 'val_loss')\n",
        "]\n",
        "\n",
        "history = model.fit(\n",
        "    train_dataset,\n",
        "    epochs = 50,\n",
        "    validation_data = validation_dataset,\n",
        "    callbacks = callbacks)"
      ]
    },
    {
      "cell_type": "code",
      "execution_count": null,
      "id": "98aad0b2-4c69-46b1-b02a-131ffa1c78a8",
      "metadata": {
        "id": "98aad0b2-4c69-46b1-b02a-131ffa1c78a8"
      },
      "outputs": [],
      "source": []
    }
  ],
  "metadata": {
    "kernelspec": {
      "display_name": "Python 3 (ipykernel)",
      "language": "python",
      "name": "python3"
    },
    "language_info": {
      "codemirror_mode": {
        "name": "ipython",
        "version": 3
      },
      "file_extension": ".py",
      "mimetype": "text/x-python",
      "name": "python",
      "nbconvert_exporter": "python",
      "pygments_lexer": "ipython3",
      "version": "3.9.7"
    },
    "colab": {
      "provenance": [],
      "include_colab_link": true
    },
    "gpuClass": "standard",
    "accelerator": "GPU"
  },
  "nbformat": 4,
  "nbformat_minor": 5
}